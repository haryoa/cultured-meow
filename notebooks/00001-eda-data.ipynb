{
 "cells": [
  {
   "cell_type": "code",
   "execution_count": 1,
   "metadata": {},
   "outputs": [
    {
     "name": "stdout",
     "output_type": "stream",
     "text": [
      "/home/haryoaw/documents/courses/nlp804/project\n"
     ]
    }
   ],
   "source": [
    "%cd .."
   ]
  },
  {
   "cell_type": "code",
   "execution_count": 2,
   "metadata": {},
   "outputs": [],
   "source": [
    "import pandas as pd"
   ]
  },
  {
   "cell_type": "code",
   "execution_count": 3,
   "metadata": {},
   "outputs": [
    {
     "data": {
      "text/plain": [
       "Index(['version', 'doi', 'S002VS', 'S003', 'COUNTRY_ALPHA', 'COW_NUM',\n",
       "       'COW_ALPHA', 'S004', 'S006', 'S007',\n",
       "       ...\n",
       "       'Y023A', 'Y023B', 'Y023C', 'Y024A', 'Y024B', 'Y024C', 'survself',\n",
       "       'tradrat5', 'TradAgg', 'SurvSAgg'],\n",
       "      dtype='object', length=1045)"
      ]
     },
     "execution_count": 3,
     "metadata": {},
     "output_type": "execute_result"
    }
   ],
   "source": [
    "df_verbbose = pd.read_csv(\"play2/wvs7.csv\")\n",
    "df_verbbose.columns"
   ]
  },
  {
   "cell_type": "code",
   "execution_count": 4,
   "metadata": {},
   "outputs": [
    {
     "data": {
      "text/html": [
       "<div>\n",
       "<style scoped>\n",
       "    .dataframe tbody tr th:only-of-type {\n",
       "        vertical-align: middle;\n",
       "    }\n",
       "\n",
       "    .dataframe tbody tr th {\n",
       "        vertical-align: top;\n",
       "    }\n",
       "\n",
       "    .dataframe thead th {\n",
       "        text-align: right;\n",
       "    }\n",
       "</style>\n",
       "<table border=\"1\" class=\"dataframe\">\n",
       "  <thead>\n",
       "    <tr style=\"text-align: right;\">\n",
       "      <th></th>\n",
       "      <th>version</th>\n",
       "      <th>doi</th>\n",
       "      <th>S002VS</th>\n",
       "      <th>S003</th>\n",
       "      <th>COUNTRY_ALPHA</th>\n",
       "      <th>COW_NUM</th>\n",
       "      <th>COW_ALPHA</th>\n",
       "      <th>S004</th>\n",
       "      <th>S006</th>\n",
       "      <th>S007</th>\n",
       "      <th>...</th>\n",
       "      <th>Y023A</th>\n",
       "      <th>Y023B</th>\n",
       "      <th>Y023C</th>\n",
       "      <th>Y024A</th>\n",
       "      <th>Y024B</th>\n",
       "      <th>Y024C</th>\n",
       "      <th>survself</th>\n",
       "      <th>tradrat5</th>\n",
       "      <th>TradAgg</th>\n",
       "      <th>SurvSAgg</th>\n",
       "    </tr>\n",
       "  </thead>\n",
       "  <tbody>\n",
       "    <tr>\n",
       "      <th>85236</th>\n",
       "      <td>4-0-0</td>\n",
       "      <td>doi:10.14281/18241.22</td>\n",
       "      <td>7</td>\n",
       "      <td>818</td>\n",
       "      <td>EGY</td>\n",
       "      <td>651</td>\n",
       "      <td>EGY</td>\n",
       "      <td>-4</td>\n",
       "      <td>818070001</td>\n",
       "      <td>818720001</td>\n",
       "      <td>...</td>\n",
       "      <td>NaN</td>\n",
       "      <td>0.000000</td>\n",
       "      <td>1.000000</td>\n",
       "      <td>0.33</td>\n",
       "      <td>0.0</td>\n",
       "      <td>0.165</td>\n",
       "      <td>NaN</td>\n",
       "      <td>NaN</td>\n",
       "      <td>NaN</td>\n",
       "      <td>NaN</td>\n",
       "    </tr>\n",
       "    <tr>\n",
       "      <th>85237</th>\n",
       "      <td>4-0-0</td>\n",
       "      <td>doi:10.14281/18241.22</td>\n",
       "      <td>7</td>\n",
       "      <td>818</td>\n",
       "      <td>EGY</td>\n",
       "      <td>651</td>\n",
       "      <td>EGY</td>\n",
       "      <td>-4</td>\n",
       "      <td>818070002</td>\n",
       "      <td>818720002</td>\n",
       "      <td>...</td>\n",
       "      <td>NaN</td>\n",
       "      <td>0.222222</td>\n",
       "      <td>0.777778</td>\n",
       "      <td>0.66</td>\n",
       "      <td>0.0</td>\n",
       "      <td>0.330</td>\n",
       "      <td>NaN</td>\n",
       "      <td>NaN</td>\n",
       "      <td>NaN</td>\n",
       "      <td>NaN</td>\n",
       "    </tr>\n",
       "    <tr>\n",
       "      <th>85238</th>\n",
       "      <td>4-0-0</td>\n",
       "      <td>doi:10.14281/18241.22</td>\n",
       "      <td>7</td>\n",
       "      <td>818</td>\n",
       "      <td>EGY</td>\n",
       "      <td>651</td>\n",
       "      <td>EGY</td>\n",
       "      <td>-4</td>\n",
       "      <td>818070003</td>\n",
       "      <td>818720003</td>\n",
       "      <td>...</td>\n",
       "      <td>NaN</td>\n",
       "      <td>0.000000</td>\n",
       "      <td>0.777778</td>\n",
       "      <td>0.00</td>\n",
       "      <td>0.0</td>\n",
       "      <td>0.000</td>\n",
       "      <td>NaN</td>\n",
       "      <td>NaN</td>\n",
       "      <td>NaN</td>\n",
       "      <td>NaN</td>\n",
       "    </tr>\n",
       "    <tr>\n",
       "      <th>85239</th>\n",
       "      <td>4-0-0</td>\n",
       "      <td>doi:10.14281/18241.22</td>\n",
       "      <td>7</td>\n",
       "      <td>818</td>\n",
       "      <td>EGY</td>\n",
       "      <td>651</td>\n",
       "      <td>EGY</td>\n",
       "      <td>-4</td>\n",
       "      <td>818070004</td>\n",
       "      <td>818720004</td>\n",
       "      <td>...</td>\n",
       "      <td>NaN</td>\n",
       "      <td>0.000000</td>\n",
       "      <td>0.777778</td>\n",
       "      <td>0.00</td>\n",
       "      <td>0.0</td>\n",
       "      <td>0.000</td>\n",
       "      <td>NaN</td>\n",
       "      <td>NaN</td>\n",
       "      <td>NaN</td>\n",
       "      <td>NaN</td>\n",
       "    </tr>\n",
       "    <tr>\n",
       "      <th>85240</th>\n",
       "      <td>4-0-0</td>\n",
       "      <td>doi:10.14281/18241.22</td>\n",
       "      <td>7</td>\n",
       "      <td>818</td>\n",
       "      <td>EGY</td>\n",
       "      <td>651</td>\n",
       "      <td>EGY</td>\n",
       "      <td>-4</td>\n",
       "      <td>818070005</td>\n",
       "      <td>818720005</td>\n",
       "      <td>...</td>\n",
       "      <td>NaN</td>\n",
       "      <td>0.444444</td>\n",
       "      <td>0.444444</td>\n",
       "      <td>0.00</td>\n",
       "      <td>0.0</td>\n",
       "      <td>0.000</td>\n",
       "      <td>NaN</td>\n",
       "      <td>NaN</td>\n",
       "      <td>NaN</td>\n",
       "      <td>NaN</td>\n",
       "    </tr>\n",
       "    <tr>\n",
       "      <th>...</th>\n",
       "      <td>...</td>\n",
       "      <td>...</td>\n",
       "      <td>...</td>\n",
       "      <td>...</td>\n",
       "      <td>...</td>\n",
       "      <td>...</td>\n",
       "      <td>...</td>\n",
       "      <td>...</td>\n",
       "      <td>...</td>\n",
       "      <td>...</td>\n",
       "      <td>...</td>\n",
       "      <td>...</td>\n",
       "      <td>...</td>\n",
       "      <td>...</td>\n",
       "      <td>...</td>\n",
       "      <td>...</td>\n",
       "      <td>...</td>\n",
       "      <td>...</td>\n",
       "      <td>...</td>\n",
       "      <td>...</td>\n",
       "      <td>...</td>\n",
       "    </tr>\n",
       "    <tr>\n",
       "      <th>86431</th>\n",
       "      <td>4-0-0</td>\n",
       "      <td>doi:10.14281/18241.22</td>\n",
       "      <td>7</td>\n",
       "      <td>818</td>\n",
       "      <td>EGY</td>\n",
       "      <td>651</td>\n",
       "      <td>EGY</td>\n",
       "      <td>-4</td>\n",
       "      <td>818071196</td>\n",
       "      <td>818721196</td>\n",
       "      <td>...</td>\n",
       "      <td>NaN</td>\n",
       "      <td>0.000000</td>\n",
       "      <td>0.555556</td>\n",
       "      <td>0.33</td>\n",
       "      <td>0.0</td>\n",
       "      <td>0.165</td>\n",
       "      <td>NaN</td>\n",
       "      <td>NaN</td>\n",
       "      <td>NaN</td>\n",
       "      <td>NaN</td>\n",
       "    </tr>\n",
       "    <tr>\n",
       "      <th>86432</th>\n",
       "      <td>4-0-0</td>\n",
       "      <td>doi:10.14281/18241.22</td>\n",
       "      <td>7</td>\n",
       "      <td>818</td>\n",
       "      <td>EGY</td>\n",
       "      <td>651</td>\n",
       "      <td>EGY</td>\n",
       "      <td>-4</td>\n",
       "      <td>818071197</td>\n",
       "      <td>818721197</td>\n",
       "      <td>...</td>\n",
       "      <td>NaN</td>\n",
       "      <td>0.222222</td>\n",
       "      <td>0.444444</td>\n",
       "      <td>0.00</td>\n",
       "      <td>0.5</td>\n",
       "      <td>0.250</td>\n",
       "      <td>NaN</td>\n",
       "      <td>NaN</td>\n",
       "      <td>NaN</td>\n",
       "      <td>NaN</td>\n",
       "    </tr>\n",
       "    <tr>\n",
       "      <th>86433</th>\n",
       "      <td>4-0-0</td>\n",
       "      <td>doi:10.14281/18241.22</td>\n",
       "      <td>7</td>\n",
       "      <td>818</td>\n",
       "      <td>EGY</td>\n",
       "      <td>651</td>\n",
       "      <td>EGY</td>\n",
       "      <td>-4</td>\n",
       "      <td>818071198</td>\n",
       "      <td>818721198</td>\n",
       "      <td>...</td>\n",
       "      <td>NaN</td>\n",
       "      <td>0.444444</td>\n",
       "      <td>0.333333</td>\n",
       "      <td>0.33</td>\n",
       "      <td>0.5</td>\n",
       "      <td>0.415</td>\n",
       "      <td>NaN</td>\n",
       "      <td>NaN</td>\n",
       "      <td>NaN</td>\n",
       "      <td>NaN</td>\n",
       "    </tr>\n",
       "    <tr>\n",
       "      <th>86434</th>\n",
       "      <td>4-0-0</td>\n",
       "      <td>doi:10.14281/18241.22</td>\n",
       "      <td>7</td>\n",
       "      <td>818</td>\n",
       "      <td>EGY</td>\n",
       "      <td>651</td>\n",
       "      <td>EGY</td>\n",
       "      <td>-4</td>\n",
       "      <td>818071199</td>\n",
       "      <td>818721199</td>\n",
       "      <td>...</td>\n",
       "      <td>NaN</td>\n",
       "      <td>0.444444</td>\n",
       "      <td>0.555556</td>\n",
       "      <td>0.00</td>\n",
       "      <td>0.0</td>\n",
       "      <td>0.000</td>\n",
       "      <td>NaN</td>\n",
       "      <td>NaN</td>\n",
       "      <td>NaN</td>\n",
       "      <td>NaN</td>\n",
       "    </tr>\n",
       "    <tr>\n",
       "      <th>86435</th>\n",
       "      <td>4-0-0</td>\n",
       "      <td>doi:10.14281/18241.22</td>\n",
       "      <td>7</td>\n",
       "      <td>818</td>\n",
       "      <td>EGY</td>\n",
       "      <td>651</td>\n",
       "      <td>EGY</td>\n",
       "      <td>-4</td>\n",
       "      <td>818071200</td>\n",
       "      <td>818721200</td>\n",
       "      <td>...</td>\n",
       "      <td>NaN</td>\n",
       "      <td>0.000000</td>\n",
       "      <td>0.777778</td>\n",
       "      <td>0.00</td>\n",
       "      <td>0.0</td>\n",
       "      <td>0.000</td>\n",
       "      <td>NaN</td>\n",
       "      <td>NaN</td>\n",
       "      <td>NaN</td>\n",
       "      <td>NaN</td>\n",
       "    </tr>\n",
       "  </tbody>\n",
       "</table>\n",
       "<p>1200 rows × 1045 columns</p>\n",
       "</div>"
      ],
      "text/plain": [
       "      version                    doi  S002VS  S003 COUNTRY_ALPHA  COW_NUM  \\\n",
       "85236   4-0-0  doi:10.14281/18241.22       7   818           EGY      651   \n",
       "85237   4-0-0  doi:10.14281/18241.22       7   818           EGY      651   \n",
       "85238   4-0-0  doi:10.14281/18241.22       7   818           EGY      651   \n",
       "85239   4-0-0  doi:10.14281/18241.22       7   818           EGY      651   \n",
       "85240   4-0-0  doi:10.14281/18241.22       7   818           EGY      651   \n",
       "...       ...                    ...     ...   ...           ...      ...   \n",
       "86431   4-0-0  doi:10.14281/18241.22       7   818           EGY      651   \n",
       "86432   4-0-0  doi:10.14281/18241.22       7   818           EGY      651   \n",
       "86433   4-0-0  doi:10.14281/18241.22       7   818           EGY      651   \n",
       "86434   4-0-0  doi:10.14281/18241.22       7   818           EGY      651   \n",
       "86435   4-0-0  doi:10.14281/18241.22       7   818           EGY      651   \n",
       "\n",
       "      COW_ALPHA  S004       S006       S007  ...  Y023A     Y023B     Y023C  \\\n",
       "85236       EGY    -4  818070001  818720001  ...    NaN  0.000000  1.000000   \n",
       "85237       EGY    -4  818070002  818720002  ...    NaN  0.222222  0.777778   \n",
       "85238       EGY    -4  818070003  818720003  ...    NaN  0.000000  0.777778   \n",
       "85239       EGY    -4  818070004  818720004  ...    NaN  0.000000  0.777778   \n",
       "85240       EGY    -4  818070005  818720005  ...    NaN  0.444444  0.444444   \n",
       "...         ...   ...        ...        ...  ...    ...       ...       ...   \n",
       "86431       EGY    -4  818071196  818721196  ...    NaN  0.000000  0.555556   \n",
       "86432       EGY    -4  818071197  818721197  ...    NaN  0.222222  0.444444   \n",
       "86433       EGY    -4  818071198  818721198  ...    NaN  0.444444  0.333333   \n",
       "86434       EGY    -4  818071199  818721199  ...    NaN  0.444444  0.555556   \n",
       "86435       EGY    -4  818071200  818721200  ...    NaN  0.000000  0.777778   \n",
       "\n",
       "       Y024A  Y024B  Y024C  survself  tradrat5  TradAgg  SurvSAgg  \n",
       "85236   0.33    0.0  0.165       NaN       NaN      NaN       NaN  \n",
       "85237   0.66    0.0  0.330       NaN       NaN      NaN       NaN  \n",
       "85238   0.00    0.0  0.000       NaN       NaN      NaN       NaN  \n",
       "85239   0.00    0.0  0.000       NaN       NaN      NaN       NaN  \n",
       "85240   0.00    0.0  0.000       NaN       NaN      NaN       NaN  \n",
       "...      ...    ...    ...       ...       ...      ...       ...  \n",
       "86431   0.33    0.0  0.165       NaN       NaN      NaN       NaN  \n",
       "86432   0.00    0.5  0.250       NaN       NaN      NaN       NaN  \n",
       "86433   0.33    0.5  0.415       NaN       NaN      NaN       NaN  \n",
       "86434   0.00    0.0  0.000       NaN       NaN      NaN       NaN  \n",
       "86435   0.00    0.0  0.000       NaN       NaN      NaN       NaN  \n",
       "\n",
       "[1200 rows x 1045 columns]"
      ]
     },
     "execution_count": 4,
     "metadata": {},
     "output_type": "execute_result"
    }
   ],
   "source": [
    "df_verbbose[df_verbbose['COUNTRY_ALPHA'] == \"EGY\"]"
   ]
  },
  {
   "cell_type": "code",
   "execution_count": 5,
   "metadata": {},
   "outputs": [],
   "source": [
    "# NIGERIA == 566\n",
    "# Indonesia == 360\n",
    "# China == 156\n",
    "# India == 356\n",
    "# USA == 2\n",
    "# Russia == 643\n",
    "# Ecuador == 218\n",
    "# Egypt == 818\n"
   ]
  },
  {
   "cell_type": "code",
   "execution_count": 6,
   "metadata": {},
   "outputs": [],
   "source": [
    "s03_code = [566, 360, 156, 840, 643, 218, 818]\n",
    "country_column = [\"Nigeria\", \"Indonesia\", \"China\", \"USA\", \"Russia\", \"Ecuador\", \"Egypt\"]\n",
    "columns_to_plot = [\n",
    "    'A008',\n",
    "    'A165',\n",
    "    'E018',\n",
    "    'E025',\n",
    "    'F063',\n",
    "    'F118',\n",
    "    'F120',\n",
    "    'G006',\n",
    "    'Y003',\n",
    "    'Y002',\n",
    "]\n",
    "\n",
    "\n",
    "df_filtered = df_verbbose[columns_to_plot]"
   ]
  },
  {
   "cell_type": "code",
   "execution_count": 7,
   "metadata": {},
   "outputs": [
    {
     "data": {
      "text/plain": [
       "0        0\n",
       "1       -1\n",
       "2        2\n",
       "3        0\n",
       "4        1\n",
       "        ..\n",
       "94273   -1\n",
       "94274    1\n",
       "94275   -1\n",
       "94276    1\n",
       "94277    0\n",
       "Name: Y003, Length: 94278, dtype: int64"
      ]
     },
     "execution_count": 7,
     "metadata": {},
     "output_type": "execute_result"
    }
   ],
   "source": [
    "df_filtered.Y003"
   ]
  },
  {
   "cell_type": "code",
   "execution_count": 311,
   "metadata": {},
   "outputs": [],
   "source": [
    "s03_code = [566, 360, 156, 840, 643, 218, 818]\n",
    "country_column = [\"Nigeria\", \"Indonesia\", \"China\", \"USA\", \"Russia\", \"Ecuador\", \"Egypt\"]\n",
    "columns_to_plot = [\n",
    "    'A008',\n",
    "    'A165',\n",
    "    'E018',\n",
    "    'E025',\n",
    "    'F063',\n",
    "    'F118',\n",
    "    'F120',\n",
    "    'G006',\n",
    "    'Y003',\n",
    "    'Y002'\n",
    "]\n",
    "\n",
    "df_aggregated_real = pd.DataFrame()\n",
    "\n",
    "for code in s03_code:\n",
    "    df_filtered = df_verbbose[df_verbbose['S003'] == code][columns_to_plot]\n",
    "    # add y002 by 2 \n",
    "    df_filtered['Y003'] = df_filtered['Y003'] + 2\n",
    "    df_filtered = df_filtered.apply(lambda x: x.mask(x < 0))\n",
    "    df_filtered['Y003'] = df_filtered['Y003'] - 2\n",
    "    df_filtered = df_filtered.mean()\n",
    "    df_aggregated_real = pd.concat([df_aggregated_real, df_filtered], axis=1)\n",
    "df_aggregated_real.columns = country_column\n",
    "\n",
    "\n",
    "\"\"\"\n",
    "happiness-q46: Secara umum, apakah saudara mengatakan bahwa saudara adalah \\n 1. Sangat bahagia, 2. Cukup bahagia, 3. Tidak terlalu bahagia, 4. Tidak bahagia sama sekali\n",
    "trust-q57: Secara umum, menurut saudara apakah kebanyakan orang bisa dipercaya atau saudara merasa harus hati-hati jika berhadapan dengan orang lain? \\n 1. Kebanyakan orang bisa dipercaya 2. Harus hati-hati\n",
    "authority-q45: Saya akan membacakan beberapa perubahan cara hidup yang mungkin terjadi dalam waktu dekat. Menurut pendapat saudara jika perubahan itu benar terjadi, apakah akan menjadi hal yang baik, buruk atau tidak peduli. Penghargaan yang lebih besar terhadap penguasa. \\n 1. Baik 2. Tidak peduli 3. Buruk\n",
    "petition-q209: Saya akan membacakan beberapa tindakan politik yang bisa dilakukan oleh seseorang. Manakah dari tindakan berikut yang I/B/S pernah melakukan, mungkin akan melakukan, atau tidak akan pernah melakukan? Mendatangi petisi \\n 1. Pernah melakukan 2. Mungkin akan melakukan 3. Tidak akan pernah melakukan\n",
    "god-q164: Seberapa penting Tuhan dalam hidup I/B/S? Gunakan angka skala 1-10 dimana 10 berarti sangat penting dan 1 berarti tidak penting sama sekali. 1 2 3 4 5 6 7 8 9 10\n",
    "homosexuality-q182: Dari tindakan-tindakan dibawah ini, menurut I/B/S tindakan manakah yang selalu bisa dibenarkan, tidak pernah bisa dibenarkan atau diantara keduanya? Homoseksual (hubungan sesama jenis) (1 Tidak pernah bisa dibenarkan - 10 Selalu bisa dibenarkan) 1 2 3 4 5 6 7 8 9 10\n",
    "abortion-q184: Dari tindakan-tindakan dibawah ini, menurut I/B/S tindakan manakah yang selalu bisa dibenarkan, tidak pernah bisa dibenarkan atau diantara keduanya? Aborsi (hubungan sesama jenis) (1 Tidak pernah bisa dibenarkan - 10 Selalu bisa dibenarkan) 1 2 3 4 5 6 7 8 9 10\n",
    "proud-q254: Seberapa bangga saudara menjadi warga negara {country}? 1. Sangat bangga 2. Cukup bangga 3. Tidak terlalu bangga 4. Tidak bangga sama sekali\n",
    "child-obey1-q8: Berikut ini adalah daftar dimana anak-anak dapat didorong untuk mempelajarinya di rumah. Jika ada, yang mana menurut I/B/S penting? PILIH MAKSIMAL LIMA SAJA \\n 1. Perilaku yang baik 2. Kemandirian 3. Bekerja keras 4. Bertanggung jawab 5. Berimajinasi 6. Tenggang rasa dan menghargai orang lain 7. Hemat 8. Tekun 9. Taat pada agama 10. Tidak mementingkan diri sendiri 11. Patuh\n",
    "materialistic-q155: Jika Saudara harus memilih salah satu hal yang tertulis di kartu ini, manakah yang menurut Saudara paling penting? Dan manakah yang menurut I/B/S paling penting yang kedua? Jawab dengan memilih dua pilihan! \\n 1. Menjaga ketertiban bangsa 2. Memberi kesempatan yang lebih besar pada masyarakat terlibat dalam keputusan pemerintah 3. Melawan kenaikan harga 4. Melindungi kebebasan berbicara\n",
    "\"\"\"\n",
    "indexes = [\n",
    "    \"happiness-q46\",\n",
    "    \"trust-q57\",\n",
    "    \"authority-q45\",\n",
    "    \"petition-q209\",\n",
    "    \"god-q164\",\n",
    "    \"homosexuality-q182\",\n",
    "    \"abortion-q184\",\n",
    "    \"proud-q254\",\n",
    "    \"child-obey1-q8\",\n",
    "    \"materialistic-q155\",\n",
    "]"
   ]
  },
  {
   "cell_type": "code",
   "execution_count": 312,
   "metadata": {},
   "outputs": [],
   "source": [
    "df_aggregated_real.index = indexes"
   ]
  },
  {
   "cell_type": "code",
   "execution_count": 313,
   "metadata": {},
   "outputs": [
    {
     "data": {
      "text/html": [
       "<div>\n",
       "<style scoped>\n",
       "    .dataframe tbody tr th:only-of-type {\n",
       "        vertical-align: middle;\n",
       "    }\n",
       "\n",
       "    .dataframe tbody tr th {\n",
       "        vertical-align: top;\n",
       "    }\n",
       "\n",
       "    .dataframe thead th {\n",
       "        text-align: right;\n",
       "    }\n",
       "</style>\n",
       "<table border=\"1\" class=\"dataframe\">\n",
       "  <thead>\n",
       "    <tr style=\"text-align: right;\">\n",
       "      <th></th>\n",
       "      <th>Nigeria</th>\n",
       "      <th>Indonesia</th>\n",
       "      <th>China</th>\n",
       "      <th>USA</th>\n",
       "      <th>Russia</th>\n",
       "      <th>Ecuador</th>\n",
       "      <th>Egypt</th>\n",
       "    </tr>\n",
       "  </thead>\n",
       "  <tbody>\n",
       "    <tr>\n",
       "      <th>happiness-q46</th>\n",
       "      <td>1.891322</td>\n",
       "      <td>1.629572</td>\n",
       "      <td>1.850741</td>\n",
       "      <td>1.882148</td>\n",
       "      <td>2.019329</td>\n",
       "      <td>1.501695</td>\n",
       "      <td>2.273561</td>\n",
       "    </tr>\n",
       "    <tr>\n",
       "      <th>trust-q57</th>\n",
       "      <td>1.873171</td>\n",
       "      <td>1.948109</td>\n",
       "      <td>1.345630</td>\n",
       "      <td>1.602629</td>\n",
       "      <td>1.760907</td>\n",
       "      <td>1.941376</td>\n",
       "      <td>1.926483</td>\n",
       "    </tr>\n",
       "    <tr>\n",
       "      <th>authority-q45</th>\n",
       "      <td>1.099676</td>\n",
       "      <td>1.909033</td>\n",
       "      <td>1.568575</td>\n",
       "      <td>1.564341</td>\n",
       "      <td>1.558504</td>\n",
       "      <td>1.121644</td>\n",
       "      <td>1.310219</td>\n",
       "    </tr>\n",
       "    <tr>\n",
       "      <th>petition-q209</th>\n",
       "      <td>2.590986</td>\n",
       "      <td>2.632422</td>\n",
       "      <td>2.406903</td>\n",
       "      <td>1.459743</td>\n",
       "      <td>2.433158</td>\n",
       "      <td>2.378608</td>\n",
       "      <td>2.827468</td>\n",
       "    </tr>\n",
       "    <tr>\n",
       "      <th>god-q164</th>\n",
       "      <td>9.459984</td>\n",
       "      <td>9.770938</td>\n",
       "      <td>2.803306</td>\n",
       "      <td>6.717611</td>\n",
       "      <td>6.293124</td>\n",
       "      <td>9.233333</td>\n",
       "      <td>9.957358</td>\n",
       "    </tr>\n",
       "    <tr>\n",
       "      <th>homosexuality-q182</th>\n",
       "      <td>1.500000</td>\n",
       "      <td>1.610223</td>\n",
       "      <td>2.318017</td>\n",
       "      <td>6.496865</td>\n",
       "      <td>2.604513</td>\n",
       "      <td>3.704605</td>\n",
       "      <td>NaN</td>\n",
       "    </tr>\n",
       "    <tr>\n",
       "      <th>abortion-q184</th>\n",
       "      <td>1.708706</td>\n",
       "      <td>1.576261</td>\n",
       "      <td>2.437231</td>\n",
       "      <td>5.067004</td>\n",
       "      <td>4.576856</td>\n",
       "      <td>2.550126</td>\n",
       "      <td>2.061603</td>\n",
       "    </tr>\n",
       "    <tr>\n",
       "      <th>proud-q254</th>\n",
       "      <td>1.428803</td>\n",
       "      <td>1.219962</td>\n",
       "      <td>1.639454</td>\n",
       "      <td>1.844383</td>\n",
       "      <td>1.653212</td>\n",
       "      <td>1.183725</td>\n",
       "      <td>1.578727</td>\n",
       "    </tr>\n",
       "    <tr>\n",
       "      <th>child-obey1-q8</th>\n",
       "      <td>-0.774454</td>\n",
       "      <td>-0.283438</td>\n",
       "      <td>0.927201</td>\n",
       "      <td>0.452546</td>\n",
       "      <td>0.444751</td>\n",
       "      <td>-0.680833</td>\n",
       "      <td>-1.122602</td>\n",
       "    </tr>\n",
       "    <tr>\n",
       "      <th>materialistic-q155</th>\n",
       "      <td>1.799153</td>\n",
       "      <td>1.833808</td>\n",
       "      <td>1.544902</td>\n",
       "      <td>2.125100</td>\n",
       "      <td>1.505413</td>\n",
       "      <td>1.866779</td>\n",
       "      <td>1.286815</td>\n",
       "    </tr>\n",
       "  </tbody>\n",
       "</table>\n",
       "</div>"
      ],
      "text/plain": [
       "                     Nigeria  Indonesia     China       USA    Russia  \\\n",
       "happiness-q46       1.891322   1.629572  1.850741  1.882148  2.019329   \n",
       "trust-q57           1.873171   1.948109  1.345630  1.602629  1.760907   \n",
       "authority-q45       1.099676   1.909033  1.568575  1.564341  1.558504   \n",
       "petition-q209       2.590986   2.632422  2.406903  1.459743  2.433158   \n",
       "god-q164            9.459984   9.770938  2.803306  6.717611  6.293124   \n",
       "homosexuality-q182  1.500000   1.610223  2.318017  6.496865  2.604513   \n",
       "abortion-q184       1.708706   1.576261  2.437231  5.067004  4.576856   \n",
       "proud-q254          1.428803   1.219962  1.639454  1.844383  1.653212   \n",
       "child-obey1-q8     -0.774454  -0.283438  0.927201  0.452546  0.444751   \n",
       "materialistic-q155  1.799153   1.833808  1.544902  2.125100  1.505413   \n",
       "\n",
       "                     Ecuador     Egypt  \n",
       "happiness-q46       1.501695  2.273561  \n",
       "trust-q57           1.941376  1.926483  \n",
       "authority-q45       1.121644  1.310219  \n",
       "petition-q209       2.378608  2.827468  \n",
       "god-q164            9.233333  9.957358  \n",
       "homosexuality-q182  3.704605       NaN  \n",
       "abortion-q184       2.550126  2.061603  \n",
       "proud-q254          1.183725  1.578727  \n",
       "child-obey1-q8     -0.680833 -1.122602  \n",
       "materialistic-q155  1.866779  1.286815  "
      ]
     },
     "execution_count": 313,
     "metadata": {},
     "output_type": "execute_result"
    }
   ],
   "source": [
    "df_aggregated_real"
   ]
  },
  {
   "cell_type": "code",
   "execution_count": 314,
   "metadata": {},
   "outputs": [],
   "source": [
    "df_aggregated_real = df_aggregated_real.fillna(0)"
   ]
  },
  {
   "cell_type": "code",
   "execution_count": 400,
   "metadata": {},
   "outputs": [],
   "source": [
    "df_aggregated_real.to_csv(\"data/real_survey_answers.csv\")"
   ]
  },
  {
   "cell_type": "code",
   "execution_count": 315,
   "metadata": {},
   "outputs": [],
   "source": [
    "from survey_llm.post_preprocess import create_csv_given_json_answer"
   ]
  },
  {
   "cell_type": "code",
   "execution_count": 316,
   "metadata": {},
   "outputs": [],
   "source": [
    "create_csv_given_json_answer(\"scores/real_scores.csv\", \"survey_output/*.json\")"
   ]
  },
  {
   "cell_type": "code",
   "execution_count": 317,
   "metadata": {},
   "outputs": [],
   "source": [
    "# min_max\n",
    "normalization = {\n",
    "    \"happiness-q46\": [1,4],\n",
    "    \"trust-q57\": [1,2],\n",
    "    \"authority-q45\": [1,3],\n",
    "    \"petition-q209\": [1,3],\n",
    "    \"god-q164\": [1,10],\n",
    "    \"homosexuality-q182\": [1, 10],\n",
    "    \"abortion-q184\": [1,10],\n",
    "    \"proud-q254\": [1,4],\n",
    "    \"child-obey1-q8\": [-2,2],\n",
    "    \"materialistic-q155\": [1,3]\n",
    "}"
   ]
  },
  {
   "cell_type": "code",
   "execution_count": 318,
   "metadata": {},
   "outputs": [],
   "source": [
    "df_llm_scores = pd.read_csv(\"scores/real_scores.csv\")"
   ]
  },
  {
   "cell_type": "code",
   "execution_count": 319,
   "metadata": {},
   "outputs": [
    {
     "data": {
      "text/plain": [
       "Index(['Question', 'non-en-SAILOR-prompt3', 'ind-MISTRAL-prompt1',\n",
       "       'ecu-SAILOR-prompt2', 'hau-QWEN-prompt1', 'egp-QWEN-prompt1',\n",
       "       'non-id-MISTRAL-prompt2', 'non-rus-GEMMA-prompt1', 'hau-SAILOR-prompt2',\n",
       "       'non-ecu-MISTRAL-prompt1',\n",
       "       ...\n",
       "       'ch-SAILOR-prompt2', 'rus-SAILOR-prompt3', 'non-ecu-QWEN-prompt1',\n",
       "       'non-rus-GEMMA-prompt3', 'en-GEMMA-prompt2', 'ind-GEMMA-prompt3',\n",
       "       'egp-llama3-prompt3', 'non-ch-SAILOR-prompt2', 'egp-QWEN-prompt3',\n",
       "       'en-llama3-prompt3'],\n",
       "      dtype='object', length=217)"
      ]
     },
     "execution_count": 319,
     "metadata": {},
     "output_type": "execute_result"
    }
   ],
   "source": [
    "df_llm_scores.columns"
   ]
  },
  {
   "cell_type": "code",
   "execution_count": 320,
   "metadata": {},
   "outputs": [],
   "source": [
    "import re"
   ]
  },
  {
   "cell_type": "code",
   "execution_count": 321,
   "metadata": {},
   "outputs": [],
   "source": [
    "def normalize_score(scores):\n",
    "    normalized_score = []\n",
    "    norm_list = list(normalization.values())\n",
    "    for i, score in enumerate(scores):\n",
    "        # scale to 0-10\n",
    "        # formula is \n",
    "        min_sc, max_sc = norm_list[i]\n",
    "        score = (float(score) - min_sc) / (max_sc - min_sc)\n",
    "        # make it to 1 - 10 score\n",
    "        scaled = score * 9 + 1\n",
    "        normalized_score.append(scaled)\n",
    "    return normalized_score"
   ]
  },
  {
   "cell_type": "code",
   "execution_count": 322,
   "metadata": {},
   "outputs": [],
   "source": [
    "import plotly.graph_objects as go\n",
    "from copy import deepcopy\n",
    "# Create a radar chart using Plotly\n",
    "from plotly.subplots import make_subplots\n",
    "\n",
    "# Names of each arm of the radar chart\n",
    "def create_plot(score_dict):\n",
    "    categories = indexes\n",
    "    \n",
    "\n",
    "    # Create figure\n",
    "    \n",
    "    \n",
    "    fig = go.Figure()\n",
    "\n",
    "\n",
    "    # Add traces, one for each model\n",
    "    for key, score in score_dict.items():\n",
    "        score_vis = normalize_score(score)\n",
    "        print(score_vis)\n",
    "        # score_vis =score\n",
    "        # print(score_vis)\n",
    "        fig.add_trace(\n",
    "            go.Scatterpolar(r=score_vis, theta=categories, fill=\"toself\", name=key)\n",
    "        )\n",
    "\n",
    "    # Tune layout and look of the chart\n",
    "\n",
    "    fig.update_layout(\n",
    "        polar=dict(radialaxis=dict(visible=True, range=[0, 10])),\n",
    "        showlegend=True,\n",
    "        title=dict(text=\"Radar Chart for Model Comparison\"),\n",
    "    )\n",
    "\n",
    "    # Show the plot\n",
    "    fig.show()\n",
    "\n",
    "def plot_model_cons(lang):\n",
    "    pattern_en = re.compile(fr\"non-{lang}-(.+)-(.+)\")\n",
    "    dict_model_score = {}\n",
    "    print(pattern_en)\n",
    "\n",
    "    for column in df_llm_scores.columns:\n",
    "        # print(column, end=' ')\n",
    "        if pattern_en.match(column):\n",
    "            match = pattern_en.match(column)\n",
    "            dict_model_score.setdefault(match.group(1), {})\n",
    "            dict_model_score[match.group(1)][match.group(2)] = df_llm_scores[column]\n",
    "    \n",
    "    for k, v in dict_model_score.items():\n",
    "        print(k)\n",
    "        create_plot(v)\n",
    "        "
   ]
  },
  {
   "cell_type": "code",
   "execution_count": 57,
   "metadata": {},
   "outputs": [
    {
     "name": "stdout",
     "output_type": "stream",
     "text": [
      "re.compile('non-rus-(.+)-(.+)')\n",
      "GEMMA\n",
      "[1.0, 1.0, 10.0, 1.0, 1.0, 1.0, 1.0, 1.0, 3.25, 5.5]\n",
      "[1.0, 1.0, 10.0, 1.0, 2.0, 2.0, 2.0, 1.0, 3.25, 5.5]\n",
      "[1.0, 1.0, 10.0, 1.0, 2.0, 2.0, 2.0, 1.0, 3.25, 5.5]\n"
     ]
    },
    {
     "data": {
      "application/vnd.plotly.v1+json": {
       "config": {
        "plotlyServerURL": "https://plot.ly"
       },
       "data": [
        {
         "fill": "toself",
         "name": "prompt1",
         "r": [
          1,
          1,
          10,
          1,
          1,
          1,
          1,
          1,
          3.25,
          5.5
         ],
         "theta": [
          "happiness-q46",
          "trust-q57",
          "authority-q45",
          "petition-q209",
          "god-q164",
          "homosexuality-q182",
          "abortion-q184",
          "proud-q254",
          "child-obey1-q8",
          "materialistic-q155"
         ],
         "type": "scatterpolar"
        },
        {
         "fill": "toself",
         "name": "prompt2",
         "r": [
          1,
          1,
          10,
          1,
          2,
          2,
          2,
          1,
          3.25,
          5.5
         ],
         "theta": [
          "happiness-q46",
          "trust-q57",
          "authority-q45",
          "petition-q209",
          "god-q164",
          "homosexuality-q182",
          "abortion-q184",
          "proud-q254",
          "child-obey1-q8",
          "materialistic-q155"
         ],
         "type": "scatterpolar"
        },
        {
         "fill": "toself",
         "name": "prompt3",
         "r": [
          1,
          1,
          10,
          1,
          2,
          2,
          2,
          1,
          3.25,
          5.5
         ],
         "theta": [
          "happiness-q46",
          "trust-q57",
          "authority-q45",
          "petition-q209",
          "god-q164",
          "homosexuality-q182",
          "abortion-q184",
          "proud-q254",
          "child-obey1-q8",
          "materialistic-q155"
         ],
         "type": "scatterpolar"
        }
       ],
       "layout": {
        "polar": {
         "radialaxis": {
          "range": [
           0,
           10
          ],
          "visible": true
         }
        },
        "showlegend": true,
        "template": {
         "data": {
          "bar": [
           {
            "error_x": {
             "color": "#2a3f5f"
            },
            "error_y": {
             "color": "#2a3f5f"
            },
            "marker": {
             "line": {
              "color": "#E5ECF6",
              "width": 0.5
             },
             "pattern": {
              "fillmode": "overlay",
              "size": 10,
              "solidity": 0.2
             }
            },
            "type": "bar"
           }
          ],
          "barpolar": [
           {
            "marker": {
             "line": {
              "color": "#E5ECF6",
              "width": 0.5
             },
             "pattern": {
              "fillmode": "overlay",
              "size": 10,
              "solidity": 0.2
             }
            },
            "type": "barpolar"
           }
          ],
          "carpet": [
           {
            "aaxis": {
             "endlinecolor": "#2a3f5f",
             "gridcolor": "white",
             "linecolor": "white",
             "minorgridcolor": "white",
             "startlinecolor": "#2a3f5f"
            },
            "baxis": {
             "endlinecolor": "#2a3f5f",
             "gridcolor": "white",
             "linecolor": "white",
             "minorgridcolor": "white",
             "startlinecolor": "#2a3f5f"
            },
            "type": "carpet"
           }
          ],
          "choropleth": [
           {
            "colorbar": {
             "outlinewidth": 0,
             "ticks": ""
            },
            "type": "choropleth"
           }
          ],
          "contour": [
           {
            "colorbar": {
             "outlinewidth": 0,
             "ticks": ""
            },
            "colorscale": [
             [
              0,
              "#0d0887"
             ],
             [
              0.1111111111111111,
              "#46039f"
             ],
             [
              0.2222222222222222,
              "#7201a8"
             ],
             [
              0.3333333333333333,
              "#9c179e"
             ],
             [
              0.4444444444444444,
              "#bd3786"
             ],
             [
              0.5555555555555556,
              "#d8576b"
             ],
             [
              0.6666666666666666,
              "#ed7953"
             ],
             [
              0.7777777777777778,
              "#fb9f3a"
             ],
             [
              0.8888888888888888,
              "#fdca26"
             ],
             [
              1,
              "#f0f921"
             ]
            ],
            "type": "contour"
           }
          ],
          "contourcarpet": [
           {
            "colorbar": {
             "outlinewidth": 0,
             "ticks": ""
            },
            "type": "contourcarpet"
           }
          ],
          "heatmap": [
           {
            "colorbar": {
             "outlinewidth": 0,
             "ticks": ""
            },
            "colorscale": [
             [
              0,
              "#0d0887"
             ],
             [
              0.1111111111111111,
              "#46039f"
             ],
             [
              0.2222222222222222,
              "#7201a8"
             ],
             [
              0.3333333333333333,
              "#9c179e"
             ],
             [
              0.4444444444444444,
              "#bd3786"
             ],
             [
              0.5555555555555556,
              "#d8576b"
             ],
             [
              0.6666666666666666,
              "#ed7953"
             ],
             [
              0.7777777777777778,
              "#fb9f3a"
             ],
             [
              0.8888888888888888,
              "#fdca26"
             ],
             [
              1,
              "#f0f921"
             ]
            ],
            "type": "heatmap"
           }
          ],
          "heatmapgl": [
           {
            "colorbar": {
             "outlinewidth": 0,
             "ticks": ""
            },
            "colorscale": [
             [
              0,
              "#0d0887"
             ],
             [
              0.1111111111111111,
              "#46039f"
             ],
             [
              0.2222222222222222,
              "#7201a8"
             ],
             [
              0.3333333333333333,
              "#9c179e"
             ],
             [
              0.4444444444444444,
              "#bd3786"
             ],
             [
              0.5555555555555556,
              "#d8576b"
             ],
             [
              0.6666666666666666,
              "#ed7953"
             ],
             [
              0.7777777777777778,
              "#fb9f3a"
             ],
             [
              0.8888888888888888,
              "#fdca26"
             ],
             [
              1,
              "#f0f921"
             ]
            ],
            "type": "heatmapgl"
           }
          ],
          "histogram": [
           {
            "marker": {
             "pattern": {
              "fillmode": "overlay",
              "size": 10,
              "solidity": 0.2
             }
            },
            "type": "histogram"
           }
          ],
          "histogram2d": [
           {
            "colorbar": {
             "outlinewidth": 0,
             "ticks": ""
            },
            "colorscale": [
             [
              0,
              "#0d0887"
             ],
             [
              0.1111111111111111,
              "#46039f"
             ],
             [
              0.2222222222222222,
              "#7201a8"
             ],
             [
              0.3333333333333333,
              "#9c179e"
             ],
             [
              0.4444444444444444,
              "#bd3786"
             ],
             [
              0.5555555555555556,
              "#d8576b"
             ],
             [
              0.6666666666666666,
              "#ed7953"
             ],
             [
              0.7777777777777778,
              "#fb9f3a"
             ],
             [
              0.8888888888888888,
              "#fdca26"
             ],
             [
              1,
              "#f0f921"
             ]
            ],
            "type": "histogram2d"
           }
          ],
          "histogram2dcontour": [
           {
            "colorbar": {
             "outlinewidth": 0,
             "ticks": ""
            },
            "colorscale": [
             [
              0,
              "#0d0887"
             ],
             [
              0.1111111111111111,
              "#46039f"
             ],
             [
              0.2222222222222222,
              "#7201a8"
             ],
             [
              0.3333333333333333,
              "#9c179e"
             ],
             [
              0.4444444444444444,
              "#bd3786"
             ],
             [
              0.5555555555555556,
              "#d8576b"
             ],
             [
              0.6666666666666666,
              "#ed7953"
             ],
             [
              0.7777777777777778,
              "#fb9f3a"
             ],
             [
              0.8888888888888888,
              "#fdca26"
             ],
             [
              1,
              "#f0f921"
             ]
            ],
            "type": "histogram2dcontour"
           }
          ],
          "mesh3d": [
           {
            "colorbar": {
             "outlinewidth": 0,
             "ticks": ""
            },
            "type": "mesh3d"
           }
          ],
          "parcoords": [
           {
            "line": {
             "colorbar": {
              "outlinewidth": 0,
              "ticks": ""
             }
            },
            "type": "parcoords"
           }
          ],
          "pie": [
           {
            "automargin": true,
            "type": "pie"
           }
          ],
          "scatter": [
           {
            "fillpattern": {
             "fillmode": "overlay",
             "size": 10,
             "solidity": 0.2
            },
            "type": "scatter"
           }
          ],
          "scatter3d": [
           {
            "line": {
             "colorbar": {
              "outlinewidth": 0,
              "ticks": ""
             }
            },
            "marker": {
             "colorbar": {
              "outlinewidth": 0,
              "ticks": ""
             }
            },
            "type": "scatter3d"
           }
          ],
          "scattercarpet": [
           {
            "marker": {
             "colorbar": {
              "outlinewidth": 0,
              "ticks": ""
             }
            },
            "type": "scattercarpet"
           }
          ],
          "scattergeo": [
           {
            "marker": {
             "colorbar": {
              "outlinewidth": 0,
              "ticks": ""
             }
            },
            "type": "scattergeo"
           }
          ],
          "scattergl": [
           {
            "marker": {
             "colorbar": {
              "outlinewidth": 0,
              "ticks": ""
             }
            },
            "type": "scattergl"
           }
          ],
          "scattermapbox": [
           {
            "marker": {
             "colorbar": {
              "outlinewidth": 0,
              "ticks": ""
             }
            },
            "type": "scattermapbox"
           }
          ],
          "scatterpolar": [
           {
            "marker": {
             "colorbar": {
              "outlinewidth": 0,
              "ticks": ""
             }
            },
            "type": "scatterpolar"
           }
          ],
          "scatterpolargl": [
           {
            "marker": {
             "colorbar": {
              "outlinewidth": 0,
              "ticks": ""
             }
            },
            "type": "scatterpolargl"
           }
          ],
          "scatterternary": [
           {
            "marker": {
             "colorbar": {
              "outlinewidth": 0,
              "ticks": ""
             }
            },
            "type": "scatterternary"
           }
          ],
          "surface": [
           {
            "colorbar": {
             "outlinewidth": 0,
             "ticks": ""
            },
            "colorscale": [
             [
              0,
              "#0d0887"
             ],
             [
              0.1111111111111111,
              "#46039f"
             ],
             [
              0.2222222222222222,
              "#7201a8"
             ],
             [
              0.3333333333333333,
              "#9c179e"
             ],
             [
              0.4444444444444444,
              "#bd3786"
             ],
             [
              0.5555555555555556,
              "#d8576b"
             ],
             [
              0.6666666666666666,
              "#ed7953"
             ],
             [
              0.7777777777777778,
              "#fb9f3a"
             ],
             [
              0.8888888888888888,
              "#fdca26"
             ],
             [
              1,
              "#f0f921"
             ]
            ],
            "type": "surface"
           }
          ],
          "table": [
           {
            "cells": {
             "fill": {
              "color": "#EBF0F8"
             },
             "line": {
              "color": "white"
             }
            },
            "header": {
             "fill": {
              "color": "#C8D4E3"
             },
             "line": {
              "color": "white"
             }
            },
            "type": "table"
           }
          ]
         },
         "layout": {
          "annotationdefaults": {
           "arrowcolor": "#2a3f5f",
           "arrowhead": 0,
           "arrowwidth": 1
          },
          "autotypenumbers": "strict",
          "coloraxis": {
           "colorbar": {
            "outlinewidth": 0,
            "ticks": ""
           }
          },
          "colorscale": {
           "diverging": [
            [
             0,
             "#8e0152"
            ],
            [
             0.1,
             "#c51b7d"
            ],
            [
             0.2,
             "#de77ae"
            ],
            [
             0.3,
             "#f1b6da"
            ],
            [
             0.4,
             "#fde0ef"
            ],
            [
             0.5,
             "#f7f7f7"
            ],
            [
             0.6,
             "#e6f5d0"
            ],
            [
             0.7,
             "#b8e186"
            ],
            [
             0.8,
             "#7fbc41"
            ],
            [
             0.9,
             "#4d9221"
            ],
            [
             1,
             "#276419"
            ]
           ],
           "sequential": [
            [
             0,
             "#0d0887"
            ],
            [
             0.1111111111111111,
             "#46039f"
            ],
            [
             0.2222222222222222,
             "#7201a8"
            ],
            [
             0.3333333333333333,
             "#9c179e"
            ],
            [
             0.4444444444444444,
             "#bd3786"
            ],
            [
             0.5555555555555556,
             "#d8576b"
            ],
            [
             0.6666666666666666,
             "#ed7953"
            ],
            [
             0.7777777777777778,
             "#fb9f3a"
            ],
            [
             0.8888888888888888,
             "#fdca26"
            ],
            [
             1,
             "#f0f921"
            ]
           ],
           "sequentialminus": [
            [
             0,
             "#0d0887"
            ],
            [
             0.1111111111111111,
             "#46039f"
            ],
            [
             0.2222222222222222,
             "#7201a8"
            ],
            [
             0.3333333333333333,
             "#9c179e"
            ],
            [
             0.4444444444444444,
             "#bd3786"
            ],
            [
             0.5555555555555556,
             "#d8576b"
            ],
            [
             0.6666666666666666,
             "#ed7953"
            ],
            [
             0.7777777777777778,
             "#fb9f3a"
            ],
            [
             0.8888888888888888,
             "#fdca26"
            ],
            [
             1,
             "#f0f921"
            ]
           ]
          },
          "colorway": [
           "#636efa",
           "#EF553B",
           "#00cc96",
           "#ab63fa",
           "#FFA15A",
           "#19d3f3",
           "#FF6692",
           "#B6E880",
           "#FF97FF",
           "#FECB52"
          ],
          "font": {
           "color": "#2a3f5f"
          },
          "geo": {
           "bgcolor": "white",
           "lakecolor": "white",
           "landcolor": "#E5ECF6",
           "showlakes": true,
           "showland": true,
           "subunitcolor": "white"
          },
          "hoverlabel": {
           "align": "left"
          },
          "hovermode": "closest",
          "mapbox": {
           "style": "light"
          },
          "paper_bgcolor": "white",
          "plot_bgcolor": "#E5ECF6",
          "polar": {
           "angularaxis": {
            "gridcolor": "white",
            "linecolor": "white",
            "ticks": ""
           },
           "bgcolor": "#E5ECF6",
           "radialaxis": {
            "gridcolor": "white",
            "linecolor": "white",
            "ticks": ""
           }
          },
          "scene": {
           "xaxis": {
            "backgroundcolor": "#E5ECF6",
            "gridcolor": "white",
            "gridwidth": 2,
            "linecolor": "white",
            "showbackground": true,
            "ticks": "",
            "zerolinecolor": "white"
           },
           "yaxis": {
            "backgroundcolor": "#E5ECF6",
            "gridcolor": "white",
            "gridwidth": 2,
            "linecolor": "white",
            "showbackground": true,
            "ticks": "",
            "zerolinecolor": "white"
           },
           "zaxis": {
            "backgroundcolor": "#E5ECF6",
            "gridcolor": "white",
            "gridwidth": 2,
            "linecolor": "white",
            "showbackground": true,
            "ticks": "",
            "zerolinecolor": "white"
           }
          },
          "shapedefaults": {
           "line": {
            "color": "#2a3f5f"
           }
          },
          "ternary": {
           "aaxis": {
            "gridcolor": "white",
            "linecolor": "white",
            "ticks": ""
           },
           "baxis": {
            "gridcolor": "white",
            "linecolor": "white",
            "ticks": ""
           },
           "bgcolor": "#E5ECF6",
           "caxis": {
            "gridcolor": "white",
            "linecolor": "white",
            "ticks": ""
           }
          },
          "title": {
           "x": 0.05
          },
          "xaxis": {
           "automargin": true,
           "gridcolor": "white",
           "linecolor": "white",
           "ticks": "",
           "title": {
            "standoff": 15
           },
           "zerolinecolor": "white",
           "zerolinewidth": 2
          },
          "yaxis": {
           "automargin": true,
           "gridcolor": "white",
           "linecolor": "white",
           "ticks": "",
           "title": {
            "standoff": 15
           },
           "zerolinecolor": "white",
           "zerolinewidth": 2
          }
         }
        },
        "title": {
         "text": "Radar Chart for Model Comparison"
        }
       }
      },
      "text/html": [
       "<div>                            <div id=\"2d87c479-ee5a-43cd-b321-e14c938f4b05\" class=\"plotly-graph-div\" style=\"height:525px; width:100%;\"></div>            <script type=\"text/javascript\">                require([\"plotly\"], function(Plotly) {                    window.PLOTLYENV=window.PLOTLYENV || {};                                    if (document.getElementById(\"2d87c479-ee5a-43cd-b321-e14c938f4b05\")) {                    Plotly.newPlot(                        \"2d87c479-ee5a-43cd-b321-e14c938f4b05\",                        [{\"fill\":\"toself\",\"name\":\"prompt1\",\"r\":[1.0,1.0,10.0,1.0,1.0,1.0,1.0,1.0,3.25,5.5],\"theta\":[\"happiness-q46\",\"trust-q57\",\"authority-q45\",\"petition-q209\",\"god-q164\",\"homosexuality-q182\",\"abortion-q184\",\"proud-q254\",\"child-obey1-q8\",\"materialistic-q155\"],\"type\":\"scatterpolar\"},{\"fill\":\"toself\",\"name\":\"prompt2\",\"r\":[1.0,1.0,10.0,1.0,2.0,2.0,2.0,1.0,3.25,5.5],\"theta\":[\"happiness-q46\",\"trust-q57\",\"authority-q45\",\"petition-q209\",\"god-q164\",\"homosexuality-q182\",\"abortion-q184\",\"proud-q254\",\"child-obey1-q8\",\"materialistic-q155\"],\"type\":\"scatterpolar\"},{\"fill\":\"toself\",\"name\":\"prompt3\",\"r\":[1.0,1.0,10.0,1.0,2.0,2.0,2.0,1.0,3.25,5.5],\"theta\":[\"happiness-q46\",\"trust-q57\",\"authority-q45\",\"petition-q209\",\"god-q164\",\"homosexuality-q182\",\"abortion-q184\",\"proud-q254\",\"child-obey1-q8\",\"materialistic-q155\"],\"type\":\"scatterpolar\"}],                        {\"template\":{\"data\":{\"histogram2dcontour\":[{\"type\":\"histogram2dcontour\",\"colorbar\":{\"outlinewidth\":0,\"ticks\":\"\"},\"colorscale\":[[0.0,\"#0d0887\"],[0.1111111111111111,\"#46039f\"],[0.2222222222222222,\"#7201a8\"],[0.3333333333333333,\"#9c179e\"],[0.4444444444444444,\"#bd3786\"],[0.5555555555555556,\"#d8576b\"],[0.6666666666666666,\"#ed7953\"],[0.7777777777777778,\"#fb9f3a\"],[0.8888888888888888,\"#fdca26\"],[1.0,\"#f0f921\"]]}],\"choropleth\":[{\"type\":\"choropleth\",\"colorbar\":{\"outlinewidth\":0,\"ticks\":\"\"}}],\"histogram2d\":[{\"type\":\"histogram2d\",\"colorbar\":{\"outlinewidth\":0,\"ticks\":\"\"},\"colorscale\":[[0.0,\"#0d0887\"],[0.1111111111111111,\"#46039f\"],[0.2222222222222222,\"#7201a8\"],[0.3333333333333333,\"#9c179e\"],[0.4444444444444444,\"#bd3786\"],[0.5555555555555556,\"#d8576b\"],[0.6666666666666666,\"#ed7953\"],[0.7777777777777778,\"#fb9f3a\"],[0.8888888888888888,\"#fdca26\"],[1.0,\"#f0f921\"]]}],\"heatmap\":[{\"type\":\"heatmap\",\"colorbar\":{\"outlinewidth\":0,\"ticks\":\"\"},\"colorscale\":[[0.0,\"#0d0887\"],[0.1111111111111111,\"#46039f\"],[0.2222222222222222,\"#7201a8\"],[0.3333333333333333,\"#9c179e\"],[0.4444444444444444,\"#bd3786\"],[0.5555555555555556,\"#d8576b\"],[0.6666666666666666,\"#ed7953\"],[0.7777777777777778,\"#fb9f3a\"],[0.8888888888888888,\"#fdca26\"],[1.0,\"#f0f921\"]]}],\"heatmapgl\":[{\"type\":\"heatmapgl\",\"colorbar\":{\"outlinewidth\":0,\"ticks\":\"\"},\"colorscale\":[[0.0,\"#0d0887\"],[0.1111111111111111,\"#46039f\"],[0.2222222222222222,\"#7201a8\"],[0.3333333333333333,\"#9c179e\"],[0.4444444444444444,\"#bd3786\"],[0.5555555555555556,\"#d8576b\"],[0.6666666666666666,\"#ed7953\"],[0.7777777777777778,\"#fb9f3a\"],[0.8888888888888888,\"#fdca26\"],[1.0,\"#f0f921\"]]}],\"contourcarpet\":[{\"type\":\"contourcarpet\",\"colorbar\":{\"outlinewidth\":0,\"ticks\":\"\"}}],\"contour\":[{\"type\":\"contour\",\"colorbar\":{\"outlinewidth\":0,\"ticks\":\"\"},\"colorscale\":[[0.0,\"#0d0887\"],[0.1111111111111111,\"#46039f\"],[0.2222222222222222,\"#7201a8\"],[0.3333333333333333,\"#9c179e\"],[0.4444444444444444,\"#bd3786\"],[0.5555555555555556,\"#d8576b\"],[0.6666666666666666,\"#ed7953\"],[0.7777777777777778,\"#fb9f3a\"],[0.8888888888888888,\"#fdca26\"],[1.0,\"#f0f921\"]]}],\"surface\":[{\"type\":\"surface\",\"colorbar\":{\"outlinewidth\":0,\"ticks\":\"\"},\"colorscale\":[[0.0,\"#0d0887\"],[0.1111111111111111,\"#46039f\"],[0.2222222222222222,\"#7201a8\"],[0.3333333333333333,\"#9c179e\"],[0.4444444444444444,\"#bd3786\"],[0.5555555555555556,\"#d8576b\"],[0.6666666666666666,\"#ed7953\"],[0.7777777777777778,\"#fb9f3a\"],[0.8888888888888888,\"#fdca26\"],[1.0,\"#f0f921\"]]}],\"mesh3d\":[{\"type\":\"mesh3d\",\"colorbar\":{\"outlinewidth\":0,\"ticks\":\"\"}}],\"scatter\":[{\"fillpattern\":{\"fillmode\":\"overlay\",\"size\":10,\"solidity\":0.2},\"type\":\"scatter\"}],\"parcoords\":[{\"type\":\"parcoords\",\"line\":{\"colorbar\":{\"outlinewidth\":0,\"ticks\":\"\"}}}],\"scatterpolargl\":[{\"type\":\"scatterpolargl\",\"marker\":{\"colorbar\":{\"outlinewidth\":0,\"ticks\":\"\"}}}],\"bar\":[{\"error_x\":{\"color\":\"#2a3f5f\"},\"error_y\":{\"color\":\"#2a3f5f\"},\"marker\":{\"line\":{\"color\":\"#E5ECF6\",\"width\":0.5},\"pattern\":{\"fillmode\":\"overlay\",\"size\":10,\"solidity\":0.2}},\"type\":\"bar\"}],\"scattergeo\":[{\"type\":\"scattergeo\",\"marker\":{\"colorbar\":{\"outlinewidth\":0,\"ticks\":\"\"}}}],\"scatterpolar\":[{\"type\":\"scatterpolar\",\"marker\":{\"colorbar\":{\"outlinewidth\":0,\"ticks\":\"\"}}}],\"histogram\":[{\"marker\":{\"pattern\":{\"fillmode\":\"overlay\",\"size\":10,\"solidity\":0.2}},\"type\":\"histogram\"}],\"scattergl\":[{\"type\":\"scattergl\",\"marker\":{\"colorbar\":{\"outlinewidth\":0,\"ticks\":\"\"}}}],\"scatter3d\":[{\"type\":\"scatter3d\",\"line\":{\"colorbar\":{\"outlinewidth\":0,\"ticks\":\"\"}},\"marker\":{\"colorbar\":{\"outlinewidth\":0,\"ticks\":\"\"}}}],\"scattermapbox\":[{\"type\":\"scattermapbox\",\"marker\":{\"colorbar\":{\"outlinewidth\":0,\"ticks\":\"\"}}}],\"scatterternary\":[{\"type\":\"scatterternary\",\"marker\":{\"colorbar\":{\"outlinewidth\":0,\"ticks\":\"\"}}}],\"scattercarpet\":[{\"type\":\"scattercarpet\",\"marker\":{\"colorbar\":{\"outlinewidth\":0,\"ticks\":\"\"}}}],\"carpet\":[{\"aaxis\":{\"endlinecolor\":\"#2a3f5f\",\"gridcolor\":\"white\",\"linecolor\":\"white\",\"minorgridcolor\":\"white\",\"startlinecolor\":\"#2a3f5f\"},\"baxis\":{\"endlinecolor\":\"#2a3f5f\",\"gridcolor\":\"white\",\"linecolor\":\"white\",\"minorgridcolor\":\"white\",\"startlinecolor\":\"#2a3f5f\"},\"type\":\"carpet\"}],\"table\":[{\"cells\":{\"fill\":{\"color\":\"#EBF0F8\"},\"line\":{\"color\":\"white\"}},\"header\":{\"fill\":{\"color\":\"#C8D4E3\"},\"line\":{\"color\":\"white\"}},\"type\":\"table\"}],\"barpolar\":[{\"marker\":{\"line\":{\"color\":\"#E5ECF6\",\"width\":0.5},\"pattern\":{\"fillmode\":\"overlay\",\"size\":10,\"solidity\":0.2}},\"type\":\"barpolar\"}],\"pie\":[{\"automargin\":true,\"type\":\"pie\"}]},\"layout\":{\"autotypenumbers\":\"strict\",\"colorway\":[\"#636efa\",\"#EF553B\",\"#00cc96\",\"#ab63fa\",\"#FFA15A\",\"#19d3f3\",\"#FF6692\",\"#B6E880\",\"#FF97FF\",\"#FECB52\"],\"font\":{\"color\":\"#2a3f5f\"},\"hovermode\":\"closest\",\"hoverlabel\":{\"align\":\"left\"},\"paper_bgcolor\":\"white\",\"plot_bgcolor\":\"#E5ECF6\",\"polar\":{\"bgcolor\":\"#E5ECF6\",\"angularaxis\":{\"gridcolor\":\"white\",\"linecolor\":\"white\",\"ticks\":\"\"},\"radialaxis\":{\"gridcolor\":\"white\",\"linecolor\":\"white\",\"ticks\":\"\"}},\"ternary\":{\"bgcolor\":\"#E5ECF6\",\"aaxis\":{\"gridcolor\":\"white\",\"linecolor\":\"white\",\"ticks\":\"\"},\"baxis\":{\"gridcolor\":\"white\",\"linecolor\":\"white\",\"ticks\":\"\"},\"caxis\":{\"gridcolor\":\"white\",\"linecolor\":\"white\",\"ticks\":\"\"}},\"coloraxis\":{\"colorbar\":{\"outlinewidth\":0,\"ticks\":\"\"}},\"colorscale\":{\"sequential\":[[0.0,\"#0d0887\"],[0.1111111111111111,\"#46039f\"],[0.2222222222222222,\"#7201a8\"],[0.3333333333333333,\"#9c179e\"],[0.4444444444444444,\"#bd3786\"],[0.5555555555555556,\"#d8576b\"],[0.6666666666666666,\"#ed7953\"],[0.7777777777777778,\"#fb9f3a\"],[0.8888888888888888,\"#fdca26\"],[1.0,\"#f0f921\"]],\"sequentialminus\":[[0.0,\"#0d0887\"],[0.1111111111111111,\"#46039f\"],[0.2222222222222222,\"#7201a8\"],[0.3333333333333333,\"#9c179e\"],[0.4444444444444444,\"#bd3786\"],[0.5555555555555556,\"#d8576b\"],[0.6666666666666666,\"#ed7953\"],[0.7777777777777778,\"#fb9f3a\"],[0.8888888888888888,\"#fdca26\"],[1.0,\"#f0f921\"]],\"diverging\":[[0,\"#8e0152\"],[0.1,\"#c51b7d\"],[0.2,\"#de77ae\"],[0.3,\"#f1b6da\"],[0.4,\"#fde0ef\"],[0.5,\"#f7f7f7\"],[0.6,\"#e6f5d0\"],[0.7,\"#b8e186\"],[0.8,\"#7fbc41\"],[0.9,\"#4d9221\"],[1,\"#276419\"]]},\"xaxis\":{\"gridcolor\":\"white\",\"linecolor\":\"white\",\"ticks\":\"\",\"title\":{\"standoff\":15},\"zerolinecolor\":\"white\",\"automargin\":true,\"zerolinewidth\":2},\"yaxis\":{\"gridcolor\":\"white\",\"linecolor\":\"white\",\"ticks\":\"\",\"title\":{\"standoff\":15},\"zerolinecolor\":\"white\",\"automargin\":true,\"zerolinewidth\":2},\"scene\":{\"xaxis\":{\"backgroundcolor\":\"#E5ECF6\",\"gridcolor\":\"white\",\"linecolor\":\"white\",\"showbackground\":true,\"ticks\":\"\",\"zerolinecolor\":\"white\",\"gridwidth\":2},\"yaxis\":{\"backgroundcolor\":\"#E5ECF6\",\"gridcolor\":\"white\",\"linecolor\":\"white\",\"showbackground\":true,\"ticks\":\"\",\"zerolinecolor\":\"white\",\"gridwidth\":2},\"zaxis\":{\"backgroundcolor\":\"#E5ECF6\",\"gridcolor\":\"white\",\"linecolor\":\"white\",\"showbackground\":true,\"ticks\":\"\",\"zerolinecolor\":\"white\",\"gridwidth\":2}},\"shapedefaults\":{\"line\":{\"color\":\"#2a3f5f\"}},\"annotationdefaults\":{\"arrowcolor\":\"#2a3f5f\",\"arrowhead\":0,\"arrowwidth\":1},\"geo\":{\"bgcolor\":\"white\",\"landcolor\":\"#E5ECF6\",\"subunitcolor\":\"white\",\"showland\":true,\"showlakes\":true,\"lakecolor\":\"white\"},\"title\":{\"x\":0.05},\"mapbox\":{\"style\":\"light\"}}},\"polar\":{\"radialaxis\":{\"visible\":true,\"range\":[0,10]}},\"title\":{\"text\":\"Radar Chart for Model Comparison\"},\"showlegend\":true},                        {\"responsive\": true}                    ).then(function(){\n",
       "                            \n",
       "var gd = document.getElementById('2d87c479-ee5a-43cd-b321-e14c938f4b05');\n",
       "var x = new MutationObserver(function (mutations, observer) {{\n",
       "        var display = window.getComputedStyle(gd).display;\n",
       "        if (!display || display === 'none') {{\n",
       "            console.log([gd, 'removed!']);\n",
       "            Plotly.purge(gd);\n",
       "            observer.disconnect();\n",
       "        }}\n",
       "}});\n",
       "\n",
       "// Listen for the removal of the full notebook cells\n",
       "var notebookContainer = gd.closest('#notebook-container');\n",
       "if (notebookContainer) {{\n",
       "    x.observe(notebookContainer, {childList: true});\n",
       "}}\n",
       "\n",
       "// Listen for the clearing of the current output cell\n",
       "var outputEl = gd.closest('.output');\n",
       "if (outputEl) {{\n",
       "    x.observe(outputEl, {childList: true});\n",
       "}}\n",
       "\n",
       "                        })                };                });            </script>        </div>"
      ]
     },
     "metadata": {},
     "output_type": "display_data"
    },
    {
     "name": "stdout",
     "output_type": "stream",
     "text": [
      "QWEN\n",
      "[4.0, 10.0, 1.0, 10.0, 10.0, 10.0, 10.0, 4.0, 5.5, 10.0]\n",
      "[4.0, 10.0, 1.0, 10.0, 10.0, 10.0, 10.0, 4.0, 5.5, 10.0]\n",
      "[4.0, 10.0, 1.0, 10.0, 10.0, 10.0, 10.0, 4.0, 10.0, 10.0]\n"
     ]
    },
    {
     "data": {
      "application/vnd.plotly.v1+json": {
       "config": {
        "plotlyServerURL": "https://plot.ly"
       },
       "data": [
        {
         "fill": "toself",
         "name": "prompt1",
         "r": [
          4,
          10,
          1,
          10,
          10,
          10,
          10,
          4,
          5.5,
          10
         ],
         "theta": [
          "happiness-q46",
          "trust-q57",
          "authority-q45",
          "petition-q209",
          "god-q164",
          "homosexuality-q182",
          "abortion-q184",
          "proud-q254",
          "child-obey1-q8",
          "materialistic-q155"
         ],
         "type": "scatterpolar"
        },
        {
         "fill": "toself",
         "name": "prompt2",
         "r": [
          4,
          10,
          1,
          10,
          10,
          10,
          10,
          4,
          5.5,
          10
         ],
         "theta": [
          "happiness-q46",
          "trust-q57",
          "authority-q45",
          "petition-q209",
          "god-q164",
          "homosexuality-q182",
          "abortion-q184",
          "proud-q254",
          "child-obey1-q8",
          "materialistic-q155"
         ],
         "type": "scatterpolar"
        },
        {
         "fill": "toself",
         "name": "prompt3",
         "r": [
          4,
          10,
          1,
          10,
          10,
          10,
          10,
          4,
          10,
          10
         ],
         "theta": [
          "happiness-q46",
          "trust-q57",
          "authority-q45",
          "petition-q209",
          "god-q164",
          "homosexuality-q182",
          "abortion-q184",
          "proud-q254",
          "child-obey1-q8",
          "materialistic-q155"
         ],
         "type": "scatterpolar"
        }
       ],
       "layout": {
        "polar": {
         "radialaxis": {
          "range": [
           0,
           10
          ],
          "visible": true
         }
        },
        "showlegend": true,
        "template": {
         "data": {
          "bar": [
           {
            "error_x": {
             "color": "#2a3f5f"
            },
            "error_y": {
             "color": "#2a3f5f"
            },
            "marker": {
             "line": {
              "color": "#E5ECF6",
              "width": 0.5
             },
             "pattern": {
              "fillmode": "overlay",
              "size": 10,
              "solidity": 0.2
             }
            },
            "type": "bar"
           }
          ],
          "barpolar": [
           {
            "marker": {
             "line": {
              "color": "#E5ECF6",
              "width": 0.5
             },
             "pattern": {
              "fillmode": "overlay",
              "size": 10,
              "solidity": 0.2
             }
            },
            "type": "barpolar"
           }
          ],
          "carpet": [
           {
            "aaxis": {
             "endlinecolor": "#2a3f5f",
             "gridcolor": "white",
             "linecolor": "white",
             "minorgridcolor": "white",
             "startlinecolor": "#2a3f5f"
            },
            "baxis": {
             "endlinecolor": "#2a3f5f",
             "gridcolor": "white",
             "linecolor": "white",
             "minorgridcolor": "white",
             "startlinecolor": "#2a3f5f"
            },
            "type": "carpet"
           }
          ],
          "choropleth": [
           {
            "colorbar": {
             "outlinewidth": 0,
             "ticks": ""
            },
            "type": "choropleth"
           }
          ],
          "contour": [
           {
            "colorbar": {
             "outlinewidth": 0,
             "ticks": ""
            },
            "colorscale": [
             [
              0,
              "#0d0887"
             ],
             [
              0.1111111111111111,
              "#46039f"
             ],
             [
              0.2222222222222222,
              "#7201a8"
             ],
             [
              0.3333333333333333,
              "#9c179e"
             ],
             [
              0.4444444444444444,
              "#bd3786"
             ],
             [
              0.5555555555555556,
              "#d8576b"
             ],
             [
              0.6666666666666666,
              "#ed7953"
             ],
             [
              0.7777777777777778,
              "#fb9f3a"
             ],
             [
              0.8888888888888888,
              "#fdca26"
             ],
             [
              1,
              "#f0f921"
             ]
            ],
            "type": "contour"
           }
          ],
          "contourcarpet": [
           {
            "colorbar": {
             "outlinewidth": 0,
             "ticks": ""
            },
            "type": "contourcarpet"
           }
          ],
          "heatmap": [
           {
            "colorbar": {
             "outlinewidth": 0,
             "ticks": ""
            },
            "colorscale": [
             [
              0,
              "#0d0887"
             ],
             [
              0.1111111111111111,
              "#46039f"
             ],
             [
              0.2222222222222222,
              "#7201a8"
             ],
             [
              0.3333333333333333,
              "#9c179e"
             ],
             [
              0.4444444444444444,
              "#bd3786"
             ],
             [
              0.5555555555555556,
              "#d8576b"
             ],
             [
              0.6666666666666666,
              "#ed7953"
             ],
             [
              0.7777777777777778,
              "#fb9f3a"
             ],
             [
              0.8888888888888888,
              "#fdca26"
             ],
             [
              1,
              "#f0f921"
             ]
            ],
            "type": "heatmap"
           }
          ],
          "heatmapgl": [
           {
            "colorbar": {
             "outlinewidth": 0,
             "ticks": ""
            },
            "colorscale": [
             [
              0,
              "#0d0887"
             ],
             [
              0.1111111111111111,
              "#46039f"
             ],
             [
              0.2222222222222222,
              "#7201a8"
             ],
             [
              0.3333333333333333,
              "#9c179e"
             ],
             [
              0.4444444444444444,
              "#bd3786"
             ],
             [
              0.5555555555555556,
              "#d8576b"
             ],
             [
              0.6666666666666666,
              "#ed7953"
             ],
             [
              0.7777777777777778,
              "#fb9f3a"
             ],
             [
              0.8888888888888888,
              "#fdca26"
             ],
             [
              1,
              "#f0f921"
             ]
            ],
            "type": "heatmapgl"
           }
          ],
          "histogram": [
           {
            "marker": {
             "pattern": {
              "fillmode": "overlay",
              "size": 10,
              "solidity": 0.2
             }
            },
            "type": "histogram"
           }
          ],
          "histogram2d": [
           {
            "colorbar": {
             "outlinewidth": 0,
             "ticks": ""
            },
            "colorscale": [
             [
              0,
              "#0d0887"
             ],
             [
              0.1111111111111111,
              "#46039f"
             ],
             [
              0.2222222222222222,
              "#7201a8"
             ],
             [
              0.3333333333333333,
              "#9c179e"
             ],
             [
              0.4444444444444444,
              "#bd3786"
             ],
             [
              0.5555555555555556,
              "#d8576b"
             ],
             [
              0.6666666666666666,
              "#ed7953"
             ],
             [
              0.7777777777777778,
              "#fb9f3a"
             ],
             [
              0.8888888888888888,
              "#fdca26"
             ],
             [
              1,
              "#f0f921"
             ]
            ],
            "type": "histogram2d"
           }
          ],
          "histogram2dcontour": [
           {
            "colorbar": {
             "outlinewidth": 0,
             "ticks": ""
            },
            "colorscale": [
             [
              0,
              "#0d0887"
             ],
             [
              0.1111111111111111,
              "#46039f"
             ],
             [
              0.2222222222222222,
              "#7201a8"
             ],
             [
              0.3333333333333333,
              "#9c179e"
             ],
             [
              0.4444444444444444,
              "#bd3786"
             ],
             [
              0.5555555555555556,
              "#d8576b"
             ],
             [
              0.6666666666666666,
              "#ed7953"
             ],
             [
              0.7777777777777778,
              "#fb9f3a"
             ],
             [
              0.8888888888888888,
              "#fdca26"
             ],
             [
              1,
              "#f0f921"
             ]
            ],
            "type": "histogram2dcontour"
           }
          ],
          "mesh3d": [
           {
            "colorbar": {
             "outlinewidth": 0,
             "ticks": ""
            },
            "type": "mesh3d"
           }
          ],
          "parcoords": [
           {
            "line": {
             "colorbar": {
              "outlinewidth": 0,
              "ticks": ""
             }
            },
            "type": "parcoords"
           }
          ],
          "pie": [
           {
            "automargin": true,
            "type": "pie"
           }
          ],
          "scatter": [
           {
            "fillpattern": {
             "fillmode": "overlay",
             "size": 10,
             "solidity": 0.2
            },
            "type": "scatter"
           }
          ],
          "scatter3d": [
           {
            "line": {
             "colorbar": {
              "outlinewidth": 0,
              "ticks": ""
             }
            },
            "marker": {
             "colorbar": {
              "outlinewidth": 0,
              "ticks": ""
             }
            },
            "type": "scatter3d"
           }
          ],
          "scattercarpet": [
           {
            "marker": {
             "colorbar": {
              "outlinewidth": 0,
              "ticks": ""
             }
            },
            "type": "scattercarpet"
           }
          ],
          "scattergeo": [
           {
            "marker": {
             "colorbar": {
              "outlinewidth": 0,
              "ticks": ""
             }
            },
            "type": "scattergeo"
           }
          ],
          "scattergl": [
           {
            "marker": {
             "colorbar": {
              "outlinewidth": 0,
              "ticks": ""
             }
            },
            "type": "scattergl"
           }
          ],
          "scattermapbox": [
           {
            "marker": {
             "colorbar": {
              "outlinewidth": 0,
              "ticks": ""
             }
            },
            "type": "scattermapbox"
           }
          ],
          "scatterpolar": [
           {
            "marker": {
             "colorbar": {
              "outlinewidth": 0,
              "ticks": ""
             }
            },
            "type": "scatterpolar"
           }
          ],
          "scatterpolargl": [
           {
            "marker": {
             "colorbar": {
              "outlinewidth": 0,
              "ticks": ""
             }
            },
            "type": "scatterpolargl"
           }
          ],
          "scatterternary": [
           {
            "marker": {
             "colorbar": {
              "outlinewidth": 0,
              "ticks": ""
             }
            },
            "type": "scatterternary"
           }
          ],
          "surface": [
           {
            "colorbar": {
             "outlinewidth": 0,
             "ticks": ""
            },
            "colorscale": [
             [
              0,
              "#0d0887"
             ],
             [
              0.1111111111111111,
              "#46039f"
             ],
             [
              0.2222222222222222,
              "#7201a8"
             ],
             [
              0.3333333333333333,
              "#9c179e"
             ],
             [
              0.4444444444444444,
              "#bd3786"
             ],
             [
              0.5555555555555556,
              "#d8576b"
             ],
             [
              0.6666666666666666,
              "#ed7953"
             ],
             [
              0.7777777777777778,
              "#fb9f3a"
             ],
             [
              0.8888888888888888,
              "#fdca26"
             ],
             [
              1,
              "#f0f921"
             ]
            ],
            "type": "surface"
           }
          ],
          "table": [
           {
            "cells": {
             "fill": {
              "color": "#EBF0F8"
             },
             "line": {
              "color": "white"
             }
            },
            "header": {
             "fill": {
              "color": "#C8D4E3"
             },
             "line": {
              "color": "white"
             }
            },
            "type": "table"
           }
          ]
         },
         "layout": {
          "annotationdefaults": {
           "arrowcolor": "#2a3f5f",
           "arrowhead": 0,
           "arrowwidth": 1
          },
          "autotypenumbers": "strict",
          "coloraxis": {
           "colorbar": {
            "outlinewidth": 0,
            "ticks": ""
           }
          },
          "colorscale": {
           "diverging": [
            [
             0,
             "#8e0152"
            ],
            [
             0.1,
             "#c51b7d"
            ],
            [
             0.2,
             "#de77ae"
            ],
            [
             0.3,
             "#f1b6da"
            ],
            [
             0.4,
             "#fde0ef"
            ],
            [
             0.5,
             "#f7f7f7"
            ],
            [
             0.6,
             "#e6f5d0"
            ],
            [
             0.7,
             "#b8e186"
            ],
            [
             0.8,
             "#7fbc41"
            ],
            [
             0.9,
             "#4d9221"
            ],
            [
             1,
             "#276419"
            ]
           ],
           "sequential": [
            [
             0,
             "#0d0887"
            ],
            [
             0.1111111111111111,
             "#46039f"
            ],
            [
             0.2222222222222222,
             "#7201a8"
            ],
            [
             0.3333333333333333,
             "#9c179e"
            ],
            [
             0.4444444444444444,
             "#bd3786"
            ],
            [
             0.5555555555555556,
             "#d8576b"
            ],
            [
             0.6666666666666666,
             "#ed7953"
            ],
            [
             0.7777777777777778,
             "#fb9f3a"
            ],
            [
             0.8888888888888888,
             "#fdca26"
            ],
            [
             1,
             "#f0f921"
            ]
           ],
           "sequentialminus": [
            [
             0,
             "#0d0887"
            ],
            [
             0.1111111111111111,
             "#46039f"
            ],
            [
             0.2222222222222222,
             "#7201a8"
            ],
            [
             0.3333333333333333,
             "#9c179e"
            ],
            [
             0.4444444444444444,
             "#bd3786"
            ],
            [
             0.5555555555555556,
             "#d8576b"
            ],
            [
             0.6666666666666666,
             "#ed7953"
            ],
            [
             0.7777777777777778,
             "#fb9f3a"
            ],
            [
             0.8888888888888888,
             "#fdca26"
            ],
            [
             1,
             "#f0f921"
            ]
           ]
          },
          "colorway": [
           "#636efa",
           "#EF553B",
           "#00cc96",
           "#ab63fa",
           "#FFA15A",
           "#19d3f3",
           "#FF6692",
           "#B6E880",
           "#FF97FF",
           "#FECB52"
          ],
          "font": {
           "color": "#2a3f5f"
          },
          "geo": {
           "bgcolor": "white",
           "lakecolor": "white",
           "landcolor": "#E5ECF6",
           "showlakes": true,
           "showland": true,
           "subunitcolor": "white"
          },
          "hoverlabel": {
           "align": "left"
          },
          "hovermode": "closest",
          "mapbox": {
           "style": "light"
          },
          "paper_bgcolor": "white",
          "plot_bgcolor": "#E5ECF6",
          "polar": {
           "angularaxis": {
            "gridcolor": "white",
            "linecolor": "white",
            "ticks": ""
           },
           "bgcolor": "#E5ECF6",
           "radialaxis": {
            "gridcolor": "white",
            "linecolor": "white",
            "ticks": ""
           }
          },
          "scene": {
           "xaxis": {
            "backgroundcolor": "#E5ECF6",
            "gridcolor": "white",
            "gridwidth": 2,
            "linecolor": "white",
            "showbackground": true,
            "ticks": "",
            "zerolinecolor": "white"
           },
           "yaxis": {
            "backgroundcolor": "#E5ECF6",
            "gridcolor": "white",
            "gridwidth": 2,
            "linecolor": "white",
            "showbackground": true,
            "ticks": "",
            "zerolinecolor": "white"
           },
           "zaxis": {
            "backgroundcolor": "#E5ECF6",
            "gridcolor": "white",
            "gridwidth": 2,
            "linecolor": "white",
            "showbackground": true,
            "ticks": "",
            "zerolinecolor": "white"
           }
          },
          "shapedefaults": {
           "line": {
            "color": "#2a3f5f"
           }
          },
          "ternary": {
           "aaxis": {
            "gridcolor": "white",
            "linecolor": "white",
            "ticks": ""
           },
           "baxis": {
            "gridcolor": "white",
            "linecolor": "white",
            "ticks": ""
           },
           "bgcolor": "#E5ECF6",
           "caxis": {
            "gridcolor": "white",
            "linecolor": "white",
            "ticks": ""
           }
          },
          "title": {
           "x": 0.05
          },
          "xaxis": {
           "automargin": true,
           "gridcolor": "white",
           "linecolor": "white",
           "ticks": "",
           "title": {
            "standoff": 15
           },
           "zerolinecolor": "white",
           "zerolinewidth": 2
          },
          "yaxis": {
           "automargin": true,
           "gridcolor": "white",
           "linecolor": "white",
           "ticks": "",
           "title": {
            "standoff": 15
           },
           "zerolinecolor": "white",
           "zerolinewidth": 2
          }
         }
        },
        "title": {
         "text": "Radar Chart for Model Comparison"
        }
       }
      },
      "text/html": [
       "<div>                            <div id=\"a5740812-0c4f-4d70-8790-9c6e78a6788a\" class=\"plotly-graph-div\" style=\"height:525px; width:100%;\"></div>            <script type=\"text/javascript\">                require([\"plotly\"], function(Plotly) {                    window.PLOTLYENV=window.PLOTLYENV || {};                                    if (document.getElementById(\"a5740812-0c4f-4d70-8790-9c6e78a6788a\")) {                    Plotly.newPlot(                        \"a5740812-0c4f-4d70-8790-9c6e78a6788a\",                        [{\"fill\":\"toself\",\"name\":\"prompt1\",\"r\":[4.0,10.0,1.0,10.0,10.0,10.0,10.0,4.0,5.5,10.0],\"theta\":[\"happiness-q46\",\"trust-q57\",\"authority-q45\",\"petition-q209\",\"god-q164\",\"homosexuality-q182\",\"abortion-q184\",\"proud-q254\",\"child-obey1-q8\",\"materialistic-q155\"],\"type\":\"scatterpolar\"},{\"fill\":\"toself\",\"name\":\"prompt2\",\"r\":[4.0,10.0,1.0,10.0,10.0,10.0,10.0,4.0,5.5,10.0],\"theta\":[\"happiness-q46\",\"trust-q57\",\"authority-q45\",\"petition-q209\",\"god-q164\",\"homosexuality-q182\",\"abortion-q184\",\"proud-q254\",\"child-obey1-q8\",\"materialistic-q155\"],\"type\":\"scatterpolar\"},{\"fill\":\"toself\",\"name\":\"prompt3\",\"r\":[4.0,10.0,1.0,10.0,10.0,10.0,10.0,4.0,10.0,10.0],\"theta\":[\"happiness-q46\",\"trust-q57\",\"authority-q45\",\"petition-q209\",\"god-q164\",\"homosexuality-q182\",\"abortion-q184\",\"proud-q254\",\"child-obey1-q8\",\"materialistic-q155\"],\"type\":\"scatterpolar\"}],                        {\"template\":{\"data\":{\"histogram2dcontour\":[{\"type\":\"histogram2dcontour\",\"colorbar\":{\"outlinewidth\":0,\"ticks\":\"\"},\"colorscale\":[[0.0,\"#0d0887\"],[0.1111111111111111,\"#46039f\"],[0.2222222222222222,\"#7201a8\"],[0.3333333333333333,\"#9c179e\"],[0.4444444444444444,\"#bd3786\"],[0.5555555555555556,\"#d8576b\"],[0.6666666666666666,\"#ed7953\"],[0.7777777777777778,\"#fb9f3a\"],[0.8888888888888888,\"#fdca26\"],[1.0,\"#f0f921\"]]}],\"choropleth\":[{\"type\":\"choropleth\",\"colorbar\":{\"outlinewidth\":0,\"ticks\":\"\"}}],\"histogram2d\":[{\"type\":\"histogram2d\",\"colorbar\":{\"outlinewidth\":0,\"ticks\":\"\"},\"colorscale\":[[0.0,\"#0d0887\"],[0.1111111111111111,\"#46039f\"],[0.2222222222222222,\"#7201a8\"],[0.3333333333333333,\"#9c179e\"],[0.4444444444444444,\"#bd3786\"],[0.5555555555555556,\"#d8576b\"],[0.6666666666666666,\"#ed7953\"],[0.7777777777777778,\"#fb9f3a\"],[0.8888888888888888,\"#fdca26\"],[1.0,\"#f0f921\"]]}],\"heatmap\":[{\"type\":\"heatmap\",\"colorbar\":{\"outlinewidth\":0,\"ticks\":\"\"},\"colorscale\":[[0.0,\"#0d0887\"],[0.1111111111111111,\"#46039f\"],[0.2222222222222222,\"#7201a8\"],[0.3333333333333333,\"#9c179e\"],[0.4444444444444444,\"#bd3786\"],[0.5555555555555556,\"#d8576b\"],[0.6666666666666666,\"#ed7953\"],[0.7777777777777778,\"#fb9f3a\"],[0.8888888888888888,\"#fdca26\"],[1.0,\"#f0f921\"]]}],\"heatmapgl\":[{\"type\":\"heatmapgl\",\"colorbar\":{\"outlinewidth\":0,\"ticks\":\"\"},\"colorscale\":[[0.0,\"#0d0887\"],[0.1111111111111111,\"#46039f\"],[0.2222222222222222,\"#7201a8\"],[0.3333333333333333,\"#9c179e\"],[0.4444444444444444,\"#bd3786\"],[0.5555555555555556,\"#d8576b\"],[0.6666666666666666,\"#ed7953\"],[0.7777777777777778,\"#fb9f3a\"],[0.8888888888888888,\"#fdca26\"],[1.0,\"#f0f921\"]]}],\"contourcarpet\":[{\"type\":\"contourcarpet\",\"colorbar\":{\"outlinewidth\":0,\"ticks\":\"\"}}],\"contour\":[{\"type\":\"contour\",\"colorbar\":{\"outlinewidth\":0,\"ticks\":\"\"},\"colorscale\":[[0.0,\"#0d0887\"],[0.1111111111111111,\"#46039f\"],[0.2222222222222222,\"#7201a8\"],[0.3333333333333333,\"#9c179e\"],[0.4444444444444444,\"#bd3786\"],[0.5555555555555556,\"#d8576b\"],[0.6666666666666666,\"#ed7953\"],[0.7777777777777778,\"#fb9f3a\"],[0.8888888888888888,\"#fdca26\"],[1.0,\"#f0f921\"]]}],\"surface\":[{\"type\":\"surface\",\"colorbar\":{\"outlinewidth\":0,\"ticks\":\"\"},\"colorscale\":[[0.0,\"#0d0887\"],[0.1111111111111111,\"#46039f\"],[0.2222222222222222,\"#7201a8\"],[0.3333333333333333,\"#9c179e\"],[0.4444444444444444,\"#bd3786\"],[0.5555555555555556,\"#d8576b\"],[0.6666666666666666,\"#ed7953\"],[0.7777777777777778,\"#fb9f3a\"],[0.8888888888888888,\"#fdca26\"],[1.0,\"#f0f921\"]]}],\"mesh3d\":[{\"type\":\"mesh3d\",\"colorbar\":{\"outlinewidth\":0,\"ticks\":\"\"}}],\"scatter\":[{\"fillpattern\":{\"fillmode\":\"overlay\",\"size\":10,\"solidity\":0.2},\"type\":\"scatter\"}],\"parcoords\":[{\"type\":\"parcoords\",\"line\":{\"colorbar\":{\"outlinewidth\":0,\"ticks\":\"\"}}}],\"scatterpolargl\":[{\"type\":\"scatterpolargl\",\"marker\":{\"colorbar\":{\"outlinewidth\":0,\"ticks\":\"\"}}}],\"bar\":[{\"error_x\":{\"color\":\"#2a3f5f\"},\"error_y\":{\"color\":\"#2a3f5f\"},\"marker\":{\"line\":{\"color\":\"#E5ECF6\",\"width\":0.5},\"pattern\":{\"fillmode\":\"overlay\",\"size\":10,\"solidity\":0.2}},\"type\":\"bar\"}],\"scattergeo\":[{\"type\":\"scattergeo\",\"marker\":{\"colorbar\":{\"outlinewidth\":0,\"ticks\":\"\"}}}],\"scatterpolar\":[{\"type\":\"scatterpolar\",\"marker\":{\"colorbar\":{\"outlinewidth\":0,\"ticks\":\"\"}}}],\"histogram\":[{\"marker\":{\"pattern\":{\"fillmode\":\"overlay\",\"size\":10,\"solidity\":0.2}},\"type\":\"histogram\"}],\"scattergl\":[{\"type\":\"scattergl\",\"marker\":{\"colorbar\":{\"outlinewidth\":0,\"ticks\":\"\"}}}],\"scatter3d\":[{\"type\":\"scatter3d\",\"line\":{\"colorbar\":{\"outlinewidth\":0,\"ticks\":\"\"}},\"marker\":{\"colorbar\":{\"outlinewidth\":0,\"ticks\":\"\"}}}],\"scattermapbox\":[{\"type\":\"scattermapbox\",\"marker\":{\"colorbar\":{\"outlinewidth\":0,\"ticks\":\"\"}}}],\"scatterternary\":[{\"type\":\"scatterternary\",\"marker\":{\"colorbar\":{\"outlinewidth\":0,\"ticks\":\"\"}}}],\"scattercarpet\":[{\"type\":\"scattercarpet\",\"marker\":{\"colorbar\":{\"outlinewidth\":0,\"ticks\":\"\"}}}],\"carpet\":[{\"aaxis\":{\"endlinecolor\":\"#2a3f5f\",\"gridcolor\":\"white\",\"linecolor\":\"white\",\"minorgridcolor\":\"white\",\"startlinecolor\":\"#2a3f5f\"},\"baxis\":{\"endlinecolor\":\"#2a3f5f\",\"gridcolor\":\"white\",\"linecolor\":\"white\",\"minorgridcolor\":\"white\",\"startlinecolor\":\"#2a3f5f\"},\"type\":\"carpet\"}],\"table\":[{\"cells\":{\"fill\":{\"color\":\"#EBF0F8\"},\"line\":{\"color\":\"white\"}},\"header\":{\"fill\":{\"color\":\"#C8D4E3\"},\"line\":{\"color\":\"white\"}},\"type\":\"table\"}],\"barpolar\":[{\"marker\":{\"line\":{\"color\":\"#E5ECF6\",\"width\":0.5},\"pattern\":{\"fillmode\":\"overlay\",\"size\":10,\"solidity\":0.2}},\"type\":\"barpolar\"}],\"pie\":[{\"automargin\":true,\"type\":\"pie\"}]},\"layout\":{\"autotypenumbers\":\"strict\",\"colorway\":[\"#636efa\",\"#EF553B\",\"#00cc96\",\"#ab63fa\",\"#FFA15A\",\"#19d3f3\",\"#FF6692\",\"#B6E880\",\"#FF97FF\",\"#FECB52\"],\"font\":{\"color\":\"#2a3f5f\"},\"hovermode\":\"closest\",\"hoverlabel\":{\"align\":\"left\"},\"paper_bgcolor\":\"white\",\"plot_bgcolor\":\"#E5ECF6\",\"polar\":{\"bgcolor\":\"#E5ECF6\",\"angularaxis\":{\"gridcolor\":\"white\",\"linecolor\":\"white\",\"ticks\":\"\"},\"radialaxis\":{\"gridcolor\":\"white\",\"linecolor\":\"white\",\"ticks\":\"\"}},\"ternary\":{\"bgcolor\":\"#E5ECF6\",\"aaxis\":{\"gridcolor\":\"white\",\"linecolor\":\"white\",\"ticks\":\"\"},\"baxis\":{\"gridcolor\":\"white\",\"linecolor\":\"white\",\"ticks\":\"\"},\"caxis\":{\"gridcolor\":\"white\",\"linecolor\":\"white\",\"ticks\":\"\"}},\"coloraxis\":{\"colorbar\":{\"outlinewidth\":0,\"ticks\":\"\"}},\"colorscale\":{\"sequential\":[[0.0,\"#0d0887\"],[0.1111111111111111,\"#46039f\"],[0.2222222222222222,\"#7201a8\"],[0.3333333333333333,\"#9c179e\"],[0.4444444444444444,\"#bd3786\"],[0.5555555555555556,\"#d8576b\"],[0.6666666666666666,\"#ed7953\"],[0.7777777777777778,\"#fb9f3a\"],[0.8888888888888888,\"#fdca26\"],[1.0,\"#f0f921\"]],\"sequentialminus\":[[0.0,\"#0d0887\"],[0.1111111111111111,\"#46039f\"],[0.2222222222222222,\"#7201a8\"],[0.3333333333333333,\"#9c179e\"],[0.4444444444444444,\"#bd3786\"],[0.5555555555555556,\"#d8576b\"],[0.6666666666666666,\"#ed7953\"],[0.7777777777777778,\"#fb9f3a\"],[0.8888888888888888,\"#fdca26\"],[1.0,\"#f0f921\"]],\"diverging\":[[0,\"#8e0152\"],[0.1,\"#c51b7d\"],[0.2,\"#de77ae\"],[0.3,\"#f1b6da\"],[0.4,\"#fde0ef\"],[0.5,\"#f7f7f7\"],[0.6,\"#e6f5d0\"],[0.7,\"#b8e186\"],[0.8,\"#7fbc41\"],[0.9,\"#4d9221\"],[1,\"#276419\"]]},\"xaxis\":{\"gridcolor\":\"white\",\"linecolor\":\"white\",\"ticks\":\"\",\"title\":{\"standoff\":15},\"zerolinecolor\":\"white\",\"automargin\":true,\"zerolinewidth\":2},\"yaxis\":{\"gridcolor\":\"white\",\"linecolor\":\"white\",\"ticks\":\"\",\"title\":{\"standoff\":15},\"zerolinecolor\":\"white\",\"automargin\":true,\"zerolinewidth\":2},\"scene\":{\"xaxis\":{\"backgroundcolor\":\"#E5ECF6\",\"gridcolor\":\"white\",\"linecolor\":\"white\",\"showbackground\":true,\"ticks\":\"\",\"zerolinecolor\":\"white\",\"gridwidth\":2},\"yaxis\":{\"backgroundcolor\":\"#E5ECF6\",\"gridcolor\":\"white\",\"linecolor\":\"white\",\"showbackground\":true,\"ticks\":\"\",\"zerolinecolor\":\"white\",\"gridwidth\":2},\"zaxis\":{\"backgroundcolor\":\"#E5ECF6\",\"gridcolor\":\"white\",\"linecolor\":\"white\",\"showbackground\":true,\"ticks\":\"\",\"zerolinecolor\":\"white\",\"gridwidth\":2}},\"shapedefaults\":{\"line\":{\"color\":\"#2a3f5f\"}},\"annotationdefaults\":{\"arrowcolor\":\"#2a3f5f\",\"arrowhead\":0,\"arrowwidth\":1},\"geo\":{\"bgcolor\":\"white\",\"landcolor\":\"#E5ECF6\",\"subunitcolor\":\"white\",\"showland\":true,\"showlakes\":true,\"lakecolor\":\"white\"},\"title\":{\"x\":0.05},\"mapbox\":{\"style\":\"light\"}}},\"polar\":{\"radialaxis\":{\"visible\":true,\"range\":[0,10]}},\"title\":{\"text\":\"Radar Chart for Model Comparison\"},\"showlegend\":true},                        {\"responsive\": true}                    ).then(function(){\n",
       "                            \n",
       "var gd = document.getElementById('a5740812-0c4f-4d70-8790-9c6e78a6788a');\n",
       "var x = new MutationObserver(function (mutations, observer) {{\n",
       "        var display = window.getComputedStyle(gd).display;\n",
       "        if (!display || display === 'none') {{\n",
       "            console.log([gd, 'removed!']);\n",
       "            Plotly.purge(gd);\n",
       "            observer.disconnect();\n",
       "        }}\n",
       "}});\n",
       "\n",
       "// Listen for the removal of the full notebook cells\n",
       "var notebookContainer = gd.closest('#notebook-container');\n",
       "if (notebookContainer) {{\n",
       "    x.observe(notebookContainer, {childList: true});\n",
       "}}\n",
       "\n",
       "// Listen for the clearing of the current output cell\n",
       "var outputEl = gd.closest('.output');\n",
       "if (outputEl) {{\n",
       "    x.observe(outputEl, {childList: true});\n",
       "}}\n",
       "\n",
       "                        })                };                });            </script>        </div>"
      ]
     },
     "metadata": {},
     "output_type": "display_data"
    },
    {
     "name": "stdout",
     "output_type": "stream",
     "text": [
      "MISTRAL\n",
      "[7.0, 10.0, 1.0, 10.0, 10.0, 10.0, 1.0, 4.0, 5.5, 10.0]\n",
      "[7.0, 10.0, 1.0, 10.0, 10.0, 9.0, 1.0, 4.0, 5.5, 10.0]\n",
      "[4.0, 10.0, 10.0, 10.0, 10.0, 9.0, 9.0, 4.0, 5.5, 10.0]\n"
     ]
    },
    {
     "data": {
      "application/vnd.plotly.v1+json": {
       "config": {
        "plotlyServerURL": "https://plot.ly"
       },
       "data": [
        {
         "fill": "toself",
         "name": "prompt1",
         "r": [
          7,
          10,
          1,
          10,
          10,
          10,
          1,
          4,
          5.5,
          10
         ],
         "theta": [
          "happiness-q46",
          "trust-q57",
          "authority-q45",
          "petition-q209",
          "god-q164",
          "homosexuality-q182",
          "abortion-q184",
          "proud-q254",
          "child-obey1-q8",
          "materialistic-q155"
         ],
         "type": "scatterpolar"
        },
        {
         "fill": "toself",
         "name": "prompt3",
         "r": [
          7,
          10,
          1,
          10,
          10,
          9,
          1,
          4,
          5.5,
          10
         ],
         "theta": [
          "happiness-q46",
          "trust-q57",
          "authority-q45",
          "petition-q209",
          "god-q164",
          "homosexuality-q182",
          "abortion-q184",
          "proud-q254",
          "child-obey1-q8",
          "materialistic-q155"
         ],
         "type": "scatterpolar"
        },
        {
         "fill": "toself",
         "name": "prompt2",
         "r": [
          4,
          10,
          10,
          10,
          10,
          9,
          9,
          4,
          5.5,
          10
         ],
         "theta": [
          "happiness-q46",
          "trust-q57",
          "authority-q45",
          "petition-q209",
          "god-q164",
          "homosexuality-q182",
          "abortion-q184",
          "proud-q254",
          "child-obey1-q8",
          "materialistic-q155"
         ],
         "type": "scatterpolar"
        }
       ],
       "layout": {
        "polar": {
         "radialaxis": {
          "range": [
           0,
           10
          ],
          "visible": true
         }
        },
        "showlegend": true,
        "template": {
         "data": {
          "bar": [
           {
            "error_x": {
             "color": "#2a3f5f"
            },
            "error_y": {
             "color": "#2a3f5f"
            },
            "marker": {
             "line": {
              "color": "#E5ECF6",
              "width": 0.5
             },
             "pattern": {
              "fillmode": "overlay",
              "size": 10,
              "solidity": 0.2
             }
            },
            "type": "bar"
           }
          ],
          "barpolar": [
           {
            "marker": {
             "line": {
              "color": "#E5ECF6",
              "width": 0.5
             },
             "pattern": {
              "fillmode": "overlay",
              "size": 10,
              "solidity": 0.2
             }
            },
            "type": "barpolar"
           }
          ],
          "carpet": [
           {
            "aaxis": {
             "endlinecolor": "#2a3f5f",
             "gridcolor": "white",
             "linecolor": "white",
             "minorgridcolor": "white",
             "startlinecolor": "#2a3f5f"
            },
            "baxis": {
             "endlinecolor": "#2a3f5f",
             "gridcolor": "white",
             "linecolor": "white",
             "minorgridcolor": "white",
             "startlinecolor": "#2a3f5f"
            },
            "type": "carpet"
           }
          ],
          "choropleth": [
           {
            "colorbar": {
             "outlinewidth": 0,
             "ticks": ""
            },
            "type": "choropleth"
           }
          ],
          "contour": [
           {
            "colorbar": {
             "outlinewidth": 0,
             "ticks": ""
            },
            "colorscale": [
             [
              0,
              "#0d0887"
             ],
             [
              0.1111111111111111,
              "#46039f"
             ],
             [
              0.2222222222222222,
              "#7201a8"
             ],
             [
              0.3333333333333333,
              "#9c179e"
             ],
             [
              0.4444444444444444,
              "#bd3786"
             ],
             [
              0.5555555555555556,
              "#d8576b"
             ],
             [
              0.6666666666666666,
              "#ed7953"
             ],
             [
              0.7777777777777778,
              "#fb9f3a"
             ],
             [
              0.8888888888888888,
              "#fdca26"
             ],
             [
              1,
              "#f0f921"
             ]
            ],
            "type": "contour"
           }
          ],
          "contourcarpet": [
           {
            "colorbar": {
             "outlinewidth": 0,
             "ticks": ""
            },
            "type": "contourcarpet"
           }
          ],
          "heatmap": [
           {
            "colorbar": {
             "outlinewidth": 0,
             "ticks": ""
            },
            "colorscale": [
             [
              0,
              "#0d0887"
             ],
             [
              0.1111111111111111,
              "#46039f"
             ],
             [
              0.2222222222222222,
              "#7201a8"
             ],
             [
              0.3333333333333333,
              "#9c179e"
             ],
             [
              0.4444444444444444,
              "#bd3786"
             ],
             [
              0.5555555555555556,
              "#d8576b"
             ],
             [
              0.6666666666666666,
              "#ed7953"
             ],
             [
              0.7777777777777778,
              "#fb9f3a"
             ],
             [
              0.8888888888888888,
              "#fdca26"
             ],
             [
              1,
              "#f0f921"
             ]
            ],
            "type": "heatmap"
           }
          ],
          "heatmapgl": [
           {
            "colorbar": {
             "outlinewidth": 0,
             "ticks": ""
            },
            "colorscale": [
             [
              0,
              "#0d0887"
             ],
             [
              0.1111111111111111,
              "#46039f"
             ],
             [
              0.2222222222222222,
              "#7201a8"
             ],
             [
              0.3333333333333333,
              "#9c179e"
             ],
             [
              0.4444444444444444,
              "#bd3786"
             ],
             [
              0.5555555555555556,
              "#d8576b"
             ],
             [
              0.6666666666666666,
              "#ed7953"
             ],
             [
              0.7777777777777778,
              "#fb9f3a"
             ],
             [
              0.8888888888888888,
              "#fdca26"
             ],
             [
              1,
              "#f0f921"
             ]
            ],
            "type": "heatmapgl"
           }
          ],
          "histogram": [
           {
            "marker": {
             "pattern": {
              "fillmode": "overlay",
              "size": 10,
              "solidity": 0.2
             }
            },
            "type": "histogram"
           }
          ],
          "histogram2d": [
           {
            "colorbar": {
             "outlinewidth": 0,
             "ticks": ""
            },
            "colorscale": [
             [
              0,
              "#0d0887"
             ],
             [
              0.1111111111111111,
              "#46039f"
             ],
             [
              0.2222222222222222,
              "#7201a8"
             ],
             [
              0.3333333333333333,
              "#9c179e"
             ],
             [
              0.4444444444444444,
              "#bd3786"
             ],
             [
              0.5555555555555556,
              "#d8576b"
             ],
             [
              0.6666666666666666,
              "#ed7953"
             ],
             [
              0.7777777777777778,
              "#fb9f3a"
             ],
             [
              0.8888888888888888,
              "#fdca26"
             ],
             [
              1,
              "#f0f921"
             ]
            ],
            "type": "histogram2d"
           }
          ],
          "histogram2dcontour": [
           {
            "colorbar": {
             "outlinewidth": 0,
             "ticks": ""
            },
            "colorscale": [
             [
              0,
              "#0d0887"
             ],
             [
              0.1111111111111111,
              "#46039f"
             ],
             [
              0.2222222222222222,
              "#7201a8"
             ],
             [
              0.3333333333333333,
              "#9c179e"
             ],
             [
              0.4444444444444444,
              "#bd3786"
             ],
             [
              0.5555555555555556,
              "#d8576b"
             ],
             [
              0.6666666666666666,
              "#ed7953"
             ],
             [
              0.7777777777777778,
              "#fb9f3a"
             ],
             [
              0.8888888888888888,
              "#fdca26"
             ],
             [
              1,
              "#f0f921"
             ]
            ],
            "type": "histogram2dcontour"
           }
          ],
          "mesh3d": [
           {
            "colorbar": {
             "outlinewidth": 0,
             "ticks": ""
            },
            "type": "mesh3d"
           }
          ],
          "parcoords": [
           {
            "line": {
             "colorbar": {
              "outlinewidth": 0,
              "ticks": ""
             }
            },
            "type": "parcoords"
           }
          ],
          "pie": [
           {
            "automargin": true,
            "type": "pie"
           }
          ],
          "scatter": [
           {
            "fillpattern": {
             "fillmode": "overlay",
             "size": 10,
             "solidity": 0.2
            },
            "type": "scatter"
           }
          ],
          "scatter3d": [
           {
            "line": {
             "colorbar": {
              "outlinewidth": 0,
              "ticks": ""
             }
            },
            "marker": {
             "colorbar": {
              "outlinewidth": 0,
              "ticks": ""
             }
            },
            "type": "scatter3d"
           }
          ],
          "scattercarpet": [
           {
            "marker": {
             "colorbar": {
              "outlinewidth": 0,
              "ticks": ""
             }
            },
            "type": "scattercarpet"
           }
          ],
          "scattergeo": [
           {
            "marker": {
             "colorbar": {
              "outlinewidth": 0,
              "ticks": ""
             }
            },
            "type": "scattergeo"
           }
          ],
          "scattergl": [
           {
            "marker": {
             "colorbar": {
              "outlinewidth": 0,
              "ticks": ""
             }
            },
            "type": "scattergl"
           }
          ],
          "scattermapbox": [
           {
            "marker": {
             "colorbar": {
              "outlinewidth": 0,
              "ticks": ""
             }
            },
            "type": "scattermapbox"
           }
          ],
          "scatterpolar": [
           {
            "marker": {
             "colorbar": {
              "outlinewidth": 0,
              "ticks": ""
             }
            },
            "type": "scatterpolar"
           }
          ],
          "scatterpolargl": [
           {
            "marker": {
             "colorbar": {
              "outlinewidth": 0,
              "ticks": ""
             }
            },
            "type": "scatterpolargl"
           }
          ],
          "scatterternary": [
           {
            "marker": {
             "colorbar": {
              "outlinewidth": 0,
              "ticks": ""
             }
            },
            "type": "scatterternary"
           }
          ],
          "surface": [
           {
            "colorbar": {
             "outlinewidth": 0,
             "ticks": ""
            },
            "colorscale": [
             [
              0,
              "#0d0887"
             ],
             [
              0.1111111111111111,
              "#46039f"
             ],
             [
              0.2222222222222222,
              "#7201a8"
             ],
             [
              0.3333333333333333,
              "#9c179e"
             ],
             [
              0.4444444444444444,
              "#bd3786"
             ],
             [
              0.5555555555555556,
              "#d8576b"
             ],
             [
              0.6666666666666666,
              "#ed7953"
             ],
             [
              0.7777777777777778,
              "#fb9f3a"
             ],
             [
              0.8888888888888888,
              "#fdca26"
             ],
             [
              1,
              "#f0f921"
             ]
            ],
            "type": "surface"
           }
          ],
          "table": [
           {
            "cells": {
             "fill": {
              "color": "#EBF0F8"
             },
             "line": {
              "color": "white"
             }
            },
            "header": {
             "fill": {
              "color": "#C8D4E3"
             },
             "line": {
              "color": "white"
             }
            },
            "type": "table"
           }
          ]
         },
         "layout": {
          "annotationdefaults": {
           "arrowcolor": "#2a3f5f",
           "arrowhead": 0,
           "arrowwidth": 1
          },
          "autotypenumbers": "strict",
          "coloraxis": {
           "colorbar": {
            "outlinewidth": 0,
            "ticks": ""
           }
          },
          "colorscale": {
           "diverging": [
            [
             0,
             "#8e0152"
            ],
            [
             0.1,
             "#c51b7d"
            ],
            [
             0.2,
             "#de77ae"
            ],
            [
             0.3,
             "#f1b6da"
            ],
            [
             0.4,
             "#fde0ef"
            ],
            [
             0.5,
             "#f7f7f7"
            ],
            [
             0.6,
             "#e6f5d0"
            ],
            [
             0.7,
             "#b8e186"
            ],
            [
             0.8,
             "#7fbc41"
            ],
            [
             0.9,
             "#4d9221"
            ],
            [
             1,
             "#276419"
            ]
           ],
           "sequential": [
            [
             0,
             "#0d0887"
            ],
            [
             0.1111111111111111,
             "#46039f"
            ],
            [
             0.2222222222222222,
             "#7201a8"
            ],
            [
             0.3333333333333333,
             "#9c179e"
            ],
            [
             0.4444444444444444,
             "#bd3786"
            ],
            [
             0.5555555555555556,
             "#d8576b"
            ],
            [
             0.6666666666666666,
             "#ed7953"
            ],
            [
             0.7777777777777778,
             "#fb9f3a"
            ],
            [
             0.8888888888888888,
             "#fdca26"
            ],
            [
             1,
             "#f0f921"
            ]
           ],
           "sequentialminus": [
            [
             0,
             "#0d0887"
            ],
            [
             0.1111111111111111,
             "#46039f"
            ],
            [
             0.2222222222222222,
             "#7201a8"
            ],
            [
             0.3333333333333333,
             "#9c179e"
            ],
            [
             0.4444444444444444,
             "#bd3786"
            ],
            [
             0.5555555555555556,
             "#d8576b"
            ],
            [
             0.6666666666666666,
             "#ed7953"
            ],
            [
             0.7777777777777778,
             "#fb9f3a"
            ],
            [
             0.8888888888888888,
             "#fdca26"
            ],
            [
             1,
             "#f0f921"
            ]
           ]
          },
          "colorway": [
           "#636efa",
           "#EF553B",
           "#00cc96",
           "#ab63fa",
           "#FFA15A",
           "#19d3f3",
           "#FF6692",
           "#B6E880",
           "#FF97FF",
           "#FECB52"
          ],
          "font": {
           "color": "#2a3f5f"
          },
          "geo": {
           "bgcolor": "white",
           "lakecolor": "white",
           "landcolor": "#E5ECF6",
           "showlakes": true,
           "showland": true,
           "subunitcolor": "white"
          },
          "hoverlabel": {
           "align": "left"
          },
          "hovermode": "closest",
          "mapbox": {
           "style": "light"
          },
          "paper_bgcolor": "white",
          "plot_bgcolor": "#E5ECF6",
          "polar": {
           "angularaxis": {
            "gridcolor": "white",
            "linecolor": "white",
            "ticks": ""
           },
           "bgcolor": "#E5ECF6",
           "radialaxis": {
            "gridcolor": "white",
            "linecolor": "white",
            "ticks": ""
           }
          },
          "scene": {
           "xaxis": {
            "backgroundcolor": "#E5ECF6",
            "gridcolor": "white",
            "gridwidth": 2,
            "linecolor": "white",
            "showbackground": true,
            "ticks": "",
            "zerolinecolor": "white"
           },
           "yaxis": {
            "backgroundcolor": "#E5ECF6",
            "gridcolor": "white",
            "gridwidth": 2,
            "linecolor": "white",
            "showbackground": true,
            "ticks": "",
            "zerolinecolor": "white"
           },
           "zaxis": {
            "backgroundcolor": "#E5ECF6",
            "gridcolor": "white",
            "gridwidth": 2,
            "linecolor": "white",
            "showbackground": true,
            "ticks": "",
            "zerolinecolor": "white"
           }
          },
          "shapedefaults": {
           "line": {
            "color": "#2a3f5f"
           }
          },
          "ternary": {
           "aaxis": {
            "gridcolor": "white",
            "linecolor": "white",
            "ticks": ""
           },
           "baxis": {
            "gridcolor": "white",
            "linecolor": "white",
            "ticks": ""
           },
           "bgcolor": "#E5ECF6",
           "caxis": {
            "gridcolor": "white",
            "linecolor": "white",
            "ticks": ""
           }
          },
          "title": {
           "x": 0.05
          },
          "xaxis": {
           "automargin": true,
           "gridcolor": "white",
           "linecolor": "white",
           "ticks": "",
           "title": {
            "standoff": 15
           },
           "zerolinecolor": "white",
           "zerolinewidth": 2
          },
          "yaxis": {
           "automargin": true,
           "gridcolor": "white",
           "linecolor": "white",
           "ticks": "",
           "title": {
            "standoff": 15
           },
           "zerolinecolor": "white",
           "zerolinewidth": 2
          }
         }
        },
        "title": {
         "text": "Radar Chart for Model Comparison"
        }
       }
      },
      "text/html": [
       "<div>                            <div id=\"df55a41b-2889-45a1-a858-9538fe894915\" class=\"plotly-graph-div\" style=\"height:525px; width:100%;\"></div>            <script type=\"text/javascript\">                require([\"plotly\"], function(Plotly) {                    window.PLOTLYENV=window.PLOTLYENV || {};                                    if (document.getElementById(\"df55a41b-2889-45a1-a858-9538fe894915\")) {                    Plotly.newPlot(                        \"df55a41b-2889-45a1-a858-9538fe894915\",                        [{\"fill\":\"toself\",\"name\":\"prompt1\",\"r\":[7.0,10.0,1.0,10.0,10.0,10.0,1.0,4.0,5.5,10.0],\"theta\":[\"happiness-q46\",\"trust-q57\",\"authority-q45\",\"petition-q209\",\"god-q164\",\"homosexuality-q182\",\"abortion-q184\",\"proud-q254\",\"child-obey1-q8\",\"materialistic-q155\"],\"type\":\"scatterpolar\"},{\"fill\":\"toself\",\"name\":\"prompt3\",\"r\":[7.0,10.0,1.0,10.0,10.0,9.0,1.0,4.0,5.5,10.0],\"theta\":[\"happiness-q46\",\"trust-q57\",\"authority-q45\",\"petition-q209\",\"god-q164\",\"homosexuality-q182\",\"abortion-q184\",\"proud-q254\",\"child-obey1-q8\",\"materialistic-q155\"],\"type\":\"scatterpolar\"},{\"fill\":\"toself\",\"name\":\"prompt2\",\"r\":[4.0,10.0,10.0,10.0,10.0,9.0,9.0,4.0,5.5,10.0],\"theta\":[\"happiness-q46\",\"trust-q57\",\"authority-q45\",\"petition-q209\",\"god-q164\",\"homosexuality-q182\",\"abortion-q184\",\"proud-q254\",\"child-obey1-q8\",\"materialistic-q155\"],\"type\":\"scatterpolar\"}],                        {\"template\":{\"data\":{\"histogram2dcontour\":[{\"type\":\"histogram2dcontour\",\"colorbar\":{\"outlinewidth\":0,\"ticks\":\"\"},\"colorscale\":[[0.0,\"#0d0887\"],[0.1111111111111111,\"#46039f\"],[0.2222222222222222,\"#7201a8\"],[0.3333333333333333,\"#9c179e\"],[0.4444444444444444,\"#bd3786\"],[0.5555555555555556,\"#d8576b\"],[0.6666666666666666,\"#ed7953\"],[0.7777777777777778,\"#fb9f3a\"],[0.8888888888888888,\"#fdca26\"],[1.0,\"#f0f921\"]]}],\"choropleth\":[{\"type\":\"choropleth\",\"colorbar\":{\"outlinewidth\":0,\"ticks\":\"\"}}],\"histogram2d\":[{\"type\":\"histogram2d\",\"colorbar\":{\"outlinewidth\":0,\"ticks\":\"\"},\"colorscale\":[[0.0,\"#0d0887\"],[0.1111111111111111,\"#46039f\"],[0.2222222222222222,\"#7201a8\"],[0.3333333333333333,\"#9c179e\"],[0.4444444444444444,\"#bd3786\"],[0.5555555555555556,\"#d8576b\"],[0.6666666666666666,\"#ed7953\"],[0.7777777777777778,\"#fb9f3a\"],[0.8888888888888888,\"#fdca26\"],[1.0,\"#f0f921\"]]}],\"heatmap\":[{\"type\":\"heatmap\",\"colorbar\":{\"outlinewidth\":0,\"ticks\":\"\"},\"colorscale\":[[0.0,\"#0d0887\"],[0.1111111111111111,\"#46039f\"],[0.2222222222222222,\"#7201a8\"],[0.3333333333333333,\"#9c179e\"],[0.4444444444444444,\"#bd3786\"],[0.5555555555555556,\"#d8576b\"],[0.6666666666666666,\"#ed7953\"],[0.7777777777777778,\"#fb9f3a\"],[0.8888888888888888,\"#fdca26\"],[1.0,\"#f0f921\"]]}],\"heatmapgl\":[{\"type\":\"heatmapgl\",\"colorbar\":{\"outlinewidth\":0,\"ticks\":\"\"},\"colorscale\":[[0.0,\"#0d0887\"],[0.1111111111111111,\"#46039f\"],[0.2222222222222222,\"#7201a8\"],[0.3333333333333333,\"#9c179e\"],[0.4444444444444444,\"#bd3786\"],[0.5555555555555556,\"#d8576b\"],[0.6666666666666666,\"#ed7953\"],[0.7777777777777778,\"#fb9f3a\"],[0.8888888888888888,\"#fdca26\"],[1.0,\"#f0f921\"]]}],\"contourcarpet\":[{\"type\":\"contourcarpet\",\"colorbar\":{\"outlinewidth\":0,\"ticks\":\"\"}}],\"contour\":[{\"type\":\"contour\",\"colorbar\":{\"outlinewidth\":0,\"ticks\":\"\"},\"colorscale\":[[0.0,\"#0d0887\"],[0.1111111111111111,\"#46039f\"],[0.2222222222222222,\"#7201a8\"],[0.3333333333333333,\"#9c179e\"],[0.4444444444444444,\"#bd3786\"],[0.5555555555555556,\"#d8576b\"],[0.6666666666666666,\"#ed7953\"],[0.7777777777777778,\"#fb9f3a\"],[0.8888888888888888,\"#fdca26\"],[1.0,\"#f0f921\"]]}],\"surface\":[{\"type\":\"surface\",\"colorbar\":{\"outlinewidth\":0,\"ticks\":\"\"},\"colorscale\":[[0.0,\"#0d0887\"],[0.1111111111111111,\"#46039f\"],[0.2222222222222222,\"#7201a8\"],[0.3333333333333333,\"#9c179e\"],[0.4444444444444444,\"#bd3786\"],[0.5555555555555556,\"#d8576b\"],[0.6666666666666666,\"#ed7953\"],[0.7777777777777778,\"#fb9f3a\"],[0.8888888888888888,\"#fdca26\"],[1.0,\"#f0f921\"]]}],\"mesh3d\":[{\"type\":\"mesh3d\",\"colorbar\":{\"outlinewidth\":0,\"ticks\":\"\"}}],\"scatter\":[{\"fillpattern\":{\"fillmode\":\"overlay\",\"size\":10,\"solidity\":0.2},\"type\":\"scatter\"}],\"parcoords\":[{\"type\":\"parcoords\",\"line\":{\"colorbar\":{\"outlinewidth\":0,\"ticks\":\"\"}}}],\"scatterpolargl\":[{\"type\":\"scatterpolargl\",\"marker\":{\"colorbar\":{\"outlinewidth\":0,\"ticks\":\"\"}}}],\"bar\":[{\"error_x\":{\"color\":\"#2a3f5f\"},\"error_y\":{\"color\":\"#2a3f5f\"},\"marker\":{\"line\":{\"color\":\"#E5ECF6\",\"width\":0.5},\"pattern\":{\"fillmode\":\"overlay\",\"size\":10,\"solidity\":0.2}},\"type\":\"bar\"}],\"scattergeo\":[{\"type\":\"scattergeo\",\"marker\":{\"colorbar\":{\"outlinewidth\":0,\"ticks\":\"\"}}}],\"scatterpolar\":[{\"type\":\"scatterpolar\",\"marker\":{\"colorbar\":{\"outlinewidth\":0,\"ticks\":\"\"}}}],\"histogram\":[{\"marker\":{\"pattern\":{\"fillmode\":\"overlay\",\"size\":10,\"solidity\":0.2}},\"type\":\"histogram\"}],\"scattergl\":[{\"type\":\"scattergl\",\"marker\":{\"colorbar\":{\"outlinewidth\":0,\"ticks\":\"\"}}}],\"scatter3d\":[{\"type\":\"scatter3d\",\"line\":{\"colorbar\":{\"outlinewidth\":0,\"ticks\":\"\"}},\"marker\":{\"colorbar\":{\"outlinewidth\":0,\"ticks\":\"\"}}}],\"scattermapbox\":[{\"type\":\"scattermapbox\",\"marker\":{\"colorbar\":{\"outlinewidth\":0,\"ticks\":\"\"}}}],\"scatterternary\":[{\"type\":\"scatterternary\",\"marker\":{\"colorbar\":{\"outlinewidth\":0,\"ticks\":\"\"}}}],\"scattercarpet\":[{\"type\":\"scattercarpet\",\"marker\":{\"colorbar\":{\"outlinewidth\":0,\"ticks\":\"\"}}}],\"carpet\":[{\"aaxis\":{\"endlinecolor\":\"#2a3f5f\",\"gridcolor\":\"white\",\"linecolor\":\"white\",\"minorgridcolor\":\"white\",\"startlinecolor\":\"#2a3f5f\"},\"baxis\":{\"endlinecolor\":\"#2a3f5f\",\"gridcolor\":\"white\",\"linecolor\":\"white\",\"minorgridcolor\":\"white\",\"startlinecolor\":\"#2a3f5f\"},\"type\":\"carpet\"}],\"table\":[{\"cells\":{\"fill\":{\"color\":\"#EBF0F8\"},\"line\":{\"color\":\"white\"}},\"header\":{\"fill\":{\"color\":\"#C8D4E3\"},\"line\":{\"color\":\"white\"}},\"type\":\"table\"}],\"barpolar\":[{\"marker\":{\"line\":{\"color\":\"#E5ECF6\",\"width\":0.5},\"pattern\":{\"fillmode\":\"overlay\",\"size\":10,\"solidity\":0.2}},\"type\":\"barpolar\"}],\"pie\":[{\"automargin\":true,\"type\":\"pie\"}]},\"layout\":{\"autotypenumbers\":\"strict\",\"colorway\":[\"#636efa\",\"#EF553B\",\"#00cc96\",\"#ab63fa\",\"#FFA15A\",\"#19d3f3\",\"#FF6692\",\"#B6E880\",\"#FF97FF\",\"#FECB52\"],\"font\":{\"color\":\"#2a3f5f\"},\"hovermode\":\"closest\",\"hoverlabel\":{\"align\":\"left\"},\"paper_bgcolor\":\"white\",\"plot_bgcolor\":\"#E5ECF6\",\"polar\":{\"bgcolor\":\"#E5ECF6\",\"angularaxis\":{\"gridcolor\":\"white\",\"linecolor\":\"white\",\"ticks\":\"\"},\"radialaxis\":{\"gridcolor\":\"white\",\"linecolor\":\"white\",\"ticks\":\"\"}},\"ternary\":{\"bgcolor\":\"#E5ECF6\",\"aaxis\":{\"gridcolor\":\"white\",\"linecolor\":\"white\",\"ticks\":\"\"},\"baxis\":{\"gridcolor\":\"white\",\"linecolor\":\"white\",\"ticks\":\"\"},\"caxis\":{\"gridcolor\":\"white\",\"linecolor\":\"white\",\"ticks\":\"\"}},\"coloraxis\":{\"colorbar\":{\"outlinewidth\":0,\"ticks\":\"\"}},\"colorscale\":{\"sequential\":[[0.0,\"#0d0887\"],[0.1111111111111111,\"#46039f\"],[0.2222222222222222,\"#7201a8\"],[0.3333333333333333,\"#9c179e\"],[0.4444444444444444,\"#bd3786\"],[0.5555555555555556,\"#d8576b\"],[0.6666666666666666,\"#ed7953\"],[0.7777777777777778,\"#fb9f3a\"],[0.8888888888888888,\"#fdca26\"],[1.0,\"#f0f921\"]],\"sequentialminus\":[[0.0,\"#0d0887\"],[0.1111111111111111,\"#46039f\"],[0.2222222222222222,\"#7201a8\"],[0.3333333333333333,\"#9c179e\"],[0.4444444444444444,\"#bd3786\"],[0.5555555555555556,\"#d8576b\"],[0.6666666666666666,\"#ed7953\"],[0.7777777777777778,\"#fb9f3a\"],[0.8888888888888888,\"#fdca26\"],[1.0,\"#f0f921\"]],\"diverging\":[[0,\"#8e0152\"],[0.1,\"#c51b7d\"],[0.2,\"#de77ae\"],[0.3,\"#f1b6da\"],[0.4,\"#fde0ef\"],[0.5,\"#f7f7f7\"],[0.6,\"#e6f5d0\"],[0.7,\"#b8e186\"],[0.8,\"#7fbc41\"],[0.9,\"#4d9221\"],[1,\"#276419\"]]},\"xaxis\":{\"gridcolor\":\"white\",\"linecolor\":\"white\",\"ticks\":\"\",\"title\":{\"standoff\":15},\"zerolinecolor\":\"white\",\"automargin\":true,\"zerolinewidth\":2},\"yaxis\":{\"gridcolor\":\"white\",\"linecolor\":\"white\",\"ticks\":\"\",\"title\":{\"standoff\":15},\"zerolinecolor\":\"white\",\"automargin\":true,\"zerolinewidth\":2},\"scene\":{\"xaxis\":{\"backgroundcolor\":\"#E5ECF6\",\"gridcolor\":\"white\",\"linecolor\":\"white\",\"showbackground\":true,\"ticks\":\"\",\"zerolinecolor\":\"white\",\"gridwidth\":2},\"yaxis\":{\"backgroundcolor\":\"#E5ECF6\",\"gridcolor\":\"white\",\"linecolor\":\"white\",\"showbackground\":true,\"ticks\":\"\",\"zerolinecolor\":\"white\",\"gridwidth\":2},\"zaxis\":{\"backgroundcolor\":\"#E5ECF6\",\"gridcolor\":\"white\",\"linecolor\":\"white\",\"showbackground\":true,\"ticks\":\"\",\"zerolinecolor\":\"white\",\"gridwidth\":2}},\"shapedefaults\":{\"line\":{\"color\":\"#2a3f5f\"}},\"annotationdefaults\":{\"arrowcolor\":\"#2a3f5f\",\"arrowhead\":0,\"arrowwidth\":1},\"geo\":{\"bgcolor\":\"white\",\"landcolor\":\"#E5ECF6\",\"subunitcolor\":\"white\",\"showland\":true,\"showlakes\":true,\"lakecolor\":\"white\"},\"title\":{\"x\":0.05},\"mapbox\":{\"style\":\"light\"}}},\"polar\":{\"radialaxis\":{\"visible\":true,\"range\":[0,10]}},\"title\":{\"text\":\"Radar Chart for Model Comparison\"},\"showlegend\":true},                        {\"responsive\": true}                    ).then(function(){\n",
       "                            \n",
       "var gd = document.getElementById('df55a41b-2889-45a1-a858-9538fe894915');\n",
       "var x = new MutationObserver(function (mutations, observer) {{\n",
       "        var display = window.getComputedStyle(gd).display;\n",
       "        if (!display || display === 'none') {{\n",
       "            console.log([gd, 'removed!']);\n",
       "            Plotly.purge(gd);\n",
       "            observer.disconnect();\n",
       "        }}\n",
       "}});\n",
       "\n",
       "// Listen for the removal of the full notebook cells\n",
       "var notebookContainer = gd.closest('#notebook-container');\n",
       "if (notebookContainer) {{\n",
       "    x.observe(notebookContainer, {childList: true});\n",
       "}}\n",
       "\n",
       "// Listen for the clearing of the current output cell\n",
       "var outputEl = gd.closest('.output');\n",
       "if (outputEl) {{\n",
       "    x.observe(outputEl, {childList: true});\n",
       "}}\n",
       "\n",
       "                        })                };                });            </script>        </div>"
      ]
     },
     "metadata": {},
     "output_type": "display_data"
    },
    {
     "name": "stdout",
     "output_type": "stream",
     "text": [
      "SAILOR\n",
      "[4.0, 10.0, 1.0, 10.0, 10.0, 10.0, 10.0, 4.0, 7.75, 10.0]\n",
      "[4.0, 10.0, 1.0, 10.0, 10.0, 10.0, 10.0, 4.0, 7.75, 10.0]\n",
      "[4.0, 10.0, 1.0, 10.0, 10.0, 10.0, 10.0, 4.0, 7.75, 10.0]\n"
     ]
    },
    {
     "data": {
      "application/vnd.plotly.v1+json": {
       "config": {
        "plotlyServerURL": "https://plot.ly"
       },
       "data": [
        {
         "fill": "toself",
         "name": "prompt2",
         "r": [
          4,
          10,
          1,
          10,
          10,
          10,
          10,
          4,
          7.75,
          10
         ],
         "theta": [
          "happiness-q46",
          "trust-q57",
          "authority-q45",
          "petition-q209",
          "god-q164",
          "homosexuality-q182",
          "abortion-q184",
          "proud-q254",
          "child-obey1-q8",
          "materialistic-q155"
         ],
         "type": "scatterpolar"
        },
        {
         "fill": "toself",
         "name": "prompt1",
         "r": [
          4,
          10,
          1,
          10,
          10,
          10,
          10,
          4,
          7.75,
          10
         ],
         "theta": [
          "happiness-q46",
          "trust-q57",
          "authority-q45",
          "petition-q209",
          "god-q164",
          "homosexuality-q182",
          "abortion-q184",
          "proud-q254",
          "child-obey1-q8",
          "materialistic-q155"
         ],
         "type": "scatterpolar"
        },
        {
         "fill": "toself",
         "name": "prompt3",
         "r": [
          4,
          10,
          1,
          10,
          10,
          10,
          10,
          4,
          7.75,
          10
         ],
         "theta": [
          "happiness-q46",
          "trust-q57",
          "authority-q45",
          "petition-q209",
          "god-q164",
          "homosexuality-q182",
          "abortion-q184",
          "proud-q254",
          "child-obey1-q8",
          "materialistic-q155"
         ],
         "type": "scatterpolar"
        }
       ],
       "layout": {
        "polar": {
         "radialaxis": {
          "range": [
           0,
           10
          ],
          "visible": true
         }
        },
        "showlegend": true,
        "template": {
         "data": {
          "bar": [
           {
            "error_x": {
             "color": "#2a3f5f"
            },
            "error_y": {
             "color": "#2a3f5f"
            },
            "marker": {
             "line": {
              "color": "#E5ECF6",
              "width": 0.5
             },
             "pattern": {
              "fillmode": "overlay",
              "size": 10,
              "solidity": 0.2
             }
            },
            "type": "bar"
           }
          ],
          "barpolar": [
           {
            "marker": {
             "line": {
              "color": "#E5ECF6",
              "width": 0.5
             },
             "pattern": {
              "fillmode": "overlay",
              "size": 10,
              "solidity": 0.2
             }
            },
            "type": "barpolar"
           }
          ],
          "carpet": [
           {
            "aaxis": {
             "endlinecolor": "#2a3f5f",
             "gridcolor": "white",
             "linecolor": "white",
             "minorgridcolor": "white",
             "startlinecolor": "#2a3f5f"
            },
            "baxis": {
             "endlinecolor": "#2a3f5f",
             "gridcolor": "white",
             "linecolor": "white",
             "minorgridcolor": "white",
             "startlinecolor": "#2a3f5f"
            },
            "type": "carpet"
           }
          ],
          "choropleth": [
           {
            "colorbar": {
             "outlinewidth": 0,
             "ticks": ""
            },
            "type": "choropleth"
           }
          ],
          "contour": [
           {
            "colorbar": {
             "outlinewidth": 0,
             "ticks": ""
            },
            "colorscale": [
             [
              0,
              "#0d0887"
             ],
             [
              0.1111111111111111,
              "#46039f"
             ],
             [
              0.2222222222222222,
              "#7201a8"
             ],
             [
              0.3333333333333333,
              "#9c179e"
             ],
             [
              0.4444444444444444,
              "#bd3786"
             ],
             [
              0.5555555555555556,
              "#d8576b"
             ],
             [
              0.6666666666666666,
              "#ed7953"
             ],
             [
              0.7777777777777778,
              "#fb9f3a"
             ],
             [
              0.8888888888888888,
              "#fdca26"
             ],
             [
              1,
              "#f0f921"
             ]
            ],
            "type": "contour"
           }
          ],
          "contourcarpet": [
           {
            "colorbar": {
             "outlinewidth": 0,
             "ticks": ""
            },
            "type": "contourcarpet"
           }
          ],
          "heatmap": [
           {
            "colorbar": {
             "outlinewidth": 0,
             "ticks": ""
            },
            "colorscale": [
             [
              0,
              "#0d0887"
             ],
             [
              0.1111111111111111,
              "#46039f"
             ],
             [
              0.2222222222222222,
              "#7201a8"
             ],
             [
              0.3333333333333333,
              "#9c179e"
             ],
             [
              0.4444444444444444,
              "#bd3786"
             ],
             [
              0.5555555555555556,
              "#d8576b"
             ],
             [
              0.6666666666666666,
              "#ed7953"
             ],
             [
              0.7777777777777778,
              "#fb9f3a"
             ],
             [
              0.8888888888888888,
              "#fdca26"
             ],
             [
              1,
              "#f0f921"
             ]
            ],
            "type": "heatmap"
           }
          ],
          "heatmapgl": [
           {
            "colorbar": {
             "outlinewidth": 0,
             "ticks": ""
            },
            "colorscale": [
             [
              0,
              "#0d0887"
             ],
             [
              0.1111111111111111,
              "#46039f"
             ],
             [
              0.2222222222222222,
              "#7201a8"
             ],
             [
              0.3333333333333333,
              "#9c179e"
             ],
             [
              0.4444444444444444,
              "#bd3786"
             ],
             [
              0.5555555555555556,
              "#d8576b"
             ],
             [
              0.6666666666666666,
              "#ed7953"
             ],
             [
              0.7777777777777778,
              "#fb9f3a"
             ],
             [
              0.8888888888888888,
              "#fdca26"
             ],
             [
              1,
              "#f0f921"
             ]
            ],
            "type": "heatmapgl"
           }
          ],
          "histogram": [
           {
            "marker": {
             "pattern": {
              "fillmode": "overlay",
              "size": 10,
              "solidity": 0.2
             }
            },
            "type": "histogram"
           }
          ],
          "histogram2d": [
           {
            "colorbar": {
             "outlinewidth": 0,
             "ticks": ""
            },
            "colorscale": [
             [
              0,
              "#0d0887"
             ],
             [
              0.1111111111111111,
              "#46039f"
             ],
             [
              0.2222222222222222,
              "#7201a8"
             ],
             [
              0.3333333333333333,
              "#9c179e"
             ],
             [
              0.4444444444444444,
              "#bd3786"
             ],
             [
              0.5555555555555556,
              "#d8576b"
             ],
             [
              0.6666666666666666,
              "#ed7953"
             ],
             [
              0.7777777777777778,
              "#fb9f3a"
             ],
             [
              0.8888888888888888,
              "#fdca26"
             ],
             [
              1,
              "#f0f921"
             ]
            ],
            "type": "histogram2d"
           }
          ],
          "histogram2dcontour": [
           {
            "colorbar": {
             "outlinewidth": 0,
             "ticks": ""
            },
            "colorscale": [
             [
              0,
              "#0d0887"
             ],
             [
              0.1111111111111111,
              "#46039f"
             ],
             [
              0.2222222222222222,
              "#7201a8"
             ],
             [
              0.3333333333333333,
              "#9c179e"
             ],
             [
              0.4444444444444444,
              "#bd3786"
             ],
             [
              0.5555555555555556,
              "#d8576b"
             ],
             [
              0.6666666666666666,
              "#ed7953"
             ],
             [
              0.7777777777777778,
              "#fb9f3a"
             ],
             [
              0.8888888888888888,
              "#fdca26"
             ],
             [
              1,
              "#f0f921"
             ]
            ],
            "type": "histogram2dcontour"
           }
          ],
          "mesh3d": [
           {
            "colorbar": {
             "outlinewidth": 0,
             "ticks": ""
            },
            "type": "mesh3d"
           }
          ],
          "parcoords": [
           {
            "line": {
             "colorbar": {
              "outlinewidth": 0,
              "ticks": ""
             }
            },
            "type": "parcoords"
           }
          ],
          "pie": [
           {
            "automargin": true,
            "type": "pie"
           }
          ],
          "scatter": [
           {
            "fillpattern": {
             "fillmode": "overlay",
             "size": 10,
             "solidity": 0.2
            },
            "type": "scatter"
           }
          ],
          "scatter3d": [
           {
            "line": {
             "colorbar": {
              "outlinewidth": 0,
              "ticks": ""
             }
            },
            "marker": {
             "colorbar": {
              "outlinewidth": 0,
              "ticks": ""
             }
            },
            "type": "scatter3d"
           }
          ],
          "scattercarpet": [
           {
            "marker": {
             "colorbar": {
              "outlinewidth": 0,
              "ticks": ""
             }
            },
            "type": "scattercarpet"
           }
          ],
          "scattergeo": [
           {
            "marker": {
             "colorbar": {
              "outlinewidth": 0,
              "ticks": ""
             }
            },
            "type": "scattergeo"
           }
          ],
          "scattergl": [
           {
            "marker": {
             "colorbar": {
              "outlinewidth": 0,
              "ticks": ""
             }
            },
            "type": "scattergl"
           }
          ],
          "scattermapbox": [
           {
            "marker": {
             "colorbar": {
              "outlinewidth": 0,
              "ticks": ""
             }
            },
            "type": "scattermapbox"
           }
          ],
          "scatterpolar": [
           {
            "marker": {
             "colorbar": {
              "outlinewidth": 0,
              "ticks": ""
             }
            },
            "type": "scatterpolar"
           }
          ],
          "scatterpolargl": [
           {
            "marker": {
             "colorbar": {
              "outlinewidth": 0,
              "ticks": ""
             }
            },
            "type": "scatterpolargl"
           }
          ],
          "scatterternary": [
           {
            "marker": {
             "colorbar": {
              "outlinewidth": 0,
              "ticks": ""
             }
            },
            "type": "scatterternary"
           }
          ],
          "surface": [
           {
            "colorbar": {
             "outlinewidth": 0,
             "ticks": ""
            },
            "colorscale": [
             [
              0,
              "#0d0887"
             ],
             [
              0.1111111111111111,
              "#46039f"
             ],
             [
              0.2222222222222222,
              "#7201a8"
             ],
             [
              0.3333333333333333,
              "#9c179e"
             ],
             [
              0.4444444444444444,
              "#bd3786"
             ],
             [
              0.5555555555555556,
              "#d8576b"
             ],
             [
              0.6666666666666666,
              "#ed7953"
             ],
             [
              0.7777777777777778,
              "#fb9f3a"
             ],
             [
              0.8888888888888888,
              "#fdca26"
             ],
             [
              1,
              "#f0f921"
             ]
            ],
            "type": "surface"
           }
          ],
          "table": [
           {
            "cells": {
             "fill": {
              "color": "#EBF0F8"
             },
             "line": {
              "color": "white"
             }
            },
            "header": {
             "fill": {
              "color": "#C8D4E3"
             },
             "line": {
              "color": "white"
             }
            },
            "type": "table"
           }
          ]
         },
         "layout": {
          "annotationdefaults": {
           "arrowcolor": "#2a3f5f",
           "arrowhead": 0,
           "arrowwidth": 1
          },
          "autotypenumbers": "strict",
          "coloraxis": {
           "colorbar": {
            "outlinewidth": 0,
            "ticks": ""
           }
          },
          "colorscale": {
           "diverging": [
            [
             0,
             "#8e0152"
            ],
            [
             0.1,
             "#c51b7d"
            ],
            [
             0.2,
             "#de77ae"
            ],
            [
             0.3,
             "#f1b6da"
            ],
            [
             0.4,
             "#fde0ef"
            ],
            [
             0.5,
             "#f7f7f7"
            ],
            [
             0.6,
             "#e6f5d0"
            ],
            [
             0.7,
             "#b8e186"
            ],
            [
             0.8,
             "#7fbc41"
            ],
            [
             0.9,
             "#4d9221"
            ],
            [
             1,
             "#276419"
            ]
           ],
           "sequential": [
            [
             0,
             "#0d0887"
            ],
            [
             0.1111111111111111,
             "#46039f"
            ],
            [
             0.2222222222222222,
             "#7201a8"
            ],
            [
             0.3333333333333333,
             "#9c179e"
            ],
            [
             0.4444444444444444,
             "#bd3786"
            ],
            [
             0.5555555555555556,
             "#d8576b"
            ],
            [
             0.6666666666666666,
             "#ed7953"
            ],
            [
             0.7777777777777778,
             "#fb9f3a"
            ],
            [
             0.8888888888888888,
             "#fdca26"
            ],
            [
             1,
             "#f0f921"
            ]
           ],
           "sequentialminus": [
            [
             0,
             "#0d0887"
            ],
            [
             0.1111111111111111,
             "#46039f"
            ],
            [
             0.2222222222222222,
             "#7201a8"
            ],
            [
             0.3333333333333333,
             "#9c179e"
            ],
            [
             0.4444444444444444,
             "#bd3786"
            ],
            [
             0.5555555555555556,
             "#d8576b"
            ],
            [
             0.6666666666666666,
             "#ed7953"
            ],
            [
             0.7777777777777778,
             "#fb9f3a"
            ],
            [
             0.8888888888888888,
             "#fdca26"
            ],
            [
             1,
             "#f0f921"
            ]
           ]
          },
          "colorway": [
           "#636efa",
           "#EF553B",
           "#00cc96",
           "#ab63fa",
           "#FFA15A",
           "#19d3f3",
           "#FF6692",
           "#B6E880",
           "#FF97FF",
           "#FECB52"
          ],
          "font": {
           "color": "#2a3f5f"
          },
          "geo": {
           "bgcolor": "white",
           "lakecolor": "white",
           "landcolor": "#E5ECF6",
           "showlakes": true,
           "showland": true,
           "subunitcolor": "white"
          },
          "hoverlabel": {
           "align": "left"
          },
          "hovermode": "closest",
          "mapbox": {
           "style": "light"
          },
          "paper_bgcolor": "white",
          "plot_bgcolor": "#E5ECF6",
          "polar": {
           "angularaxis": {
            "gridcolor": "white",
            "linecolor": "white",
            "ticks": ""
           },
           "bgcolor": "#E5ECF6",
           "radialaxis": {
            "gridcolor": "white",
            "linecolor": "white",
            "ticks": ""
           }
          },
          "scene": {
           "xaxis": {
            "backgroundcolor": "#E5ECF6",
            "gridcolor": "white",
            "gridwidth": 2,
            "linecolor": "white",
            "showbackground": true,
            "ticks": "",
            "zerolinecolor": "white"
           },
           "yaxis": {
            "backgroundcolor": "#E5ECF6",
            "gridcolor": "white",
            "gridwidth": 2,
            "linecolor": "white",
            "showbackground": true,
            "ticks": "",
            "zerolinecolor": "white"
           },
           "zaxis": {
            "backgroundcolor": "#E5ECF6",
            "gridcolor": "white",
            "gridwidth": 2,
            "linecolor": "white",
            "showbackground": true,
            "ticks": "",
            "zerolinecolor": "white"
           }
          },
          "shapedefaults": {
           "line": {
            "color": "#2a3f5f"
           }
          },
          "ternary": {
           "aaxis": {
            "gridcolor": "white",
            "linecolor": "white",
            "ticks": ""
           },
           "baxis": {
            "gridcolor": "white",
            "linecolor": "white",
            "ticks": ""
           },
           "bgcolor": "#E5ECF6",
           "caxis": {
            "gridcolor": "white",
            "linecolor": "white",
            "ticks": ""
           }
          },
          "title": {
           "x": 0.05
          },
          "xaxis": {
           "automargin": true,
           "gridcolor": "white",
           "linecolor": "white",
           "ticks": "",
           "title": {
            "standoff": 15
           },
           "zerolinecolor": "white",
           "zerolinewidth": 2
          },
          "yaxis": {
           "automargin": true,
           "gridcolor": "white",
           "linecolor": "white",
           "ticks": "",
           "title": {
            "standoff": 15
           },
           "zerolinecolor": "white",
           "zerolinewidth": 2
          }
         }
        },
        "title": {
         "text": "Radar Chart for Model Comparison"
        }
       }
      },
      "text/html": [
       "<div>                            <div id=\"1519e160-c0a6-42d5-be28-007fdfdd852e\" class=\"plotly-graph-div\" style=\"height:525px; width:100%;\"></div>            <script type=\"text/javascript\">                require([\"plotly\"], function(Plotly) {                    window.PLOTLYENV=window.PLOTLYENV || {};                                    if (document.getElementById(\"1519e160-c0a6-42d5-be28-007fdfdd852e\")) {                    Plotly.newPlot(                        \"1519e160-c0a6-42d5-be28-007fdfdd852e\",                        [{\"fill\":\"toself\",\"name\":\"prompt2\",\"r\":[4.0,10.0,1.0,10.0,10.0,10.0,10.0,4.0,7.75,10.0],\"theta\":[\"happiness-q46\",\"trust-q57\",\"authority-q45\",\"petition-q209\",\"god-q164\",\"homosexuality-q182\",\"abortion-q184\",\"proud-q254\",\"child-obey1-q8\",\"materialistic-q155\"],\"type\":\"scatterpolar\"},{\"fill\":\"toself\",\"name\":\"prompt1\",\"r\":[4.0,10.0,1.0,10.0,10.0,10.0,10.0,4.0,7.75,10.0],\"theta\":[\"happiness-q46\",\"trust-q57\",\"authority-q45\",\"petition-q209\",\"god-q164\",\"homosexuality-q182\",\"abortion-q184\",\"proud-q254\",\"child-obey1-q8\",\"materialistic-q155\"],\"type\":\"scatterpolar\"},{\"fill\":\"toself\",\"name\":\"prompt3\",\"r\":[4.0,10.0,1.0,10.0,10.0,10.0,10.0,4.0,7.75,10.0],\"theta\":[\"happiness-q46\",\"trust-q57\",\"authority-q45\",\"petition-q209\",\"god-q164\",\"homosexuality-q182\",\"abortion-q184\",\"proud-q254\",\"child-obey1-q8\",\"materialistic-q155\"],\"type\":\"scatterpolar\"}],                        {\"template\":{\"data\":{\"histogram2dcontour\":[{\"type\":\"histogram2dcontour\",\"colorbar\":{\"outlinewidth\":0,\"ticks\":\"\"},\"colorscale\":[[0.0,\"#0d0887\"],[0.1111111111111111,\"#46039f\"],[0.2222222222222222,\"#7201a8\"],[0.3333333333333333,\"#9c179e\"],[0.4444444444444444,\"#bd3786\"],[0.5555555555555556,\"#d8576b\"],[0.6666666666666666,\"#ed7953\"],[0.7777777777777778,\"#fb9f3a\"],[0.8888888888888888,\"#fdca26\"],[1.0,\"#f0f921\"]]}],\"choropleth\":[{\"type\":\"choropleth\",\"colorbar\":{\"outlinewidth\":0,\"ticks\":\"\"}}],\"histogram2d\":[{\"type\":\"histogram2d\",\"colorbar\":{\"outlinewidth\":0,\"ticks\":\"\"},\"colorscale\":[[0.0,\"#0d0887\"],[0.1111111111111111,\"#46039f\"],[0.2222222222222222,\"#7201a8\"],[0.3333333333333333,\"#9c179e\"],[0.4444444444444444,\"#bd3786\"],[0.5555555555555556,\"#d8576b\"],[0.6666666666666666,\"#ed7953\"],[0.7777777777777778,\"#fb9f3a\"],[0.8888888888888888,\"#fdca26\"],[1.0,\"#f0f921\"]]}],\"heatmap\":[{\"type\":\"heatmap\",\"colorbar\":{\"outlinewidth\":0,\"ticks\":\"\"},\"colorscale\":[[0.0,\"#0d0887\"],[0.1111111111111111,\"#46039f\"],[0.2222222222222222,\"#7201a8\"],[0.3333333333333333,\"#9c179e\"],[0.4444444444444444,\"#bd3786\"],[0.5555555555555556,\"#d8576b\"],[0.6666666666666666,\"#ed7953\"],[0.7777777777777778,\"#fb9f3a\"],[0.8888888888888888,\"#fdca26\"],[1.0,\"#f0f921\"]]}],\"heatmapgl\":[{\"type\":\"heatmapgl\",\"colorbar\":{\"outlinewidth\":0,\"ticks\":\"\"},\"colorscale\":[[0.0,\"#0d0887\"],[0.1111111111111111,\"#46039f\"],[0.2222222222222222,\"#7201a8\"],[0.3333333333333333,\"#9c179e\"],[0.4444444444444444,\"#bd3786\"],[0.5555555555555556,\"#d8576b\"],[0.6666666666666666,\"#ed7953\"],[0.7777777777777778,\"#fb9f3a\"],[0.8888888888888888,\"#fdca26\"],[1.0,\"#f0f921\"]]}],\"contourcarpet\":[{\"type\":\"contourcarpet\",\"colorbar\":{\"outlinewidth\":0,\"ticks\":\"\"}}],\"contour\":[{\"type\":\"contour\",\"colorbar\":{\"outlinewidth\":0,\"ticks\":\"\"},\"colorscale\":[[0.0,\"#0d0887\"],[0.1111111111111111,\"#46039f\"],[0.2222222222222222,\"#7201a8\"],[0.3333333333333333,\"#9c179e\"],[0.4444444444444444,\"#bd3786\"],[0.5555555555555556,\"#d8576b\"],[0.6666666666666666,\"#ed7953\"],[0.7777777777777778,\"#fb9f3a\"],[0.8888888888888888,\"#fdca26\"],[1.0,\"#f0f921\"]]}],\"surface\":[{\"type\":\"surface\",\"colorbar\":{\"outlinewidth\":0,\"ticks\":\"\"},\"colorscale\":[[0.0,\"#0d0887\"],[0.1111111111111111,\"#46039f\"],[0.2222222222222222,\"#7201a8\"],[0.3333333333333333,\"#9c179e\"],[0.4444444444444444,\"#bd3786\"],[0.5555555555555556,\"#d8576b\"],[0.6666666666666666,\"#ed7953\"],[0.7777777777777778,\"#fb9f3a\"],[0.8888888888888888,\"#fdca26\"],[1.0,\"#f0f921\"]]}],\"mesh3d\":[{\"type\":\"mesh3d\",\"colorbar\":{\"outlinewidth\":0,\"ticks\":\"\"}}],\"scatter\":[{\"fillpattern\":{\"fillmode\":\"overlay\",\"size\":10,\"solidity\":0.2},\"type\":\"scatter\"}],\"parcoords\":[{\"type\":\"parcoords\",\"line\":{\"colorbar\":{\"outlinewidth\":0,\"ticks\":\"\"}}}],\"scatterpolargl\":[{\"type\":\"scatterpolargl\",\"marker\":{\"colorbar\":{\"outlinewidth\":0,\"ticks\":\"\"}}}],\"bar\":[{\"error_x\":{\"color\":\"#2a3f5f\"},\"error_y\":{\"color\":\"#2a3f5f\"},\"marker\":{\"line\":{\"color\":\"#E5ECF6\",\"width\":0.5},\"pattern\":{\"fillmode\":\"overlay\",\"size\":10,\"solidity\":0.2}},\"type\":\"bar\"}],\"scattergeo\":[{\"type\":\"scattergeo\",\"marker\":{\"colorbar\":{\"outlinewidth\":0,\"ticks\":\"\"}}}],\"scatterpolar\":[{\"type\":\"scatterpolar\",\"marker\":{\"colorbar\":{\"outlinewidth\":0,\"ticks\":\"\"}}}],\"histogram\":[{\"marker\":{\"pattern\":{\"fillmode\":\"overlay\",\"size\":10,\"solidity\":0.2}},\"type\":\"histogram\"}],\"scattergl\":[{\"type\":\"scattergl\",\"marker\":{\"colorbar\":{\"outlinewidth\":0,\"ticks\":\"\"}}}],\"scatter3d\":[{\"type\":\"scatter3d\",\"line\":{\"colorbar\":{\"outlinewidth\":0,\"ticks\":\"\"}},\"marker\":{\"colorbar\":{\"outlinewidth\":0,\"ticks\":\"\"}}}],\"scattermapbox\":[{\"type\":\"scattermapbox\",\"marker\":{\"colorbar\":{\"outlinewidth\":0,\"ticks\":\"\"}}}],\"scatterternary\":[{\"type\":\"scatterternary\",\"marker\":{\"colorbar\":{\"outlinewidth\":0,\"ticks\":\"\"}}}],\"scattercarpet\":[{\"type\":\"scattercarpet\",\"marker\":{\"colorbar\":{\"outlinewidth\":0,\"ticks\":\"\"}}}],\"carpet\":[{\"aaxis\":{\"endlinecolor\":\"#2a3f5f\",\"gridcolor\":\"white\",\"linecolor\":\"white\",\"minorgridcolor\":\"white\",\"startlinecolor\":\"#2a3f5f\"},\"baxis\":{\"endlinecolor\":\"#2a3f5f\",\"gridcolor\":\"white\",\"linecolor\":\"white\",\"minorgridcolor\":\"white\",\"startlinecolor\":\"#2a3f5f\"},\"type\":\"carpet\"}],\"table\":[{\"cells\":{\"fill\":{\"color\":\"#EBF0F8\"},\"line\":{\"color\":\"white\"}},\"header\":{\"fill\":{\"color\":\"#C8D4E3\"},\"line\":{\"color\":\"white\"}},\"type\":\"table\"}],\"barpolar\":[{\"marker\":{\"line\":{\"color\":\"#E5ECF6\",\"width\":0.5},\"pattern\":{\"fillmode\":\"overlay\",\"size\":10,\"solidity\":0.2}},\"type\":\"barpolar\"}],\"pie\":[{\"automargin\":true,\"type\":\"pie\"}]},\"layout\":{\"autotypenumbers\":\"strict\",\"colorway\":[\"#636efa\",\"#EF553B\",\"#00cc96\",\"#ab63fa\",\"#FFA15A\",\"#19d3f3\",\"#FF6692\",\"#B6E880\",\"#FF97FF\",\"#FECB52\"],\"font\":{\"color\":\"#2a3f5f\"},\"hovermode\":\"closest\",\"hoverlabel\":{\"align\":\"left\"},\"paper_bgcolor\":\"white\",\"plot_bgcolor\":\"#E5ECF6\",\"polar\":{\"bgcolor\":\"#E5ECF6\",\"angularaxis\":{\"gridcolor\":\"white\",\"linecolor\":\"white\",\"ticks\":\"\"},\"radialaxis\":{\"gridcolor\":\"white\",\"linecolor\":\"white\",\"ticks\":\"\"}},\"ternary\":{\"bgcolor\":\"#E5ECF6\",\"aaxis\":{\"gridcolor\":\"white\",\"linecolor\":\"white\",\"ticks\":\"\"},\"baxis\":{\"gridcolor\":\"white\",\"linecolor\":\"white\",\"ticks\":\"\"},\"caxis\":{\"gridcolor\":\"white\",\"linecolor\":\"white\",\"ticks\":\"\"}},\"coloraxis\":{\"colorbar\":{\"outlinewidth\":0,\"ticks\":\"\"}},\"colorscale\":{\"sequential\":[[0.0,\"#0d0887\"],[0.1111111111111111,\"#46039f\"],[0.2222222222222222,\"#7201a8\"],[0.3333333333333333,\"#9c179e\"],[0.4444444444444444,\"#bd3786\"],[0.5555555555555556,\"#d8576b\"],[0.6666666666666666,\"#ed7953\"],[0.7777777777777778,\"#fb9f3a\"],[0.8888888888888888,\"#fdca26\"],[1.0,\"#f0f921\"]],\"sequentialminus\":[[0.0,\"#0d0887\"],[0.1111111111111111,\"#46039f\"],[0.2222222222222222,\"#7201a8\"],[0.3333333333333333,\"#9c179e\"],[0.4444444444444444,\"#bd3786\"],[0.5555555555555556,\"#d8576b\"],[0.6666666666666666,\"#ed7953\"],[0.7777777777777778,\"#fb9f3a\"],[0.8888888888888888,\"#fdca26\"],[1.0,\"#f0f921\"]],\"diverging\":[[0,\"#8e0152\"],[0.1,\"#c51b7d\"],[0.2,\"#de77ae\"],[0.3,\"#f1b6da\"],[0.4,\"#fde0ef\"],[0.5,\"#f7f7f7\"],[0.6,\"#e6f5d0\"],[0.7,\"#b8e186\"],[0.8,\"#7fbc41\"],[0.9,\"#4d9221\"],[1,\"#276419\"]]},\"xaxis\":{\"gridcolor\":\"white\",\"linecolor\":\"white\",\"ticks\":\"\",\"title\":{\"standoff\":15},\"zerolinecolor\":\"white\",\"automargin\":true,\"zerolinewidth\":2},\"yaxis\":{\"gridcolor\":\"white\",\"linecolor\":\"white\",\"ticks\":\"\",\"title\":{\"standoff\":15},\"zerolinecolor\":\"white\",\"automargin\":true,\"zerolinewidth\":2},\"scene\":{\"xaxis\":{\"backgroundcolor\":\"#E5ECF6\",\"gridcolor\":\"white\",\"linecolor\":\"white\",\"showbackground\":true,\"ticks\":\"\",\"zerolinecolor\":\"white\",\"gridwidth\":2},\"yaxis\":{\"backgroundcolor\":\"#E5ECF6\",\"gridcolor\":\"white\",\"linecolor\":\"white\",\"showbackground\":true,\"ticks\":\"\",\"zerolinecolor\":\"white\",\"gridwidth\":2},\"zaxis\":{\"backgroundcolor\":\"#E5ECF6\",\"gridcolor\":\"white\",\"linecolor\":\"white\",\"showbackground\":true,\"ticks\":\"\",\"zerolinecolor\":\"white\",\"gridwidth\":2}},\"shapedefaults\":{\"line\":{\"color\":\"#2a3f5f\"}},\"annotationdefaults\":{\"arrowcolor\":\"#2a3f5f\",\"arrowhead\":0,\"arrowwidth\":1},\"geo\":{\"bgcolor\":\"white\",\"landcolor\":\"#E5ECF6\",\"subunitcolor\":\"white\",\"showland\":true,\"showlakes\":true,\"lakecolor\":\"white\"},\"title\":{\"x\":0.05},\"mapbox\":{\"style\":\"light\"}}},\"polar\":{\"radialaxis\":{\"visible\":true,\"range\":[0,10]}},\"title\":{\"text\":\"Radar Chart for Model Comparison\"},\"showlegend\":true},                        {\"responsive\": true}                    ).then(function(){\n",
       "                            \n",
       "var gd = document.getElementById('1519e160-c0a6-42d5-be28-007fdfdd852e');\n",
       "var x = new MutationObserver(function (mutations, observer) {{\n",
       "        var display = window.getComputedStyle(gd).display;\n",
       "        if (!display || display === 'none') {{\n",
       "            console.log([gd, 'removed!']);\n",
       "            Plotly.purge(gd);\n",
       "            observer.disconnect();\n",
       "        }}\n",
       "}});\n",
       "\n",
       "// Listen for the removal of the full notebook cells\n",
       "var notebookContainer = gd.closest('#notebook-container');\n",
       "if (notebookContainer) {{\n",
       "    x.observe(notebookContainer, {childList: true});\n",
       "}}\n",
       "\n",
       "// Listen for the clearing of the current output cell\n",
       "var outputEl = gd.closest('.output');\n",
       "if (outputEl) {{\n",
       "    x.observe(outputEl, {childList: true});\n",
       "}}\n",
       "\n",
       "                        })                };                });            </script>        </div>"
      ]
     },
     "metadata": {},
     "output_type": "display_data"
    }
   ],
   "source": [
    "plot_model_cons(\"rus\")"
   ]
  },
  {
   "cell_type": "code",
   "execution_count": 323,
   "metadata": {},
   "outputs": [],
   "source": [
    "import numpy as np"
   ]
  },
  {
   "cell_type": "code",
   "execution_count": 324,
   "metadata": {},
   "outputs": [],
   "source": [
    "def calc_mean_euclidean(np_arr):\n",
    "    # Np array dim is [n, 10]\n",
    "    dists = []\n",
    "    for i in range(np_arr.shape[0]):\n",
    "        for j in range(i+1, np_arr.shape[0]):\n",
    "            distance = np.linalg.norm(np_arr[i] - np_arr[j])\n",
    "            dists.append(distance)\n",
    "    # print(dists)\n",
    "    return np.mean(dists)\n",
    "\n",
    "def calculate_euclidean_each_prompt(lang, df_llm_scores):\n",
    "    pattern_en = re.compile(fr\"non-{lang}-(.+)-(.+)\")\n",
    "    dict_model_score = {}\n",
    "    for column in df_llm_scores.columns:\n",
    "        if pattern_en.match(column):\n",
    "            match = pattern_en.match(column)\n",
    "            dict_model_score.setdefault(match.group(1), {})\n",
    "            dict_model_score[match.group(1)][match.group(2)] = df_llm_scores[column]\n",
    "    \n",
    "    dict_return = {}\n",
    "    for model, temps in dict_model_score.items():\n",
    "        temp_value_list = list(temps.values())\n",
    "        temp_value_list = [normalize_score(x) for x in temp_value_list]\n",
    "        # print(temp_value_list)\n",
    "        np_arr = np.array(temp_value_list)\n",
    "        dict_return[model] = calc_mean_euclidean(np_arr)\n",
    "    return dict_return\n"
   ]
  },
  {
   "cell_type": "code",
   "execution_count": 325,
   "metadata": {},
   "outputs": [
    {
     "name": "stdout",
     "output_type": "stream",
     "text": [
      "ch\n",
      "{'MISTRAL': 5.792628034501476, 'SAILOR': 11.593376915541201, 'QWEN': 0.0, 'GEMMA': 0.9428090415820635}\n",
      "ecu\n",
      "{'MISTRAL': 11.312071897723664, 'SAILOR': 8.848191962583273, 'QWEN': 8.863753427324667, 'GEMMA': 11.65159336607276}\n",
      "egp\n",
      "{'MISTRAL': 8.48528137423857, 'QWEN': 0.0, 'GEMMA': 8.562263491044696, 'SAILOR': 0.0}\n",
      "en\n",
      "{'SAILOR': 8.48528137423857, 'GEMMA': 0.0, 'MISTRAL': 10.218802609235903, 'QWEN': 6.0}\n",
      "hau\n",
      "{'QWEN': 5.647983517643709, 'GEMMA': 6.514667915105844, 'MISTRAL': 14.036219697190084, 'SAILOR': 12.438793109825918}\n",
      "id\n",
      "{'MISTRAL': 5.562639046204301, 'GEMMA': 9.38684705206703, 'QWEN': 5.073246275795669, 'SAILOR': 8.48528137423857}\n",
      "ind\n",
      "{'GEMMA': 1.1380711874576983, 'SAILOR': 11.126151855064506, 'QWEN': 10.242640687119286, 'MISTRAL': 9.965502208831998}\n",
      "rus\n",
      "{'GEMMA': 1.1547005383792515, 'QWEN': 3.0, 'MISTRAL': 8.619857747993196, 'SAILOR': 0.0}\n"
     ]
    }
   ],
   "source": [
    "langs_code = [\"ch\", \"ecu\", \"egp\", \"en\", \"hau\", \"id\", \"ind\", \"rus\"]\n",
    "for lang in langs_code:\n",
    "    print(lang)\n",
    "    print(calculate_euclidean_each_prompt(lang, df_llm_scores))"
   ]
  },
  {
   "cell_type": "code",
   "execution_count": 326,
   "metadata": {},
   "outputs": [
    {
     "data": {
      "text/html": [
       "<div>\n",
       "<style scoped>\n",
       "    .dataframe tbody tr th:only-of-type {\n",
       "        vertical-align: middle;\n",
       "    }\n",
       "\n",
       "    .dataframe tbody tr th {\n",
       "        vertical-align: top;\n",
       "    }\n",
       "\n",
       "    .dataframe thead th {\n",
       "        text-align: right;\n",
       "    }\n",
       "</style>\n",
       "<table border=\"1\" class=\"dataframe\">\n",
       "  <thead>\n",
       "    <tr style=\"text-align: right;\">\n",
       "      <th></th>\n",
       "      <th>Question</th>\n",
       "      <th>non-en-SAILOR-prompt3</th>\n",
       "      <th>ind-MISTRAL-prompt1</th>\n",
       "      <th>ecu-SAILOR-prompt2</th>\n",
       "      <th>hau-QWEN-prompt1</th>\n",
       "      <th>egp-QWEN-prompt1</th>\n",
       "      <th>non-id-MISTRAL-prompt2</th>\n",
       "      <th>non-rus-GEMMA-prompt1</th>\n",
       "      <th>hau-SAILOR-prompt2</th>\n",
       "      <th>non-ecu-MISTRAL-prompt1</th>\n",
       "      <th>...</th>\n",
       "      <th>ch-SAILOR-prompt2</th>\n",
       "      <th>rus-SAILOR-prompt3</th>\n",
       "      <th>non-ecu-QWEN-prompt1</th>\n",
       "      <th>non-rus-GEMMA-prompt3</th>\n",
       "      <th>en-GEMMA-prompt2</th>\n",
       "      <th>ind-GEMMA-prompt3</th>\n",
       "      <th>egp-llama3-prompt3</th>\n",
       "      <th>non-ch-SAILOR-prompt2</th>\n",
       "      <th>egp-QWEN-prompt3</th>\n",
       "      <th>en-llama3-prompt3</th>\n",
       "    </tr>\n",
       "  </thead>\n",
       "  <tbody>\n",
       "    <tr>\n",
       "      <th>0</th>\n",
       "      <td>happiness-q46</td>\n",
       "      <td>4</td>\n",
       "      <td>3</td>\n",
       "      <td>1</td>\n",
       "      <td>3</td>\n",
       "      <td>4</td>\n",
       "      <td>2</td>\n",
       "      <td>1</td>\n",
       "      <td>4</td>\n",
       "      <td>3</td>\n",
       "      <td>...</td>\n",
       "      <td>2</td>\n",
       "      <td>2</td>\n",
       "      <td>2</td>\n",
       "      <td>1</td>\n",
       "      <td>1</td>\n",
       "      <td>1</td>\n",
       "      <td>4</td>\n",
       "      <td>2</td>\n",
       "      <td>4</td>\n",
       "      <td>4</td>\n",
       "    </tr>\n",
       "    <tr>\n",
       "      <th>1</th>\n",
       "      <td>trust-q57</td>\n",
       "      <td>1</td>\n",
       "      <td>1</td>\n",
       "      <td>1</td>\n",
       "      <td>2</td>\n",
       "      <td>2</td>\n",
       "      <td>1</td>\n",
       "      <td>1</td>\n",
       "      <td>2</td>\n",
       "      <td>1</td>\n",
       "      <td>...</td>\n",
       "      <td>1</td>\n",
       "      <td>2</td>\n",
       "      <td>1</td>\n",
       "      <td>1</td>\n",
       "      <td>1</td>\n",
       "      <td>1</td>\n",
       "      <td>2</td>\n",
       "      <td>1</td>\n",
       "      <td>2</td>\n",
       "      <td>2</td>\n",
       "    </tr>\n",
       "    <tr>\n",
       "      <th>2</th>\n",
       "      <td>authority-q45</td>\n",
       "      <td>2</td>\n",
       "      <td>2</td>\n",
       "      <td>2</td>\n",
       "      <td>2</td>\n",
       "      <td>2</td>\n",
       "      <td>3</td>\n",
       "      <td>3</td>\n",
       "      <td>2</td>\n",
       "      <td>1</td>\n",
       "      <td>...</td>\n",
       "      <td>1</td>\n",
       "      <td>1</td>\n",
       "      <td>2</td>\n",
       "      <td>3</td>\n",
       "      <td>1</td>\n",
       "      <td>1</td>\n",
       "      <td>2</td>\n",
       "      <td>1</td>\n",
       "      <td>2</td>\n",
       "      <td>2</td>\n",
       "    </tr>\n",
       "    <tr>\n",
       "      <th>3</th>\n",
       "      <td>petition-q209</td>\n",
       "      <td>1</td>\n",
       "      <td>3</td>\n",
       "      <td>3</td>\n",
       "      <td>2</td>\n",
       "      <td>3</td>\n",
       "      <td>2</td>\n",
       "      <td>1</td>\n",
       "      <td>2</td>\n",
       "      <td>2</td>\n",
       "      <td>...</td>\n",
       "      <td>1</td>\n",
       "      <td>3</td>\n",
       "      <td>3</td>\n",
       "      <td>1</td>\n",
       "      <td>2</td>\n",
       "      <td>1</td>\n",
       "      <td>3</td>\n",
       "      <td>1</td>\n",
       "      <td>3</td>\n",
       "      <td>3</td>\n",
       "    </tr>\n",
       "    <tr>\n",
       "      <th>4</th>\n",
       "      <td>god-q164</td>\n",
       "      <td>10</td>\n",
       "      <td>3</td>\n",
       "      <td>10</td>\n",
       "      <td>10</td>\n",
       "      <td>10</td>\n",
       "      <td>10</td>\n",
       "      <td>1</td>\n",
       "      <td>10</td>\n",
       "      <td>10</td>\n",
       "      <td>...</td>\n",
       "      <td>1</td>\n",
       "      <td>10</td>\n",
       "      <td>10</td>\n",
       "      <td>2</td>\n",
       "      <td>1</td>\n",
       "      <td>1</td>\n",
       "      <td>1</td>\n",
       "      <td>1</td>\n",
       "      <td>10</td>\n",
       "      <td>1</td>\n",
       "    </tr>\n",
       "    <tr>\n",
       "      <th>5</th>\n",
       "      <td>homosexuality-q182</td>\n",
       "      <td>10</td>\n",
       "      <td>1</td>\n",
       "      <td>10</td>\n",
       "      <td>10</td>\n",
       "      <td>10</td>\n",
       "      <td>1</td>\n",
       "      <td>1</td>\n",
       "      <td>1</td>\n",
       "      <td>10</td>\n",
       "      <td>...</td>\n",
       "      <td>10</td>\n",
       "      <td>10</td>\n",
       "      <td>10</td>\n",
       "      <td>2</td>\n",
       "      <td>1</td>\n",
       "      <td>2</td>\n",
       "      <td>1</td>\n",
       "      <td>10</td>\n",
       "      <td>8</td>\n",
       "      <td>1</td>\n",
       "    </tr>\n",
       "    <tr>\n",
       "      <th>6</th>\n",
       "      <td>abortion-q184</td>\n",
       "      <td>1</td>\n",
       "      <td>1</td>\n",
       "      <td>10</td>\n",
       "      <td>10</td>\n",
       "      <td>10</td>\n",
       "      <td>1</td>\n",
       "      <td>1</td>\n",
       "      <td>1</td>\n",
       "      <td>1</td>\n",
       "      <td>...</td>\n",
       "      <td>10</td>\n",
       "      <td>10</td>\n",
       "      <td>10</td>\n",
       "      <td>2</td>\n",
       "      <td>1</td>\n",
       "      <td>1</td>\n",
       "      <td>1</td>\n",
       "      <td>10</td>\n",
       "      <td>10</td>\n",
       "      <td>1</td>\n",
       "    </tr>\n",
       "    <tr>\n",
       "      <th>7</th>\n",
       "      <td>proud-q254</td>\n",
       "      <td>4</td>\n",
       "      <td>3</td>\n",
       "      <td>1</td>\n",
       "      <td>4</td>\n",
       "      <td>4</td>\n",
       "      <td>2</td>\n",
       "      <td>1</td>\n",
       "      <td>4</td>\n",
       "      <td>2</td>\n",
       "      <td>...</td>\n",
       "      <td>1</td>\n",
       "      <td>2</td>\n",
       "      <td>4</td>\n",
       "      <td>1</td>\n",
       "      <td>1</td>\n",
       "      <td>1</td>\n",
       "      <td>4</td>\n",
       "      <td>1</td>\n",
       "      <td>4</td>\n",
       "      <td>4</td>\n",
       "    </tr>\n",
       "    <tr>\n",
       "      <th>8</th>\n",
       "      <td>child-obey1-q8</td>\n",
       "      <td>0</td>\n",
       "      <td>0</td>\n",
       "      <td>0</td>\n",
       "      <td>2</td>\n",
       "      <td>0</td>\n",
       "      <td>0</td>\n",
       "      <td>-1</td>\n",
       "      <td>2</td>\n",
       "      <td>0</td>\n",
       "      <td>...</td>\n",
       "      <td>0</td>\n",
       "      <td>1</td>\n",
       "      <td>0</td>\n",
       "      <td>-1</td>\n",
       "      <td>-1</td>\n",
       "      <td>-2</td>\n",
       "      <td>-2</td>\n",
       "      <td>0</td>\n",
       "      <td>0</td>\n",
       "      <td>1</td>\n",
       "    </tr>\n",
       "    <tr>\n",
       "      <th>9</th>\n",
       "      <td>materialistic-q155</td>\n",
       "      <td>3</td>\n",
       "      <td>4</td>\n",
       "      <td>3</td>\n",
       "      <td>3</td>\n",
       "      <td>4</td>\n",
       "      <td>4</td>\n",
       "      <td>2</td>\n",
       "      <td>3</td>\n",
       "      <td>3</td>\n",
       "      <td>...</td>\n",
       "      <td>2</td>\n",
       "      <td>3</td>\n",
       "      <td>3</td>\n",
       "      <td>2</td>\n",
       "      <td>2</td>\n",
       "      <td>1</td>\n",
       "      <td>4</td>\n",
       "      <td>2</td>\n",
       "      <td>4</td>\n",
       "      <td>3</td>\n",
       "    </tr>\n",
       "  </tbody>\n",
       "</table>\n",
       "<p>10 rows × 217 columns</p>\n",
       "</div>"
      ],
      "text/plain": [
       "             Question  non-en-SAILOR-prompt3  ind-MISTRAL-prompt1  \\\n",
       "0       happiness-q46                      4                    3   \n",
       "1           trust-q57                      1                    1   \n",
       "2       authority-q45                      2                    2   \n",
       "3       petition-q209                      1                    3   \n",
       "4            god-q164                     10                    3   \n",
       "5  homosexuality-q182                     10                    1   \n",
       "6       abortion-q184                      1                    1   \n",
       "7          proud-q254                      4                    3   \n",
       "8      child-obey1-q8                      0                    0   \n",
       "9  materialistic-q155                      3                    4   \n",
       "\n",
       "   ecu-SAILOR-prompt2  hau-QWEN-prompt1  egp-QWEN-prompt1  \\\n",
       "0                   1                 3                 4   \n",
       "1                   1                 2                 2   \n",
       "2                   2                 2                 2   \n",
       "3                   3                 2                 3   \n",
       "4                  10                10                10   \n",
       "5                  10                10                10   \n",
       "6                  10                10                10   \n",
       "7                   1                 4                 4   \n",
       "8                   0                 2                 0   \n",
       "9                   3                 3                 4   \n",
       "\n",
       "   non-id-MISTRAL-prompt2  non-rus-GEMMA-prompt1  hau-SAILOR-prompt2  \\\n",
       "0                       2                      1                   4   \n",
       "1                       1                      1                   2   \n",
       "2                       3                      3                   2   \n",
       "3                       2                      1                   2   \n",
       "4                      10                      1                  10   \n",
       "5                       1                      1                   1   \n",
       "6                       1                      1                   1   \n",
       "7                       2                      1                   4   \n",
       "8                       0                     -1                   2   \n",
       "9                       4                      2                   3   \n",
       "\n",
       "   non-ecu-MISTRAL-prompt1  ...  ch-SAILOR-prompt2  rus-SAILOR-prompt3  \\\n",
       "0                        3  ...                  2                   2   \n",
       "1                        1  ...                  1                   2   \n",
       "2                        1  ...                  1                   1   \n",
       "3                        2  ...                  1                   3   \n",
       "4                       10  ...                  1                  10   \n",
       "5                       10  ...                 10                  10   \n",
       "6                        1  ...                 10                  10   \n",
       "7                        2  ...                  1                   2   \n",
       "8                        0  ...                  0                   1   \n",
       "9                        3  ...                  2                   3   \n",
       "\n",
       "   non-ecu-QWEN-prompt1  non-rus-GEMMA-prompt3  en-GEMMA-prompt2  \\\n",
       "0                     2                      1                 1   \n",
       "1                     1                      1                 1   \n",
       "2                     2                      3                 1   \n",
       "3                     3                      1                 2   \n",
       "4                    10                      2                 1   \n",
       "5                    10                      2                 1   \n",
       "6                    10                      2                 1   \n",
       "7                     4                      1                 1   \n",
       "8                     0                     -1                -1   \n",
       "9                     3                      2                 2   \n",
       "\n",
       "   ind-GEMMA-prompt3  egp-llama3-prompt3  non-ch-SAILOR-prompt2  \\\n",
       "0                  1                   4                      2   \n",
       "1                  1                   2                      1   \n",
       "2                  1                   2                      1   \n",
       "3                  1                   3                      1   \n",
       "4                  1                   1                      1   \n",
       "5                  2                   1                     10   \n",
       "6                  1                   1                     10   \n",
       "7                  1                   4                      1   \n",
       "8                 -2                  -2                      0   \n",
       "9                  1                   4                      2   \n",
       "\n",
       "   egp-QWEN-prompt3  en-llama3-prompt3  \n",
       "0                 4                  4  \n",
       "1                 2                  2  \n",
       "2                 2                  2  \n",
       "3                 3                  3  \n",
       "4                10                  1  \n",
       "5                 8                  1  \n",
       "6                10                  1  \n",
       "7                 4                  4  \n",
       "8                 0                  1  \n",
       "9                 4                  3  \n",
       "\n",
       "[10 rows x 217 columns]"
      ]
     },
     "execution_count": 326,
     "metadata": {},
     "output_type": "execute_result"
    }
   ],
   "source": [
    "df_llm_scores"
   ]
  },
  {
   "cell_type": "code",
   "execution_count": 327,
   "metadata": {},
   "outputs": [
    {
     "data": {
      "text/html": [
       "<div>\n",
       "<style scoped>\n",
       "    .dataframe tbody tr th:only-of-type {\n",
       "        vertical-align: middle;\n",
       "    }\n",
       "\n",
       "    .dataframe tbody tr th {\n",
       "        vertical-align: top;\n",
       "    }\n",
       "\n",
       "    .dataframe thead th {\n",
       "        text-align: right;\n",
       "    }\n",
       "</style>\n",
       "<table border=\"1\" class=\"dataframe\">\n",
       "  <thead>\n",
       "    <tr style=\"text-align: right;\">\n",
       "      <th></th>\n",
       "      <th>Nigeria</th>\n",
       "      <th>Indonesia</th>\n",
       "      <th>China</th>\n",
       "      <th>USA</th>\n",
       "      <th>Russia</th>\n",
       "      <th>Ecuador</th>\n",
       "      <th>Egypt</th>\n",
       "    </tr>\n",
       "  </thead>\n",
       "  <tbody>\n",
       "    <tr>\n",
       "      <th>happiness-q46</th>\n",
       "      <td>1.891322</td>\n",
       "      <td>1.629572</td>\n",
       "      <td>1.850741</td>\n",
       "      <td>1.882148</td>\n",
       "      <td>2.019329</td>\n",
       "      <td>1.501695</td>\n",
       "      <td>2.273561</td>\n",
       "    </tr>\n",
       "    <tr>\n",
       "      <th>trust-q57</th>\n",
       "      <td>1.873171</td>\n",
       "      <td>1.948109</td>\n",
       "      <td>1.345630</td>\n",
       "      <td>1.602629</td>\n",
       "      <td>1.760907</td>\n",
       "      <td>1.941376</td>\n",
       "      <td>1.926483</td>\n",
       "    </tr>\n",
       "    <tr>\n",
       "      <th>authority-q45</th>\n",
       "      <td>1.099676</td>\n",
       "      <td>1.909033</td>\n",
       "      <td>1.568575</td>\n",
       "      <td>1.564341</td>\n",
       "      <td>1.558504</td>\n",
       "      <td>1.121644</td>\n",
       "      <td>1.310219</td>\n",
       "    </tr>\n",
       "    <tr>\n",
       "      <th>petition-q209</th>\n",
       "      <td>2.590986</td>\n",
       "      <td>2.632422</td>\n",
       "      <td>2.406903</td>\n",
       "      <td>1.459743</td>\n",
       "      <td>2.433158</td>\n",
       "      <td>2.378608</td>\n",
       "      <td>2.827468</td>\n",
       "    </tr>\n",
       "    <tr>\n",
       "      <th>god-q164</th>\n",
       "      <td>9.459984</td>\n",
       "      <td>9.770938</td>\n",
       "      <td>2.803306</td>\n",
       "      <td>6.717611</td>\n",
       "      <td>6.293124</td>\n",
       "      <td>9.233333</td>\n",
       "      <td>9.957358</td>\n",
       "    </tr>\n",
       "    <tr>\n",
       "      <th>homosexuality-q182</th>\n",
       "      <td>1.500000</td>\n",
       "      <td>1.610223</td>\n",
       "      <td>2.318017</td>\n",
       "      <td>6.496865</td>\n",
       "      <td>2.604513</td>\n",
       "      <td>3.704605</td>\n",
       "      <td>0.000000</td>\n",
       "    </tr>\n",
       "    <tr>\n",
       "      <th>abortion-q184</th>\n",
       "      <td>1.708706</td>\n",
       "      <td>1.576261</td>\n",
       "      <td>2.437231</td>\n",
       "      <td>5.067004</td>\n",
       "      <td>4.576856</td>\n",
       "      <td>2.550126</td>\n",
       "      <td>2.061603</td>\n",
       "    </tr>\n",
       "    <tr>\n",
       "      <th>proud-q254</th>\n",
       "      <td>1.428803</td>\n",
       "      <td>1.219962</td>\n",
       "      <td>1.639454</td>\n",
       "      <td>1.844383</td>\n",
       "      <td>1.653212</td>\n",
       "      <td>1.183725</td>\n",
       "      <td>1.578727</td>\n",
       "    </tr>\n",
       "    <tr>\n",
       "      <th>child-obey1-q8</th>\n",
       "      <td>-0.774454</td>\n",
       "      <td>-0.283438</td>\n",
       "      <td>0.927201</td>\n",
       "      <td>0.452546</td>\n",
       "      <td>0.444751</td>\n",
       "      <td>-0.680833</td>\n",
       "      <td>-1.122602</td>\n",
       "    </tr>\n",
       "    <tr>\n",
       "      <th>materialistic-q155</th>\n",
       "      <td>1.799153</td>\n",
       "      <td>1.833808</td>\n",
       "      <td>1.544902</td>\n",
       "      <td>2.125100</td>\n",
       "      <td>1.505413</td>\n",
       "      <td>1.866779</td>\n",
       "      <td>1.286815</td>\n",
       "    </tr>\n",
       "  </tbody>\n",
       "</table>\n",
       "</div>"
      ],
      "text/plain": [
       "                     Nigeria  Indonesia     China       USA    Russia  \\\n",
       "happiness-q46       1.891322   1.629572  1.850741  1.882148  2.019329   \n",
       "trust-q57           1.873171   1.948109  1.345630  1.602629  1.760907   \n",
       "authority-q45       1.099676   1.909033  1.568575  1.564341  1.558504   \n",
       "petition-q209       2.590986   2.632422  2.406903  1.459743  2.433158   \n",
       "god-q164            9.459984   9.770938  2.803306  6.717611  6.293124   \n",
       "homosexuality-q182  1.500000   1.610223  2.318017  6.496865  2.604513   \n",
       "abortion-q184       1.708706   1.576261  2.437231  5.067004  4.576856   \n",
       "proud-q254          1.428803   1.219962  1.639454  1.844383  1.653212   \n",
       "child-obey1-q8     -0.774454  -0.283438  0.927201  0.452546  0.444751   \n",
       "materialistic-q155  1.799153   1.833808  1.544902  2.125100  1.505413   \n",
       "\n",
       "                     Ecuador     Egypt  \n",
       "happiness-q46       1.501695  2.273561  \n",
       "trust-q57           1.941376  1.926483  \n",
       "authority-q45       1.121644  1.310219  \n",
       "petition-q209       2.378608  2.827468  \n",
       "god-q164            9.233333  9.957358  \n",
       "homosexuality-q182  3.704605  0.000000  \n",
       "abortion-q184       2.550126  2.061603  \n",
       "proud-q254          1.183725  1.578727  \n",
       "child-obey1-q8     -0.680833 -1.122602  \n",
       "materialistic-q155  1.866779  1.286815  "
      ]
     },
     "execution_count": 327,
     "metadata": {},
     "output_type": "execute_result"
    }
   ],
   "source": [
    "df_aggregated_real"
   ]
  },
  {
   "cell_type": "code",
   "execution_count": null,
   "metadata": {},
   "outputs": [],
   "source": []
  },
  {
   "cell_type": "code",
   "execution_count": 328,
   "metadata": {},
   "outputs": [],
   "source": [
    "df_filtered = df_verbbose[df_verbbose['S003'] == 818][columns_to_plot]\n",
    "df_filtered = df_filtered.apply(lambda x: x.mask(x < 0))\n"
   ]
  },
  {
   "cell_type": "code",
   "execution_count": 329,
   "metadata": {},
   "outputs": [
    {
     "data": {
      "text/html": [
       "<div>\n",
       "<style scoped>\n",
       "    .dataframe tbody tr th:only-of-type {\n",
       "        vertical-align: middle;\n",
       "    }\n",
       "\n",
       "    .dataframe tbody tr th {\n",
       "        vertical-align: top;\n",
       "    }\n",
       "\n",
       "    .dataframe thead th {\n",
       "        text-align: right;\n",
       "    }\n",
       "</style>\n",
       "<table border=\"1\" class=\"dataframe\">\n",
       "  <thead>\n",
       "    <tr style=\"text-align: right;\">\n",
       "      <th></th>\n",
       "      <th>A008</th>\n",
       "      <th>A165</th>\n",
       "      <th>E018</th>\n",
       "      <th>E025</th>\n",
       "      <th>F063</th>\n",
       "      <th>F118</th>\n",
       "      <th>F120</th>\n",
       "      <th>G006</th>\n",
       "      <th>Y003</th>\n",
       "      <th>Y002</th>\n",
       "    </tr>\n",
       "  </thead>\n",
       "  <tbody>\n",
       "    <tr>\n",
       "      <th>85236</th>\n",
       "      <td>2.0</td>\n",
       "      <td>2.0</td>\n",
       "      <td>1.0</td>\n",
       "      <td>3.0</td>\n",
       "      <td>10.0</td>\n",
       "      <td>NaN</td>\n",
       "      <td>1.0</td>\n",
       "      <td>2.0</td>\n",
       "      <td>NaN</td>\n",
       "      <td>2.0</td>\n",
       "    </tr>\n",
       "    <tr>\n",
       "      <th>85237</th>\n",
       "      <td>4.0</td>\n",
       "      <td>2.0</td>\n",
       "      <td>1.0</td>\n",
       "      <td>3.0</td>\n",
       "      <td>10.0</td>\n",
       "      <td>NaN</td>\n",
       "      <td>3.0</td>\n",
       "      <td>2.0</td>\n",
       "      <td>NaN</td>\n",
       "      <td>2.0</td>\n",
       "    </tr>\n",
       "    <tr>\n",
       "      <th>85238</th>\n",
       "      <td>2.0</td>\n",
       "      <td>2.0</td>\n",
       "      <td>1.0</td>\n",
       "      <td>3.0</td>\n",
       "      <td>10.0</td>\n",
       "      <td>NaN</td>\n",
       "      <td>1.0</td>\n",
       "      <td>1.0</td>\n",
       "      <td>NaN</td>\n",
       "      <td>1.0</td>\n",
       "    </tr>\n",
       "    <tr>\n",
       "      <th>85239</th>\n",
       "      <td>2.0</td>\n",
       "      <td>2.0</td>\n",
       "      <td>1.0</td>\n",
       "      <td>3.0</td>\n",
       "      <td>10.0</td>\n",
       "      <td>NaN</td>\n",
       "      <td>1.0</td>\n",
       "      <td>1.0</td>\n",
       "      <td>1.0</td>\n",
       "      <td>1.0</td>\n",
       "    </tr>\n",
       "    <tr>\n",
       "      <th>85240</th>\n",
       "      <td>3.0</td>\n",
       "      <td>2.0</td>\n",
       "      <td>1.0</td>\n",
       "      <td>3.0</td>\n",
       "      <td>10.0</td>\n",
       "      <td>NaN</td>\n",
       "      <td>5.0</td>\n",
       "      <td>1.0</td>\n",
       "      <td>0.0</td>\n",
       "      <td>1.0</td>\n",
       "    </tr>\n",
       "    <tr>\n",
       "      <th>...</th>\n",
       "      <td>...</td>\n",
       "      <td>...</td>\n",
       "      <td>...</td>\n",
       "      <td>...</td>\n",
       "      <td>...</td>\n",
       "      <td>...</td>\n",
       "      <td>...</td>\n",
       "      <td>...</td>\n",
       "      <td>...</td>\n",
       "      <td>...</td>\n",
       "    </tr>\n",
       "    <tr>\n",
       "      <th>86431</th>\n",
       "      <td>2.0</td>\n",
       "      <td>2.0</td>\n",
       "      <td>1.0</td>\n",
       "      <td>3.0</td>\n",
       "      <td>10.0</td>\n",
       "      <td>NaN</td>\n",
       "      <td>1.0</td>\n",
       "      <td>1.0</td>\n",
       "      <td>NaN</td>\n",
       "      <td>2.0</td>\n",
       "    </tr>\n",
       "    <tr>\n",
       "      <th>86432</th>\n",
       "      <td>3.0</td>\n",
       "      <td>2.0</td>\n",
       "      <td>1.0</td>\n",
       "      <td>3.0</td>\n",
       "      <td>10.0</td>\n",
       "      <td>NaN</td>\n",
       "      <td>3.0</td>\n",
       "      <td>2.0</td>\n",
       "      <td>NaN</td>\n",
       "      <td>1.0</td>\n",
       "    </tr>\n",
       "    <tr>\n",
       "      <th>86433</th>\n",
       "      <td>2.0</td>\n",
       "      <td>2.0</td>\n",
       "      <td>1.0</td>\n",
       "      <td>3.0</td>\n",
       "      <td>10.0</td>\n",
       "      <td>NaN</td>\n",
       "      <td>5.0</td>\n",
       "      <td>2.0</td>\n",
       "      <td>NaN</td>\n",
       "      <td>2.0</td>\n",
       "    </tr>\n",
       "    <tr>\n",
       "      <th>86434</th>\n",
       "      <td>3.0</td>\n",
       "      <td>2.0</td>\n",
       "      <td>1.0</td>\n",
       "      <td>3.0</td>\n",
       "      <td>10.0</td>\n",
       "      <td>NaN</td>\n",
       "      <td>5.0</td>\n",
       "      <td>1.0</td>\n",
       "      <td>0.0</td>\n",
       "      <td>1.0</td>\n",
       "    </tr>\n",
       "    <tr>\n",
       "      <th>86435</th>\n",
       "      <td>2.0</td>\n",
       "      <td>2.0</td>\n",
       "      <td>1.0</td>\n",
       "      <td>3.0</td>\n",
       "      <td>10.0</td>\n",
       "      <td>NaN</td>\n",
       "      <td>1.0</td>\n",
       "      <td>2.0</td>\n",
       "      <td>0.0</td>\n",
       "      <td>1.0</td>\n",
       "    </tr>\n",
       "  </tbody>\n",
       "</table>\n",
       "<p>1200 rows × 10 columns</p>\n",
       "</div>"
      ],
      "text/plain": [
       "       A008  A165  E018  E025  F063  F118  F120  G006  Y003  Y002\n",
       "85236   2.0   2.0   1.0   3.0  10.0   NaN   1.0   2.0   NaN   2.0\n",
       "85237   4.0   2.0   1.0   3.0  10.0   NaN   3.0   2.0   NaN   2.0\n",
       "85238   2.0   2.0   1.0   3.0  10.0   NaN   1.0   1.0   NaN   1.0\n",
       "85239   2.0   2.0   1.0   3.0  10.0   NaN   1.0   1.0   1.0   1.0\n",
       "85240   3.0   2.0   1.0   3.0  10.0   NaN   5.0   1.0   0.0   1.0\n",
       "...     ...   ...   ...   ...   ...   ...   ...   ...   ...   ...\n",
       "86431   2.0   2.0   1.0   3.0  10.0   NaN   1.0   1.0   NaN   2.0\n",
       "86432   3.0   2.0   1.0   3.0  10.0   NaN   3.0   2.0   NaN   1.0\n",
       "86433   2.0   2.0   1.0   3.0  10.0   NaN   5.0   2.0   NaN   2.0\n",
       "86434   3.0   2.0   1.0   3.0  10.0   NaN   5.0   1.0   0.0   1.0\n",
       "86435   2.0   2.0   1.0   3.0  10.0   NaN   1.0   2.0   0.0   1.0\n",
       "\n",
       "[1200 rows x 10 columns]"
      ]
     },
     "execution_count": 329,
     "metadata": {},
     "output_type": "execute_result"
    }
   ],
   "source": [
    "df_filtered"
   ]
  },
  {
   "cell_type": "code",
   "execution_count": 330,
   "metadata": {},
   "outputs": [
    {
     "data": {
      "text/html": [
       "<div>\n",
       "<style scoped>\n",
       "    .dataframe tbody tr th:only-of-type {\n",
       "        vertical-align: middle;\n",
       "    }\n",
       "\n",
       "    .dataframe tbody tr th {\n",
       "        vertical-align: top;\n",
       "    }\n",
       "\n",
       "    .dataframe thead th {\n",
       "        text-align: right;\n",
       "    }\n",
       "</style>\n",
       "<table border=\"1\" class=\"dataframe\">\n",
       "  <thead>\n",
       "    <tr style=\"text-align: right;\">\n",
       "      <th></th>\n",
       "      <th>version</th>\n",
       "      <th>doi</th>\n",
       "      <th>S002VS</th>\n",
       "      <th>S003</th>\n",
       "      <th>COUNTRY_ALPHA</th>\n",
       "      <th>COW_NUM</th>\n",
       "      <th>COW_ALPHA</th>\n",
       "      <th>S004</th>\n",
       "      <th>S006</th>\n",
       "      <th>S007</th>\n",
       "      <th>...</th>\n",
       "      <th>Y023A</th>\n",
       "      <th>Y023B</th>\n",
       "      <th>Y023C</th>\n",
       "      <th>Y024A</th>\n",
       "      <th>Y024B</th>\n",
       "      <th>Y024C</th>\n",
       "      <th>survself</th>\n",
       "      <th>tradrat5</th>\n",
       "      <th>TradAgg</th>\n",
       "      <th>SurvSAgg</th>\n",
       "    </tr>\n",
       "  </thead>\n",
       "  <tbody>\n",
       "    <tr>\n",
       "      <th>89045</th>\n",
       "      <td>4-0-0</td>\n",
       "      <td>doi:10.14281/18241.22</td>\n",
       "      <td>7</td>\n",
       "      <td>840</td>\n",
       "      <td>USA</td>\n",
       "      <td>2</td>\n",
       "      <td>USA</td>\n",
       "      <td>-4</td>\n",
       "      <td>840071622</td>\n",
       "      <td>840720001</td>\n",
       "      <td>...</td>\n",
       "      <td>0.444444</td>\n",
       "      <td>0.111111</td>\n",
       "      <td>0.444444</td>\n",
       "      <td>0.00</td>\n",
       "      <td>0.0</td>\n",
       "      <td>0.000</td>\n",
       "      <td>0.019335</td>\n",
       "      <td>0.129601</td>\n",
       "      <td>0.108658</td>\n",
       "      <td>0.072997</td>\n",
       "    </tr>\n",
       "    <tr>\n",
       "      <th>89046</th>\n",
       "      <td>4-0-0</td>\n",
       "      <td>doi:10.14281/18241.22</td>\n",
       "      <td>7</td>\n",
       "      <td>840</td>\n",
       "      <td>USA</td>\n",
       "      <td>2</td>\n",
       "      <td>USA</td>\n",
       "      <td>-4</td>\n",
       "      <td>840071861</td>\n",
       "      <td>840720002</td>\n",
       "      <td>...</td>\n",
       "      <td>0.444444</td>\n",
       "      <td>0.888889</td>\n",
       "      <td>0.666667</td>\n",
       "      <td>1.00</td>\n",
       "      <td>0.5</td>\n",
       "      <td>0.750</td>\n",
       "      <td>0.680012</td>\n",
       "      <td>-0.048331</td>\n",
       "      <td>-0.177813</td>\n",
       "      <td>1.268822</td>\n",
       "    </tr>\n",
       "    <tr>\n",
       "      <th>89047</th>\n",
       "      <td>4-0-0</td>\n",
       "      <td>doi:10.14281/18241.22</td>\n",
       "      <td>7</td>\n",
       "      <td>840</td>\n",
       "      <td>USA</td>\n",
       "      <td>2</td>\n",
       "      <td>USA</td>\n",
       "      <td>-4</td>\n",
       "      <td>840072716</td>\n",
       "      <td>840720003</td>\n",
       "      <td>...</td>\n",
       "      <td>1.000000</td>\n",
       "      <td>0.888889</td>\n",
       "      <td>0.888889</td>\n",
       "      <td>0.33</td>\n",
       "      <td>1.0</td>\n",
       "      <td>0.665</td>\n",
       "      <td>2.555680</td>\n",
       "      <td>0.040687</td>\n",
       "      <td>-0.034494</td>\n",
       "      <td>4.663780</td>\n",
       "    </tr>\n",
       "    <tr>\n",
       "      <th>89048</th>\n",
       "      <td>4-0-0</td>\n",
       "      <td>doi:10.14281/18241.22</td>\n",
       "      <td>7</td>\n",
       "      <td>840</td>\n",
       "      <td>USA</td>\n",
       "      <td>2</td>\n",
       "      <td>USA</td>\n",
       "      <td>-4</td>\n",
       "      <td>840072218</td>\n",
       "      <td>840720004</td>\n",
       "      <td>...</td>\n",
       "      <td>0.000000</td>\n",
       "      <td>0.111111</td>\n",
       "      <td>0.444444</td>\n",
       "      <td>0.33</td>\n",
       "      <td>0.0</td>\n",
       "      <td>0.165</td>\n",
       "      <td>0.771128</td>\n",
       "      <td>-0.558856</td>\n",
       "      <td>-0.999758</td>\n",
       "      <td>1.433741</td>\n",
       "    </tr>\n",
       "    <tr>\n",
       "      <th>89049</th>\n",
       "      <td>4-0-0</td>\n",
       "      <td>doi:10.14281/18241.22</td>\n",
       "      <td>7</td>\n",
       "      <td>840</td>\n",
       "      <td>USA</td>\n",
       "      <td>2</td>\n",
       "      <td>USA</td>\n",
       "      <td>-4</td>\n",
       "      <td>840073015</td>\n",
       "      <td>840720005</td>\n",
       "      <td>...</td>\n",
       "      <td>0.555556</td>\n",
       "      <td>0.555556</td>\n",
       "      <td>0.666667</td>\n",
       "      <td>1.00</td>\n",
       "      <td>0.0</td>\n",
       "      <td>0.500</td>\n",
       "      <td>1.811549</td>\n",
       "      <td>-0.271376</td>\n",
       "      <td>-0.536915</td>\n",
       "      <td>3.316904</td>\n",
       "    </tr>\n",
       "    <tr>\n",
       "      <th>...</th>\n",
       "      <td>...</td>\n",
       "      <td>...</td>\n",
       "      <td>...</td>\n",
       "      <td>...</td>\n",
       "      <td>...</td>\n",
       "      <td>...</td>\n",
       "      <td>...</td>\n",
       "      <td>...</td>\n",
       "      <td>...</td>\n",
       "      <td>...</td>\n",
       "      <td>...</td>\n",
       "      <td>...</td>\n",
       "      <td>...</td>\n",
       "      <td>...</td>\n",
       "      <td>...</td>\n",
       "      <td>...</td>\n",
       "      <td>...</td>\n",
       "      <td>...</td>\n",
       "      <td>...</td>\n",
       "      <td>...</td>\n",
       "      <td>...</td>\n",
       "    </tr>\n",
       "    <tr>\n",
       "      <th>91636</th>\n",
       "      <td>4-0-0</td>\n",
       "      <td>doi:10.14281/18241.22</td>\n",
       "      <td>7</td>\n",
       "      <td>840</td>\n",
       "      <td>USA</td>\n",
       "      <td>2</td>\n",
       "      <td>USA</td>\n",
       "      <td>-4</td>\n",
       "      <td>840072715</td>\n",
       "      <td>840722592</td>\n",
       "      <td>...</td>\n",
       "      <td>0.666667</td>\n",
       "      <td>0.555556</td>\n",
       "      <td>0.555556</td>\n",
       "      <td>0.00</td>\n",
       "      <td>0.0</td>\n",
       "      <td>0.000</td>\n",
       "      <td>NaN</td>\n",
       "      <td>NaN</td>\n",
       "      <td>NaN</td>\n",
       "      <td>NaN</td>\n",
       "    </tr>\n",
       "    <tr>\n",
       "      <th>91637</th>\n",
       "      <td>4-0-0</td>\n",
       "      <td>doi:10.14281/18241.22</td>\n",
       "      <td>7</td>\n",
       "      <td>840</td>\n",
       "      <td>USA</td>\n",
       "      <td>2</td>\n",
       "      <td>USA</td>\n",
       "      <td>-4</td>\n",
       "      <td>840071538</td>\n",
       "      <td>840722593</td>\n",
       "      <td>...</td>\n",
       "      <td>0.888889</td>\n",
       "      <td>0.777778</td>\n",
       "      <td>0.777778</td>\n",
       "      <td>1.00</td>\n",
       "      <td>1.0</td>\n",
       "      <td>1.000</td>\n",
       "      <td>0.305818</td>\n",
       "      <td>2.278036</td>\n",
       "      <td>3.567638</td>\n",
       "      <td>0.591530</td>\n",
       "    </tr>\n",
       "    <tr>\n",
       "      <th>91638</th>\n",
       "      <td>4-0-0</td>\n",
       "      <td>doi:10.14281/18241.22</td>\n",
       "      <td>7</td>\n",
       "      <td>840</td>\n",
       "      <td>USA</td>\n",
       "      <td>2</td>\n",
       "      <td>USA</td>\n",
       "      <td>-4</td>\n",
       "      <td>840071446</td>\n",
       "      <td>840722594</td>\n",
       "      <td>...</td>\n",
       "      <td>0.444444</td>\n",
       "      <td>0.555556</td>\n",
       "      <td>0.555556</td>\n",
       "      <td>1.00</td>\n",
       "      <td>1.0</td>\n",
       "      <td>1.000</td>\n",
       "      <td>1.001656</td>\n",
       "      <td>-0.739623</td>\n",
       "      <td>-1.290792</td>\n",
       "      <td>1.850997</td>\n",
       "    </tr>\n",
       "    <tr>\n",
       "      <th>91639</th>\n",
       "      <td>4-0-0</td>\n",
       "      <td>doi:10.14281/18241.22</td>\n",
       "      <td>7</td>\n",
       "      <td>840</td>\n",
       "      <td>USA</td>\n",
       "      <td>2</td>\n",
       "      <td>USA</td>\n",
       "      <td>-4</td>\n",
       "      <td>840071167</td>\n",
       "      <td>840722595</td>\n",
       "      <td>...</td>\n",
       "      <td>0.555556</td>\n",
       "      <td>0.000000</td>\n",
       "      <td>0.777778</td>\n",
       "      <td>NaN</td>\n",
       "      <td>NaN</td>\n",
       "      <td>NaN</td>\n",
       "      <td>NaN</td>\n",
       "      <td>NaN</td>\n",
       "      <td>NaN</td>\n",
       "      <td>NaN</td>\n",
       "    </tr>\n",
       "    <tr>\n",
       "      <th>91640</th>\n",
       "      <td>4-0-0</td>\n",
       "      <td>doi:10.14281/18241.22</td>\n",
       "      <td>7</td>\n",
       "      <td>840</td>\n",
       "      <td>USA</td>\n",
       "      <td>2</td>\n",
       "      <td>USA</td>\n",
       "      <td>-4</td>\n",
       "      <td>840072217</td>\n",
       "      <td>840722596</td>\n",
       "      <td>...</td>\n",
       "      <td>0.555556</td>\n",
       "      <td>0.000000</td>\n",
       "      <td>0.777778</td>\n",
       "      <td>0.00</td>\n",
       "      <td>0.5</td>\n",
       "      <td>0.250</td>\n",
       "      <td>1.054975</td>\n",
       "      <td>-1.685452</td>\n",
       "      <td>-2.813577</td>\n",
       "      <td>1.947505</td>\n",
       "    </tr>\n",
       "  </tbody>\n",
       "</table>\n",
       "<p>2596 rows × 1045 columns</p>\n",
       "</div>"
      ],
      "text/plain": [
       "      version                    doi  S002VS  S003 COUNTRY_ALPHA  COW_NUM  \\\n",
       "89045   4-0-0  doi:10.14281/18241.22       7   840           USA        2   \n",
       "89046   4-0-0  doi:10.14281/18241.22       7   840           USA        2   \n",
       "89047   4-0-0  doi:10.14281/18241.22       7   840           USA        2   \n",
       "89048   4-0-0  doi:10.14281/18241.22       7   840           USA        2   \n",
       "89049   4-0-0  doi:10.14281/18241.22       7   840           USA        2   \n",
       "...       ...                    ...     ...   ...           ...      ...   \n",
       "91636   4-0-0  doi:10.14281/18241.22       7   840           USA        2   \n",
       "91637   4-0-0  doi:10.14281/18241.22       7   840           USA        2   \n",
       "91638   4-0-0  doi:10.14281/18241.22       7   840           USA        2   \n",
       "91639   4-0-0  doi:10.14281/18241.22       7   840           USA        2   \n",
       "91640   4-0-0  doi:10.14281/18241.22       7   840           USA        2   \n",
       "\n",
       "      COW_ALPHA  S004       S006       S007  ...     Y023A     Y023B  \\\n",
       "89045       USA    -4  840071622  840720001  ...  0.444444  0.111111   \n",
       "89046       USA    -4  840071861  840720002  ...  0.444444  0.888889   \n",
       "89047       USA    -4  840072716  840720003  ...  1.000000  0.888889   \n",
       "89048       USA    -4  840072218  840720004  ...  0.000000  0.111111   \n",
       "89049       USA    -4  840073015  840720005  ...  0.555556  0.555556   \n",
       "...         ...   ...        ...        ...  ...       ...       ...   \n",
       "91636       USA    -4  840072715  840722592  ...  0.666667  0.555556   \n",
       "91637       USA    -4  840071538  840722593  ...  0.888889  0.777778   \n",
       "91638       USA    -4  840071446  840722594  ...  0.444444  0.555556   \n",
       "91639       USA    -4  840071167  840722595  ...  0.555556  0.000000   \n",
       "91640       USA    -4  840072217  840722596  ...  0.555556  0.000000   \n",
       "\n",
       "          Y023C  Y024A  Y024B  Y024C  survself  tradrat5   TradAgg  SurvSAgg  \n",
       "89045  0.444444   0.00    0.0  0.000  0.019335  0.129601  0.108658  0.072997  \n",
       "89046  0.666667   1.00    0.5  0.750  0.680012 -0.048331 -0.177813  1.268822  \n",
       "89047  0.888889   0.33    1.0  0.665  2.555680  0.040687 -0.034494  4.663780  \n",
       "89048  0.444444   0.33    0.0  0.165  0.771128 -0.558856 -0.999758  1.433741  \n",
       "89049  0.666667   1.00    0.0  0.500  1.811549 -0.271376 -0.536915  3.316904  \n",
       "...         ...    ...    ...    ...       ...       ...       ...       ...  \n",
       "91636  0.555556   0.00    0.0  0.000       NaN       NaN       NaN       NaN  \n",
       "91637  0.777778   1.00    1.0  1.000  0.305818  2.278036  3.567638  0.591530  \n",
       "91638  0.555556   1.00    1.0  1.000  1.001656 -0.739623 -1.290792  1.850997  \n",
       "91639  0.777778    NaN    NaN    NaN       NaN       NaN       NaN       NaN  \n",
       "91640  0.777778   0.00    0.5  0.250  1.054975 -1.685452 -2.813577  1.947505  \n",
       "\n",
       "[2596 rows x 1045 columns]"
      ]
     },
     "execution_count": 330,
     "metadata": {},
     "output_type": "execute_result"
    }
   ],
   "source": [
    "df_verbbose[df_verbbose.COUNTRY_ALPHA == \"USA\"]"
   ]
  },
  {
   "cell_type": "code",
   "execution_count": null,
   "metadata": {},
   "outputs": [],
   "source": [
    "countries = [\"USA\", \"IDN\", \"NGA\", \"CHN\"]\n",
    "cols = [\"A008\", \"A165\", \"E018\", \"E025\", \"F063\", \"F118\", \"F120\", \"G006\", \"Y002\", \"Y003\"]"
   ]
  },
  {
   "cell_type": "code",
   "execution_count": 7,
   "metadata": {},
   "outputs": [
    {
     "data": {
      "text/html": [
       "<div>\n",
       "<style scoped>\n",
       "    .dataframe tbody tr th:only-of-type {\n",
       "        vertical-align: middle;\n",
       "    }\n",
       "\n",
       "    .dataframe tbody tr th {\n",
       "        vertical-align: top;\n",
       "    }\n",
       "\n",
       "    .dataframe thead th {\n",
       "        text-align: right;\n",
       "    }\n",
       "</style>\n",
       "<table border=\"1\" class=\"dataframe\">\n",
       "  <thead>\n",
       "    <tr style=\"text-align: right;\">\n",
       "      <th></th>\n",
       "      <th>version</th>\n",
       "      <th>doi</th>\n",
       "      <th>S002VS</th>\n",
       "      <th>S003</th>\n",
       "      <th>COUNTRY_ALPHA</th>\n",
       "      <th>COW_NUM</th>\n",
       "      <th>COW_ALPHA</th>\n",
       "      <th>S004</th>\n",
       "      <th>S006</th>\n",
       "      <th>S007</th>\n",
       "      <th>...</th>\n",
       "      <th>Y023A</th>\n",
       "      <th>Y023B</th>\n",
       "      <th>Y023C</th>\n",
       "      <th>Y024A</th>\n",
       "      <th>Y024B</th>\n",
       "      <th>Y024C</th>\n",
       "      <th>survself</th>\n",
       "      <th>tradrat5</th>\n",
       "      <th>TradAgg</th>\n",
       "      <th>SurvSAgg</th>\n",
       "    </tr>\n",
       "  </thead>\n",
       "  <tbody>\n",
       "    <tr>\n",
       "      <th>0</th>\n",
       "      <td>4-0-0</td>\n",
       "      <td>doi:10.14281/18241.22</td>\n",
       "      <td>7</td>\n",
       "      <td>20</td>\n",
       "      <td>AND</td>\n",
       "      <td>232</td>\n",
       "      <td>AND</td>\n",
       "      <td>-4</td>\n",
       "      <td>20070001</td>\n",
       "      <td>20720001</td>\n",
       "      <td>...</td>\n",
       "      <td>0.333333</td>\n",
       "      <td>0.111111</td>\n",
       "      <td>0.444444</td>\n",
       "      <td>0.00</td>\n",
       "      <td>0.0</td>\n",
       "      <td>0.000</td>\n",
       "      <td>NaN</td>\n",
       "      <td>NaN</td>\n",
       "      <td>NaN</td>\n",
       "      <td>NaN</td>\n",
       "    </tr>\n",
       "    <tr>\n",
       "      <th>1</th>\n",
       "      <td>4-0-0</td>\n",
       "      <td>doi:10.14281/18241.22</td>\n",
       "      <td>7</td>\n",
       "      <td>20</td>\n",
       "      <td>AND</td>\n",
       "      <td>232</td>\n",
       "      <td>AND</td>\n",
       "      <td>-4</td>\n",
       "      <td>20070002</td>\n",
       "      <td>20720002</td>\n",
       "      <td>...</td>\n",
       "      <td>0.888889</td>\n",
       "      <td>0.888889</td>\n",
       "      <td>0.888889</td>\n",
       "      <td>1.00</td>\n",
       "      <td>0.0</td>\n",
       "      <td>0.500</td>\n",
       "      <td>2.352125</td>\n",
       "      <td>-0.408677</td>\n",
       "      <td>-0.757970</td>\n",
       "      <td>4.295347</td>\n",
       "    </tr>\n",
       "    <tr>\n",
       "      <th>2</th>\n",
       "      <td>4-0-0</td>\n",
       "      <td>doi:10.14281/18241.22</td>\n",
       "      <td>7</td>\n",
       "      <td>20</td>\n",
       "      <td>AND</td>\n",
       "      <td>232</td>\n",
       "      <td>AND</td>\n",
       "      <td>-4</td>\n",
       "      <td>20070003</td>\n",
       "      <td>20720003</td>\n",
       "      <td>...</td>\n",
       "      <td>1.000000</td>\n",
       "      <td>0.444444</td>\n",
       "      <td>0.555556</td>\n",
       "      <td>0.33</td>\n",
       "      <td>0.5</td>\n",
       "      <td>0.415</td>\n",
       "      <td>0.741679</td>\n",
       "      <td>1.078958</td>\n",
       "      <td>1.637123</td>\n",
       "      <td>1.380439</td>\n",
       "    </tr>\n",
       "    <tr>\n",
       "      <th>3</th>\n",
       "      <td>4-0-0</td>\n",
       "      <td>doi:10.14281/18241.22</td>\n",
       "      <td>7</td>\n",
       "      <td>20</td>\n",
       "      <td>AND</td>\n",
       "      <td>232</td>\n",
       "      <td>AND</td>\n",
       "      <td>-4</td>\n",
       "      <td>20070004</td>\n",
       "      <td>20720004</td>\n",
       "      <td>...</td>\n",
       "      <td>0.555556</td>\n",
       "      <td>0.333333</td>\n",
       "      <td>0.888889</td>\n",
       "      <td>0.33</td>\n",
       "      <td>0.5</td>\n",
       "      <td>0.415</td>\n",
       "      <td>NaN</td>\n",
       "      <td>NaN</td>\n",
       "      <td>NaN</td>\n",
       "      <td>NaN</td>\n",
       "    </tr>\n",
       "    <tr>\n",
       "      <th>4</th>\n",
       "      <td>4-0-0</td>\n",
       "      <td>doi:10.14281/18241.22</td>\n",
       "      <td>7</td>\n",
       "      <td>20</td>\n",
       "      <td>AND</td>\n",
       "      <td>232</td>\n",
       "      <td>AND</td>\n",
       "      <td>-4</td>\n",
       "      <td>20070005</td>\n",
       "      <td>20720005</td>\n",
       "      <td>...</td>\n",
       "      <td>0.777778</td>\n",
       "      <td>0.444444</td>\n",
       "      <td>0.666667</td>\n",
       "      <td>0.00</td>\n",
       "      <td>0.5</td>\n",
       "      <td>0.250</td>\n",
       "      <td>NaN</td>\n",
       "      <td>NaN</td>\n",
       "      <td>NaN</td>\n",
       "      <td>NaN</td>\n",
       "    </tr>\n",
       "    <tr>\n",
       "      <th>...</th>\n",
       "      <td>...</td>\n",
       "      <td>...</td>\n",
       "      <td>...</td>\n",
       "      <td>...</td>\n",
       "      <td>...</td>\n",
       "      <td>...</td>\n",
       "      <td>...</td>\n",
       "      <td>...</td>\n",
       "      <td>...</td>\n",
       "      <td>...</td>\n",
       "      <td>...</td>\n",
       "      <td>...</td>\n",
       "      <td>...</td>\n",
       "      <td>...</td>\n",
       "      <td>...</td>\n",
       "      <td>...</td>\n",
       "      <td>...</td>\n",
       "      <td>...</td>\n",
       "      <td>...</td>\n",
       "      <td>...</td>\n",
       "      <td>...</td>\n",
       "    </tr>\n",
       "    <tr>\n",
       "      <th>94273</th>\n",
       "      <td>4-0-0</td>\n",
       "      <td>doi:10.14281/18241.22</td>\n",
       "      <td>7</td>\n",
       "      <td>909</td>\n",
       "      <td>NIR</td>\n",
       "      <td>202</td>\n",
       "      <td>NIRL</td>\n",
       "      <td>-4</td>\n",
       "      <td>909070443</td>\n",
       "      <td>909070443</td>\n",
       "      <td>...</td>\n",
       "      <td>0.444444</td>\n",
       "      <td>0.222222</td>\n",
       "      <td>0.222222</td>\n",
       "      <td>0.33</td>\n",
       "      <td>0.0</td>\n",
       "      <td>0.165</td>\n",
       "      <td>0.984535</td>\n",
       "      <td>-1.182408</td>\n",
       "      <td>-2.003676</td>\n",
       "      <td>1.820009</td>\n",
       "    </tr>\n",
       "    <tr>\n",
       "      <th>94274</th>\n",
       "      <td>4-0-0</td>\n",
       "      <td>doi:10.14281/18241.22</td>\n",
       "      <td>7</td>\n",
       "      <td>909</td>\n",
       "      <td>NIR</td>\n",
       "      <td>202</td>\n",
       "      <td>NIRL</td>\n",
       "      <td>-4</td>\n",
       "      <td>909070444</td>\n",
       "      <td>909070444</td>\n",
       "      <td>...</td>\n",
       "      <td>1.000000</td>\n",
       "      <td>0.666667</td>\n",
       "      <td>0.777778</td>\n",
       "      <td>0.33</td>\n",
       "      <td>0.0</td>\n",
       "      <td>0.165</td>\n",
       "      <td>1.527666</td>\n",
       "      <td>0.768249</td>\n",
       "      <td>1.136881</td>\n",
       "      <td>2.803075</td>\n",
       "    </tr>\n",
       "    <tr>\n",
       "      <th>94275</th>\n",
       "      <td>4-0-0</td>\n",
       "      <td>doi:10.14281/18241.22</td>\n",
       "      <td>7</td>\n",
       "      <td>909</td>\n",
       "      <td>NIR</td>\n",
       "      <td>202</td>\n",
       "      <td>NIRL</td>\n",
       "      <td>-4</td>\n",
       "      <td>909070445</td>\n",
       "      <td>909070445</td>\n",
       "      <td>...</td>\n",
       "      <td>0.000000</td>\n",
       "      <td>0.000000</td>\n",
       "      <td>0.000000</td>\n",
       "      <td>0.33</td>\n",
       "      <td>0.0</td>\n",
       "      <td>0.165</td>\n",
       "      <td>0.399649</td>\n",
       "      <td>-1.394810</td>\n",
       "      <td>-2.345644</td>\n",
       "      <td>0.761364</td>\n",
       "    </tr>\n",
       "    <tr>\n",
       "      <th>94276</th>\n",
       "      <td>4-0-0</td>\n",
       "      <td>doi:10.14281/18241.22</td>\n",
       "      <td>7</td>\n",
       "      <td>909</td>\n",
       "      <td>NIR</td>\n",
       "      <td>202</td>\n",
       "      <td>NIRL</td>\n",
       "      <td>-4</td>\n",
       "      <td>909070446</td>\n",
       "      <td>909070446</td>\n",
       "      <td>...</td>\n",
       "      <td>1.000000</td>\n",
       "      <td>1.000000</td>\n",
       "      <td>0.444444</td>\n",
       "      <td>0.33</td>\n",
       "      <td>0.5</td>\n",
       "      <td>0.415</td>\n",
       "      <td>NaN</td>\n",
       "      <td>NaN</td>\n",
       "      <td>NaN</td>\n",
       "      <td>NaN</td>\n",
       "    </tr>\n",
       "    <tr>\n",
       "      <th>94277</th>\n",
       "      <td>4-0-0</td>\n",
       "      <td>doi:10.14281/18241.22</td>\n",
       "      <td>7</td>\n",
       "      <td>909</td>\n",
       "      <td>NIR</td>\n",
       "      <td>202</td>\n",
       "      <td>NIRL</td>\n",
       "      <td>-4</td>\n",
       "      <td>909070447</td>\n",
       "      <td>909070447</td>\n",
       "      <td>...</td>\n",
       "      <td>0.777778</td>\n",
       "      <td>0.555556</td>\n",
       "      <td>0.777778</td>\n",
       "      <td>0.00</td>\n",
       "      <td>1.0</td>\n",
       "      <td>0.500</td>\n",
       "      <td>0.803876</td>\n",
       "      <td>-0.468034</td>\n",
       "      <td>-0.853535</td>\n",
       "      <td>1.493016</td>\n",
       "    </tr>\n",
       "  </tbody>\n",
       "</table>\n",
       "<p>94278 rows × 1045 columns</p>\n",
       "</div>"
      ],
      "text/plain": [
       "      version                    doi  S002VS  S003 COUNTRY_ALPHA  COW_NUM  \\\n",
       "0       4-0-0  doi:10.14281/18241.22       7    20           AND      232   \n",
       "1       4-0-0  doi:10.14281/18241.22       7    20           AND      232   \n",
       "2       4-0-0  doi:10.14281/18241.22       7    20           AND      232   \n",
       "3       4-0-0  doi:10.14281/18241.22       7    20           AND      232   \n",
       "4       4-0-0  doi:10.14281/18241.22       7    20           AND      232   \n",
       "...       ...                    ...     ...   ...           ...      ...   \n",
       "94273   4-0-0  doi:10.14281/18241.22       7   909           NIR      202   \n",
       "94274   4-0-0  doi:10.14281/18241.22       7   909           NIR      202   \n",
       "94275   4-0-0  doi:10.14281/18241.22       7   909           NIR      202   \n",
       "94276   4-0-0  doi:10.14281/18241.22       7   909           NIR      202   \n",
       "94277   4-0-0  doi:10.14281/18241.22       7   909           NIR      202   \n",
       "\n",
       "      COW_ALPHA  S004       S006       S007  ...     Y023A     Y023B  \\\n",
       "0           AND    -4   20070001   20720001  ...  0.333333  0.111111   \n",
       "1           AND    -4   20070002   20720002  ...  0.888889  0.888889   \n",
       "2           AND    -4   20070003   20720003  ...  1.000000  0.444444   \n",
       "3           AND    -4   20070004   20720004  ...  0.555556  0.333333   \n",
       "4           AND    -4   20070005   20720005  ...  0.777778  0.444444   \n",
       "...         ...   ...        ...        ...  ...       ...       ...   \n",
       "94273      NIRL    -4  909070443  909070443  ...  0.444444  0.222222   \n",
       "94274      NIRL    -4  909070444  909070444  ...  1.000000  0.666667   \n",
       "94275      NIRL    -4  909070445  909070445  ...  0.000000  0.000000   \n",
       "94276      NIRL    -4  909070446  909070446  ...  1.000000  1.000000   \n",
       "94277      NIRL    -4  909070447  909070447  ...  0.777778  0.555556   \n",
       "\n",
       "          Y023C  Y024A  Y024B  Y024C  survself  tradrat5   TradAgg  SurvSAgg  \n",
       "0      0.444444   0.00    0.0  0.000       NaN       NaN       NaN       NaN  \n",
       "1      0.888889   1.00    0.0  0.500  2.352125 -0.408677 -0.757970  4.295347  \n",
       "2      0.555556   0.33    0.5  0.415  0.741679  1.078958  1.637123  1.380439  \n",
       "3      0.888889   0.33    0.5  0.415       NaN       NaN       NaN       NaN  \n",
       "4      0.666667   0.00    0.5  0.250       NaN       NaN       NaN       NaN  \n",
       "...         ...    ...    ...    ...       ...       ...       ...       ...  \n",
       "94273  0.222222   0.33    0.0  0.165  0.984535 -1.182408 -2.003676  1.820009  \n",
       "94274  0.777778   0.33    0.0  0.165  1.527666  0.768249  1.136881  2.803075  \n",
       "94275  0.000000   0.33    0.0  0.165  0.399649 -1.394810 -2.345644  0.761364  \n",
       "94276  0.444444   0.33    0.5  0.415       NaN       NaN       NaN       NaN  \n",
       "94277  0.777778   0.00    1.0  0.500  0.803876 -0.468034 -0.853535  1.493016  \n",
       "\n",
       "[94278 rows x 1045 columns]"
      ]
     },
     "execution_count": 7,
     "metadata": {},
     "output_type": "execute_result"
    }
   ],
   "source": [
    "df_verbbose"
   ]
  },
  {
   "cell_type": "code",
   "execution_count": 332,
   "metadata": {},
   "outputs": [],
   "source": [
    "def calculate_euclidean_each_prompt(df_llm_scores, df_real):\n",
    "    pattern_en = re.compile(r\"(.+)-(.+)-prompt1\")\n",
    "    dict_model_score = {\"model\": [], \"score\": [], \"language\": [], \"with_country\": []}\n",
    "    for column in df_llm_scores.columns:\n",
    "        if pattern_en.match(column):\n",
    "            match = pattern_en.match(column)\n",
    "            dict_model_score[\"model\"].append(match.group(2))\n",
    "            lang_with_non = match.group(1)\n",
    "            dict_model_score[\"with_country\"].append(not \"non\" in lang_with_non)\n",
    "            lang = lang_with_non[4:] if \"non\" in lang_with_non else lang_with_non\n",
    "            # lang = lang_with_non\n",
    "            dict_model_score[\"language\"].append(lang)\n",
    "            dict_model_score[\"score\"].append(np.array(normalize_score(df_llm_scores[column])))\n",
    "    return pd.DataFrame(dict_model_score)"
   ]
  },
  {
   "cell_type": "code",
   "execution_count": 333,
   "metadata": {},
   "outputs": [],
   "source": [
    "df_22 = calculate_euclidean_each_prompt(df_llm_scores, df_aggregated_real)"
   ]
  },
  {
   "cell_type": "code",
   "execution_count": 334,
   "metadata": {},
   "outputs": [
    {
     "data": {
      "text/plain": [
       "array(['ind', 'hau', 'egp', 'rus', 'ecu', 'en', 'ch', 'id'], dtype=object)"
      ]
     },
     "execution_count": 334,
     "metadata": {},
     "output_type": "execute_result"
    }
   ],
   "source": [
    "df_22['language'].unique()"
   ]
  },
  {
   "cell_type": "code",
   "execution_count": 335,
   "metadata": {},
   "outputs": [],
   "source": [
    "mapping = {'en': 'USA', 'ecu': 'Ecuador', 'hau': 'Nigeria', 'egp': 'Egypt', 'id': 'Indonesia', 'rus': 'Russia', 'ch': 'China'}\n"
   ]
  },
  {
   "cell_type": "code",
   "execution_count": 336,
   "metadata": {},
   "outputs": [
    {
     "data": {
      "text/html": [
       "<div>\n",
       "<style scoped>\n",
       "    .dataframe tbody tr th:only-of-type {\n",
       "        vertical-align: middle;\n",
       "    }\n",
       "\n",
       "    .dataframe tbody tr th {\n",
       "        vertical-align: top;\n",
       "    }\n",
       "\n",
       "    .dataframe thead th {\n",
       "        text-align: right;\n",
       "    }\n",
       "</style>\n",
       "<table border=\"1\" class=\"dataframe\">\n",
       "  <thead>\n",
       "    <tr style=\"text-align: right;\">\n",
       "      <th></th>\n",
       "      <th>Nigeria</th>\n",
       "      <th>Indonesia</th>\n",
       "      <th>China</th>\n",
       "      <th>USA</th>\n",
       "      <th>Russia</th>\n",
       "      <th>Ecuador</th>\n",
       "      <th>Egypt</th>\n",
       "    </tr>\n",
       "  </thead>\n",
       "  <tbody>\n",
       "    <tr>\n",
       "      <th>happiness-q46</th>\n",
       "      <td>1.891322</td>\n",
       "      <td>1.629572</td>\n",
       "      <td>1.850741</td>\n",
       "      <td>1.882148</td>\n",
       "      <td>2.019329</td>\n",
       "      <td>1.501695</td>\n",
       "      <td>2.273561</td>\n",
       "    </tr>\n",
       "    <tr>\n",
       "      <th>trust-q57</th>\n",
       "      <td>1.873171</td>\n",
       "      <td>1.948109</td>\n",
       "      <td>1.345630</td>\n",
       "      <td>1.602629</td>\n",
       "      <td>1.760907</td>\n",
       "      <td>1.941376</td>\n",
       "      <td>1.926483</td>\n",
       "    </tr>\n",
       "    <tr>\n",
       "      <th>authority-q45</th>\n",
       "      <td>1.099676</td>\n",
       "      <td>1.909033</td>\n",
       "      <td>1.568575</td>\n",
       "      <td>1.564341</td>\n",
       "      <td>1.558504</td>\n",
       "      <td>1.121644</td>\n",
       "      <td>1.310219</td>\n",
       "    </tr>\n",
       "    <tr>\n",
       "      <th>petition-q209</th>\n",
       "      <td>2.590986</td>\n",
       "      <td>2.632422</td>\n",
       "      <td>2.406903</td>\n",
       "      <td>1.459743</td>\n",
       "      <td>2.433158</td>\n",
       "      <td>2.378608</td>\n",
       "      <td>2.827468</td>\n",
       "    </tr>\n",
       "    <tr>\n",
       "      <th>god-q164</th>\n",
       "      <td>9.459984</td>\n",
       "      <td>9.770938</td>\n",
       "      <td>2.803306</td>\n",
       "      <td>6.717611</td>\n",
       "      <td>6.293124</td>\n",
       "      <td>9.233333</td>\n",
       "      <td>9.957358</td>\n",
       "    </tr>\n",
       "    <tr>\n",
       "      <th>homosexuality-q182</th>\n",
       "      <td>1.500000</td>\n",
       "      <td>1.610223</td>\n",
       "      <td>2.318017</td>\n",
       "      <td>6.496865</td>\n",
       "      <td>2.604513</td>\n",
       "      <td>3.704605</td>\n",
       "      <td>0.000000</td>\n",
       "    </tr>\n",
       "    <tr>\n",
       "      <th>abortion-q184</th>\n",
       "      <td>1.708706</td>\n",
       "      <td>1.576261</td>\n",
       "      <td>2.437231</td>\n",
       "      <td>5.067004</td>\n",
       "      <td>4.576856</td>\n",
       "      <td>2.550126</td>\n",
       "      <td>2.061603</td>\n",
       "    </tr>\n",
       "    <tr>\n",
       "      <th>proud-q254</th>\n",
       "      <td>1.428803</td>\n",
       "      <td>1.219962</td>\n",
       "      <td>1.639454</td>\n",
       "      <td>1.844383</td>\n",
       "      <td>1.653212</td>\n",
       "      <td>1.183725</td>\n",
       "      <td>1.578727</td>\n",
       "    </tr>\n",
       "    <tr>\n",
       "      <th>child-obey1-q8</th>\n",
       "      <td>-0.774454</td>\n",
       "      <td>-0.283438</td>\n",
       "      <td>0.927201</td>\n",
       "      <td>0.452546</td>\n",
       "      <td>0.444751</td>\n",
       "      <td>-0.680833</td>\n",
       "      <td>-1.122602</td>\n",
       "    </tr>\n",
       "    <tr>\n",
       "      <th>materialistic-q155</th>\n",
       "      <td>1.799153</td>\n",
       "      <td>1.833808</td>\n",
       "      <td>1.544902</td>\n",
       "      <td>2.125100</td>\n",
       "      <td>1.505413</td>\n",
       "      <td>1.866779</td>\n",
       "      <td>1.286815</td>\n",
       "    </tr>\n",
       "  </tbody>\n",
       "</table>\n",
       "</div>"
      ],
      "text/plain": [
       "                     Nigeria  Indonesia     China       USA    Russia  \\\n",
       "happiness-q46       1.891322   1.629572  1.850741  1.882148  2.019329   \n",
       "trust-q57           1.873171   1.948109  1.345630  1.602629  1.760907   \n",
       "authority-q45       1.099676   1.909033  1.568575  1.564341  1.558504   \n",
       "petition-q209       2.590986   2.632422  2.406903  1.459743  2.433158   \n",
       "god-q164            9.459984   9.770938  2.803306  6.717611  6.293124   \n",
       "homosexuality-q182  1.500000   1.610223  2.318017  6.496865  2.604513   \n",
       "abortion-q184       1.708706   1.576261  2.437231  5.067004  4.576856   \n",
       "proud-q254          1.428803   1.219962  1.639454  1.844383  1.653212   \n",
       "child-obey1-q8     -0.774454  -0.283438  0.927201  0.452546  0.444751   \n",
       "materialistic-q155  1.799153   1.833808  1.544902  2.125100  1.505413   \n",
       "\n",
       "                     Ecuador     Egypt  \n",
       "happiness-q46       1.501695  2.273561  \n",
       "trust-q57           1.941376  1.926483  \n",
       "authority-q45       1.121644  1.310219  \n",
       "petition-q209       2.378608  2.827468  \n",
       "god-q164            9.233333  9.957358  \n",
       "homosexuality-q182  3.704605  0.000000  \n",
       "abortion-q184       2.550126  2.061603  \n",
       "proud-q254          1.183725  1.578727  \n",
       "child-obey1-q8     -0.680833 -1.122602  \n",
       "materialistic-q155  1.866779  1.286815  "
      ]
     },
     "execution_count": 336,
     "metadata": {},
     "output_type": "execute_result"
    }
   ],
   "source": [
    "df_aggregated_real"
   ]
  },
  {
   "cell_type": "code",
   "execution_count": 346,
   "metadata": {},
   "outputs": [],
   "source": [
    "def map_real(lang, df_real): \n",
    "    if lang == 'ind': # no india here\n",
    "        return []\n",
    "    score = normalize_score(df_real[mapping[lang]])\n",
    "    print(score)\n",
    "    return np.array(score)"
   ]
  },
  {
   "cell_type": "code",
   "execution_count": 347,
   "metadata": {},
   "outputs": [
    {
     "name": "stdout",
     "output_type": "stream",
     "text": [
      "[3.6739659367396595, 8.858536585365854, 1.448541329011345, 8.159438775510205, 9.459983831851254, 1.5, 1.7087062652563059, 2.2864077669902914, 3.7574777687954732, 4.5961864406779664]\n",
      "[4.820683903252711, 9.338345864661655, 2.3959854014598543, 9.223605150214592, 9.957357859531772, 0.0, 2.0616033755274263, 2.7361809045226133, 2.9741451209341117, 2.2906678082191783]\n",
      "[4.057987492893689, 7.84815864022663, 3.5132689987937273, 7.449211908931699, 6.293123543123542, 2.6045130641330165, 4.576855639976622, 2.9596361569073335, 6.500690607734806, 3.2743589743589747]\n",
      "[2.505084745762712, 9.472387425658454, 1.5473993288590602, 7.203735144312395, 9.233333333333333, 3.7046046915725457, 2.5501263689974727, 1.5511744966442953, 3.9681250000000006, 4.900505902192243]\n",
      "[3.6464451313755797, 6.423656745264784, 3.53953488372093, 3.068844807467911, 6.717610550814586, 6.496865203761756, 5.067004285157772, 3.533148074632791, 6.518229166666667, 6.062951082598236]\n",
      "[2.505084745762712, 9.472387425658454, 1.5473993288590602, 7.203735144312395, 9.233333333333333, 3.7046046915725457, 2.5501263689974727, 1.5511744966442953, 3.9681250000000006, 4.900505902192243]\n",
      "[4.057987492893689, 7.84815864022663, 3.5132689987937273, 7.449211908931699, 6.293123543123542, 2.6045130641330165, 4.576855639976622, 2.9596361569073335, 6.500690607734806, 3.2743589743589747]\n",
      "[3.6739659367396595, 8.858536585365854, 1.448541329011345, 8.159438775510205, 9.459983831851254, 1.5, 1.7087062652563059, 2.2864077669902914, 3.7574777687954732, 4.5961864406779664]\n",
      "[3.5522240527182865, 4.110667996011964, 3.5585885486018647, 7.3310653833388635, 2.803305785123967, 2.31801652892562, 2.4372308711493873, 2.9183605464845055, 7.586201191264063, 3.4520594193112757]\n",
      "[3.6464451313755797, 6.423656745264784, 3.53953488372093, 3.068844807467911, 6.717610550814586, 6.496865203761756, 5.067004285157772, 3.533148074632791, 6.518229166666667, 6.062951082598236]\n",
      "[4.057987492893689, 7.84815864022663, 3.5132689987937273, 7.449211908931699, 6.293123543123542, 2.6045130641330165, 4.576855639976622, 2.9596361569073335, 6.500690607734806, 3.2743589743589747]\n",
      "[4.820683903252711, 9.338345864661655, 2.3959854014598543, 9.223605150214592, 9.957357859531772, 0.0, 2.0616033755274263, 2.7361809045226133, 2.9741451209341117, 2.2906678082191783]\n",
      "[4.820683903252711, 9.338345864661655, 2.3959854014598543, 9.223605150214592, 9.957357859531772, 0.0, 2.0616033755274263, 2.7361809045226133, 2.9741451209341117, 2.2906678082191783]\n",
      "[2.505084745762712, 9.472387425658454, 1.5473993288590602, 7.203735144312395, 9.233333333333333, 3.7046046915725457, 2.5501263689974727, 1.5511744966442953, 3.9681250000000006, 4.900505902192243]\n",
      "[4.820683903252711, 9.338345864661655, 2.3959854014598543, 9.223605150214592, 9.957357859531772, 0.0, 2.0616033755274263, 2.7361809045226133, 2.9741451209341117, 2.2906678082191783]\n",
      "[3.5522240527182865, 4.110667996011964, 3.5585885486018647, 7.3310653833388635, 2.803305785123967, 2.31801652892562, 2.4372308711493873, 2.9183605464845055, 7.586201191264063, 3.4520594193112757]\n",
      "[2.505084745762712, 9.472387425658454, 1.5473993288590602, 7.203735144312395, 9.233333333333333, 3.7046046915725457, 2.5501263689974727, 1.5511744966442953, 3.9681250000000006, 4.900505902192243]\n",
      "[3.5522240527182865, 4.110667996011964, 3.5585885486018647, 7.3310653833388635, 2.803305785123967, 2.31801652892562, 2.4372308711493873, 2.9183605464845055, 7.586201191264063, 3.4520594193112757]\n",
      "[3.5522240527182865, 4.110667996011964, 3.5585885486018647, 7.3310653833388635, 2.803305785123967, 2.31801652892562, 2.4372308711493873, 2.9183605464845055, 7.586201191264063, 3.4520594193112757]\n",
      "[2.505084745762712, 9.472387425658454, 1.5473993288590602, 7.203735144312395, 9.233333333333333, 3.7046046915725457, 2.5501263689974727, 1.5511744966442953, 3.9681250000000006, 4.900505902192243]\n",
      "[3.6739659367396595, 8.858536585365854, 1.448541329011345, 8.159438775510205, 9.459983831851254, 1.5, 1.7087062652563059, 2.2864077669902914, 3.7574777687954732, 4.5961864406779664]\n",
      "[3.5522240527182865, 4.110667996011964, 3.5585885486018647, 7.3310653833388635, 2.803305785123967, 2.31801652892562, 2.4372308711493873, 2.9183605464845055, 7.586201191264063, 3.4520594193112757]\n",
      "[4.057987492893689, 7.84815864022663, 3.5132689987937273, 7.449211908931699, 6.293123543123542, 2.6045130641330165, 4.576855639976622, 2.9596361569073335, 6.500690607734806, 3.2743589743589747]\n",
      "[3.6464451313755797, 6.423656745264784, 3.53953488372093, 3.068844807467911, 6.717610550814586, 6.496865203761756, 5.067004285157772, 3.533148074632791, 6.518229166666667, 6.062951082598236]\n",
      "[2.888715223507346, 9.532979055954986, 5.090650663297536, 8.345900094250705, 9.7709375, 1.610222640326121, 1.5762605699968681, 1.6598873591989987, 4.862265625, 4.752136752136752]\n",
      "[4.057987492893689, 7.84815864022663, 3.5132689987937273, 7.449211908931699, 6.293123543123542, 2.6045130641330165, 4.576855639976622, 2.9596361569073335, 6.500690607734806, 3.2743589743589747]\n",
      "[3.6739659367396595, 8.858536585365854, 1.448541329011345, 8.159438775510205, 9.459983831851254, 1.5, 1.7087062652563059, 2.2864077669902914, 3.7574777687954732, 4.5961864406779664]\n",
      "[2.888715223507346, 9.532979055954986, 5.090650663297536, 8.345900094250705, 9.7709375, 1.610222640326121, 1.5762605699968681, 1.6598873591989987, 4.862265625, 4.752136752136752]\n",
      "[4.057987492893689, 7.84815864022663, 3.5132689987937273, 7.449211908931699, 6.293123543123542, 2.6045130641330165, 4.576855639976622, 2.9596361569073335, 6.500690607734806, 3.2743589743589747]\n",
      "[4.820683903252711, 9.338345864661655, 2.3959854014598543, 9.223605150214592, 9.957357859531772, 0.0, 2.0616033755274263, 2.7361809045226133, 2.9741451209341117, 2.2906678082191783]\n",
      "[3.6739659367396595, 8.858536585365854, 1.448541329011345, 8.159438775510205, 9.459983831851254, 1.5, 1.7087062652563059, 2.2864077669902914, 3.7574777687954732, 4.5961864406779664]\n",
      "[3.6464451313755797, 6.423656745264784, 3.53953488372093, 3.068844807467911, 6.717610550814586, 6.496865203761756, 5.067004285157772, 3.533148074632791, 6.518229166666667, 6.062951082598236]\n",
      "[4.057987492893689, 7.84815864022663, 3.5132689987937273, 7.449211908931699, 6.293123543123542, 2.6045130641330165, 4.576855639976622, 2.9596361569073335, 6.500690607734806, 3.2743589743589747]\n",
      "[2.505084745762712, 9.472387425658454, 1.5473993288590602, 7.203735144312395, 9.233333333333333, 3.7046046915725457, 2.5501263689974727, 1.5511744966442953, 3.9681250000000006, 4.900505902192243]\n",
      "[2.888715223507346, 9.532979055954986, 5.090650663297536, 8.345900094250705, 9.7709375, 1.610222640326121, 1.5762605699968681, 1.6598873591989987, 4.862265625, 4.752136752136752]\n",
      "[4.820683903252711, 9.338345864661655, 2.3959854014598543, 9.223605150214592, 9.957357859531772, 0.0, 2.0616033755274263, 2.7361809045226133, 2.9741451209341117, 2.2906678082191783]\n",
      "[4.057987492893689, 7.84815864022663, 3.5132689987937273, 7.449211908931699, 6.293123543123542, 2.6045130641330165, 4.576855639976622, 2.9596361569073335, 6.500690607734806, 3.2743589743589747]\n",
      "[3.5522240527182865, 4.110667996011964, 3.5585885486018647, 7.3310653833388635, 2.803305785123967, 2.31801652892562, 2.4372308711493873, 2.9183605464845055, 7.586201191264063, 3.4520594193112757]\n",
      "[2.888715223507346, 9.532979055954986, 5.090650663297536, 8.345900094250705, 9.7709375, 1.610222640326121, 1.5762605699968681, 1.6598873591989987, 4.862265625, 4.752136752136752]\n",
      "[3.6464451313755797, 6.423656745264784, 3.53953488372093, 3.068844807467911, 6.717610550814586, 6.496865203761756, 5.067004285157772, 3.533148074632791, 6.518229166666667, 6.062951082598236]\n",
      "[3.6739659367396595, 8.858536585365854, 1.448541329011345, 8.159438775510205, 9.459983831851254, 1.5, 1.7087062652563059, 2.2864077669902914, 3.7574777687954732, 4.5961864406779664]\n",
      "[3.6464451313755797, 6.423656745264784, 3.53953488372093, 3.068844807467911, 6.717610550814586, 6.496865203761756, 5.067004285157772, 3.533148074632791, 6.518229166666667, 6.062951082598236]\n",
      "[3.6739659367396595, 8.858536585365854, 1.448541329011345, 8.159438775510205, 9.459983831851254, 1.5, 1.7087062652563059, 2.2864077669902914, 3.7574777687954732, 4.5961864406779664]\n",
      "[2.505084745762712, 9.472387425658454, 1.5473993288590602, 7.203735144312395, 9.233333333333333, 3.7046046915725457, 2.5501263689974727, 1.5511744966442953, 3.9681250000000006, 4.900505902192243]\n",
      "[3.5522240527182865, 4.110667996011964, 3.5585885486018647, 7.3310653833388635, 2.803305785123967, 2.31801652892562, 2.4372308711493873, 2.9183605464845055, 7.586201191264063, 3.4520594193112757]\n",
      "[2.888715223507346, 9.532979055954986, 5.090650663297536, 8.345900094250705, 9.7709375, 1.610222640326121, 1.5762605699968681, 1.6598873591989987, 4.862265625, 4.752136752136752]\n",
      "[3.6464451313755797, 6.423656745264784, 3.53953488372093, 3.068844807467911, 6.717610550814586, 6.496865203761756, 5.067004285157772, 3.533148074632791, 6.518229166666667, 6.062951082598236]\n",
      "[2.888715223507346, 9.532979055954986, 5.090650663297536, 8.345900094250705, 9.7709375, 1.610222640326121, 1.5762605699968681, 1.6598873591989987, 4.862265625, 4.752136752136752]\n",
      "[3.5522240527182865, 4.110667996011964, 3.5585885486018647, 7.3310653833388635, 2.803305785123967, 2.31801652892562, 2.4372308711493873, 2.9183605464845055, 7.586201191264063, 3.4520594193112757]\n",
      "[4.820683903252711, 9.338345864661655, 2.3959854014598543, 9.223605150214592, 9.957357859531772, 0.0, 2.0616033755274263, 2.7361809045226133, 2.9741451209341117, 2.2906678082191783]\n",
      "[3.6464451313755797, 6.423656745264784, 3.53953488372093, 3.068844807467911, 6.717610550814586, 6.496865203761756, 5.067004285157772, 3.533148074632791, 6.518229166666667, 6.062951082598236]\n",
      "[2.888715223507346, 9.532979055954986, 5.090650663297536, 8.345900094250705, 9.7709375, 1.610222640326121, 1.5762605699968681, 1.6598873591989987, 4.862265625, 4.752136752136752]\n",
      "[3.5522240527182865, 4.110667996011964, 3.5585885486018647, 7.3310653833388635, 2.803305785123967, 2.31801652892562, 2.4372308711493873, 2.9183605464845055, 7.586201191264063, 3.4520594193112757]\n",
      "[2.888715223507346, 9.532979055954986, 5.090650663297536, 8.345900094250705, 9.7709375, 1.610222640326121, 1.5762605699968681, 1.6598873591989987, 4.862265625, 4.752136752136752]\n",
      "[3.6739659367396595, 8.858536585365854, 1.448541329011345, 8.159438775510205, 9.459983831851254, 1.5, 1.7087062652563059, 2.2864077669902914, 3.7574777687954732, 4.5961864406779664]\n",
      "[4.820683903252711, 9.338345864661655, 2.3959854014598543, 9.223605150214592, 9.957357859531772, 0.0, 2.0616033755274263, 2.7361809045226133, 2.9741451209341117, 2.2906678082191783]\n",
      "[2.505084745762712, 9.472387425658454, 1.5473993288590602, 7.203735144312395, 9.233333333333333, 3.7046046915725457, 2.5501263689974727, 1.5511744966442953, 3.9681250000000006, 4.900505902192243]\n",
      "[2.888715223507346, 9.532979055954986, 5.090650663297536, 8.345900094250705, 9.7709375, 1.610222640326121, 1.5762605699968681, 1.6598873591989987, 4.862265625, 4.752136752136752]\n",
      "[4.820683903252711, 9.338345864661655, 2.3959854014598543, 9.223605150214592, 9.957357859531772, 0.0, 2.0616033755274263, 2.7361809045226133, 2.9741451209341117, 2.2906678082191783]\n",
      "[3.6464451313755797, 6.423656745264784, 3.53953488372093, 3.068844807467911, 6.717610550814586, 6.496865203761756, 5.067004285157772, 3.533148074632791, 6.518229166666667, 6.062951082598236]\n",
      "[3.6739659367396595, 8.858536585365854, 1.448541329011345, 8.159438775510205, 9.459983831851254, 1.5, 1.7087062652563059, 2.2864077669902914, 3.7574777687954732, 4.5961864406779664]\n",
      "[4.057987492893689, 7.84815864022663, 3.5132689987937273, 7.449211908931699, 6.293123543123542, 2.6045130641330165, 4.576855639976622, 2.9596361569073335, 6.500690607734806, 3.2743589743589747]\n",
      "[2.505084745762712, 9.472387425658454, 1.5473993288590602, 7.203735144312395, 9.233333333333333, 3.7046046915725457, 2.5501263689974727, 1.5511744966442953, 3.9681250000000006, 4.900505902192243]\n"
     ]
    }
   ],
   "source": [
    "df_22['real'] = df_22['language'].apply(lambda x: map_real(x, df_aggregated_real))\n"
   ]
  },
  {
   "cell_type": "code",
   "execution_count": 348,
   "metadata": {},
   "outputs": [
    {
     "data": {
      "text/plain": [
       "[]"
      ]
     },
     "execution_count": 348,
     "metadata": {},
     "output_type": "execute_result"
    }
   ],
   "source": [
    "df_22.real[0]"
   ]
  },
  {
   "cell_type": "code",
   "execution_count": 349,
   "metadata": {},
   "outputs": [],
   "source": [
    "df_22_non_india = df_22[df_22.language != \"ind\"]"
   ]
  },
  {
   "cell_type": "code",
   "execution_count": null,
   "metadata": {},
   "outputs": [],
   "source": []
  },
  {
   "cell_type": "code",
   "execution_count": 385,
   "metadata": {},
   "outputs": [],
   "source": [
    "import numpy as np\n",
    "\n",
    "def calculate_euclidean_distance(array1, array2):\n",
    "    print(array1-array2)\n",
    "    print(np.linalg.norm(array1 - array2))\n",
    "    return np.linalg.norm(array1 - array2)"
   ]
  },
  {
   "cell_type": "code",
   "execution_count": 386,
   "metadata": {},
   "outputs": [
    {
     "name": "stdout",
     "output_type": "stream",
     "text": [
      "[-3.32603406 -1.14146341 -4.05145867  2.65943878 -0.54001617 -8.5\n",
      " -8.29129373 -7.71359223 -6.24252223 -5.40381356]\n",
      "17.458789547564226\n",
      "[ -5.1793161   -0.66165414  -3.1040146   -0.77639485  -0.04264214\n",
      " -10.          -7.93839662  -7.2638191   -2.52585488 -12.20933219]\n",
      "20.21711056571436\n",
      "[ 3.05798749  6.84815864 -6.486731    6.44921191  5.29312354  1.60451306\n",
      "  3.57685564  1.95963616  3.25069061 -2.22564103]\n",
      "14.236036462140259\n",
      "[-4.49491525  8.47238743  0.54739933  1.70373514 -0.76666667 -6.29539531\n",
      "  1.55012637 -2.4488255  -1.531875   -5.0994941 ]\n",
      "13.12093252564493\n",
      "[ 2.64644513  5.42365675  2.53953488 -2.43115519  5.71761055  5.4968652\n",
      "  4.06700429  2.53314807  3.26822917  0.56295108]\n",
      "12.068209213860964\n",
      "[-4.49491525  8.47238743 -3.95260067 -2.79626486 -0.76666667 -6.29539531\n",
      " -7.44987363  0.5511745  -1.531875   -5.0994941 ]\n",
      "15.485587893970806\n",
      "[ 0.05798749 -2.15184136  2.513269   -2.55078809 -3.70687646  1.60451306\n",
      " -5.42314436 -1.04036384  1.00069061 -6.72564103]\n",
      "10.511931342345116\n",
      "[-3.32603406 -1.14146341 -4.05145867  2.65943878  8.45998383  0.5\n",
      "  0.70870627 -7.71359223 -6.24252223 -0.90381356]\n",
      "14.403521520106661\n",
      "[-0.44777595  3.110668   -6.44141145  6.33106538  1.80330579 -7.68198347\n",
      " -7.56276913  1.91836055 -0.16379881  2.45205942]\n",
      "14.853643337154493\n",
      "[-6.35355487 -3.57634325 -1.96046512 -6.93115519 -3.28238945  5.4968652\n",
      " -4.93299571 -6.46685193 -1.23177083 -8.43704892]\n",
      "16.878610969260226\n",
      "[-2.94201251 -2.15184136 -1.986731    1.94921191  3.29312354 -0.39548694\n",
      "  1.57685564 -1.04036384  1.00069061 -6.72564103]\n",
      "9.046431234853193\n",
      "[ 0.8206839   8.33834586  1.3959854   8.22360515  8.95735786 -1.\n",
      "  1.06160338 -1.2638191  -2.52585488  1.29066781]\n",
      "15.224396777984918\n",
      "[ 0.8206839   8.33834586  1.3959854   8.22360515  8.95735786 -1.\n",
      "  1.06160338 -1.2638191  -2.52585488  1.29066781]\n",
      "15.224396777984918\n",
      "[ 1.50508475 -0.52761257  0.54739933  6.20373514  8.23333333  2.70460469\n",
      " -1.44987363 -2.4488255  -6.031875   -0.5994941 ]\n",
      "12.699373381497612\n",
      "[ -5.1793161    8.33834586  -3.1040146   -0.77639485  -0.04264214\n",
      " -10.          -7.93839662  -7.2638191   -2.52585488  -7.70933219]\n",
      "19.702481962032135\n",
      "[-0.44777595  3.110668   -1.94141145  1.83106538 -2.19669421 -2.68198347\n",
      " -2.56276913 -4.08163945  2.08620119 -2.04794058]\n",
      "7.796858381655531\n",
      "[-1.49491525  8.47238743 -3.95260067 -2.79626486 -0.76666667 -6.29539531\n",
      " -7.44987363 -8.4488255  -1.531875   -5.0994941 ]\n",
      "17.114695438624494\n",
      "[ 2.55222405 -5.889332    2.55858855  6.33106538  1.80330579  1.31801653\n",
      "  1.43723087 -1.08163945  2.08620119 -2.04794058]\n",
      "10.227306349164078\n",
      "[ 2.55222405 -5.889332    2.55858855  1.83106538  1.80330579  1.31801653\n",
      "  1.43723087 -1.08163945  2.08620119  2.45205942]\n",
      "8.347858496848373\n",
      "[-4.49491525  8.47238743 -3.95260067 -2.79626486 -0.76666667 -6.29539531\n",
      " -7.44987363 -2.4488255  -1.531875   -5.0994941 ]\n",
      "15.668324270387993\n",
      "[-0.32603406  7.85853659  0.44854133  7.15943878  8.45998383  0.5\n",
      "  0.70870627 -4.71359223  0.50747777  3.59618644]\n",
      "14.867860697648311\n",
      "[-0.44777595  3.110668   -6.44141145  6.33106538 -7.19669421 -7.68198347\n",
      " -7.56276913  1.91836055 -0.16379881 -2.04794058]\n",
      "16.350922955031045\n",
      "[ 0.05798749 -2.15184136  2.513269   -2.55078809 -3.70687646 -7.39548694\n",
      " -5.42314436 -1.04036384  1.00069061 -6.72564103]\n",
      "12.75223374126209\n",
      "[-6.35355487 -3.57634325 -1.96046512 -6.93115519 -3.28238945 -3.5031348\n",
      " -4.93299571 -6.46685193  1.01822917 -3.93704892]\n",
      "14.518265239941863\n",
      "[-4.11128478  8.53297906  4.09065066  2.84590009  8.7709375   0.61022264\n",
      "  0.57626057  0.65988736 -0.63773437  3.75213675]\n",
      "14.391019543076439\n",
      "[ 0.05798749 -2.15184136  2.513269   -2.55078809 -3.70687646 -7.39548694\n",
      " -5.42314436 -1.04036384 -1.24930939 -6.72564103]\n",
      "12.77414802078701\n",
      "[-3.32603406 -1.14146341 -4.05145867  2.65943878  8.45998383 -8.5\n",
      " -8.29129373 -7.71359223 -3.99252223 -5.40381356]\n",
      "18.78989599223583\n",
      "[-1.11128478  8.53297906 -0.40934934  2.84590009 -0.2290625   0.61022264\n",
      "  0.57626057 -8.34011264 -2.88773437 -9.74786325]\n",
      "15.999613863303075\n",
      "[-2.94201251 -2.15184136  2.513269   -2.55078809 -3.70687646 -7.39548694\n",
      "  3.57685564 -1.04036384  1.00069061 -6.72564103]\n",
      "12.436034012256496\n",
      "[ -5.1793161   -0.66165414  -3.1040146   -0.77639485  -0.04264214\n",
      " -10.          -7.93839662  -7.2638191   -2.52585488 -12.20933219]\n",
      "20.21711056571436\n",
      "[-3.32603406 -1.14146341 -4.05145867 -1.84056122 -0.54001617 -8.5\n",
      " -8.29129373 -7.71359223 -6.24252223 -5.40381356]\n",
      "17.352935875134964\n",
      "[-0.35355487 -3.57634325 -1.96046512 -2.43115519  3.71761055 -3.5031348\n",
      "  2.06700429 -0.46685193 -3.48177083  0.56295108]\n",
      "8.105051033991884\n",
      "[ 0.05798749 -2.15184136  2.513269   -2.55078809 -3.70687646 -7.39548694\n",
      " -5.42314436 -1.04036384 -1.24930939 -6.72564103]\n",
      "12.77414802078701\n",
      "[-7.49491525 -0.52761257  0.54739933  6.20373514  8.23333333  2.70460469\n",
      "  1.55012637 -8.4488255  -6.031875   -0.5994941 ]\n",
      "16.759153412783554\n",
      "[-1.11128478  8.53297906 -0.40934934 -1.65409991 -0.2290625  -8.38977736\n",
      " -8.42373943 -5.34011264 -2.88773437 -9.74786325]\n",
      "18.714357303843585\n",
      "[ -5.1793161   -0.66165414  -3.1040146   -0.77639485   8.95735786\n",
      "  -1.           1.06160338  -7.2638191    1.97414512 -12.20933219]\n",
      "18.044117267015082\n",
      "[ 0.05798749 -2.15184136  2.513269   -2.55078809  5.29312354  1.60451306\n",
      "  3.57685564 -1.04036384 -1.24930939 -6.72564103]\n",
      "10.426874800589768\n",
      "[-0.44777595  3.110668   -6.44141145  1.83106538 -7.19669421 -7.68198347\n",
      " -7.56276913 -7.08163945 -0.16379881 -2.04794058]\n",
      "16.646098737980328\n",
      "[-1.11128478  8.53297906 -0.40934934 -1.65409991 -0.2290625  -8.38977736\n",
      " -8.42373943 -5.34011264 -2.88773437 -9.74786325]\n",
      "18.714357303843585\n",
      "[2.64644513 5.42365675 2.53953488 2.06884481 5.71761055 5.4968652\n",
      " 4.06700429 2.53314807 3.26822917 0.56295108]\n",
      "12.000469861498336\n",
      "[-3.32603406 -1.14146341 -4.05145867  2.65943878 -0.54001617 -8.5\n",
      " -8.29129373 -7.71359223 -6.24252223 -5.40381356]\n",
      "17.458789547564226\n",
      "[-6.35355487 -3.57634325 -1.96046512 -6.93115519 -3.28238945 -3.5031348\n",
      " -4.93299571 -6.46685193 -1.23177083 -8.43704892]\n",
      "16.338418974427118\n",
      "[-6.32603406 -1.14146341 -4.05145867  2.65943878  8.45998383  0.5\n",
      "  0.70870627 -7.71359223 -3.99252223 -5.40381356]\n",
      "15.549054908682253\n",
      "[ 1.50508475  8.47238743 -3.95260067 -2.79626486  8.23333333  2.70460469\n",
      "  1.55012637 -8.4488255  -1.531875   -5.0994941 ]\n",
      "16.57493491757089\n",
      "[-6.44777595  3.110668   -6.44141145 -2.66893462  1.80330579  1.31801653\n",
      "  1.43723087 -7.08163945  2.08620119  2.45205942]\n",
      "12.939637691218111\n",
      "[-1.11128478  8.53297906 -0.40934934 -1.65409991 -0.2290625   0.61022264\n",
      "  0.57626057 -8.34011264 -2.88773437 -9.74786325]\n",
      "15.831125763082788\n",
      "[-0.35355487 -3.57634325 -1.96046512 -2.43115519 -3.28238945 -3.5031348\n",
      "  4.06700429 -0.46685193 -3.48177083 -3.93704892]\n",
      "9.491931413018937\n",
      "[-1.11128478  8.53297906 -0.40934934 -1.65409991  8.7709375   0.61022264\n",
      "  0.57626057 -8.34011264 -0.63773437 -9.74786325]\n",
      "17.87649611190749\n",
      "[-0.44777595  3.110668   -6.44141145 -2.66893462 -7.19669421 -7.68198347\n",
      " -7.56276913  1.91836055 -0.16379881 -2.04794058]\n",
      "15.309915237559665\n",
      "[ -5.1793161   -0.66165414  -3.1040146   -0.77639485  -0.04264214\n",
      " -10.          -7.93839662  -7.2638191   -2.52585488 -12.20933219]\n",
      "20.21711056571436\n",
      "[-6.35355487  5.42365675 -1.96046512 -6.93115519 -3.28238945 -3.5031348\n",
      " -4.93299571 -6.46685193  1.01822917 -3.93704892]\n",
      "15.079981664182164\n",
      "[-4.11128478  8.53297906  4.09065066  2.84590009  8.7709375   0.61022264\n",
      "  0.57626057  0.65988736 -0.63773437  3.75213675]\n",
      "14.391019543076439\n",
      "[ 2.55222405  3.110668   -1.94141145  1.83106538 -7.19669421 -2.68198347\n",
      " -2.56276913 -4.08163945  2.08620119  2.45205942]\n",
      "10.765213507518727\n",
      "[-7.11128478  8.53297906 -0.40934934 -1.65409991 -0.2290625  -8.38977736\n",
      " -8.42373943 -5.34011264 -2.88773437 -9.74786325]\n",
      "19.98906167417159\n",
      "[-0.32603406  7.85853659  0.44854133  7.15943878  8.45998383  0.5\n",
      "  0.70870627 -1.71359223  0.50747777  3.59618644]\n",
      "14.204637564071005\n",
      "[ -5.1793161   -0.66165414  -3.1040146   -0.77639485  -0.04264214\n",
      " -10.          -7.93839662  -7.2638191   -2.52585488 -12.20933219]\n",
      "20.21711056571436\n",
      "[-1.49491525 -0.52761257 -3.95260067  1.70373514 -0.76666667  0.70460469\n",
      "  1.55012637 -2.4488255  -3.781875   -5.0994941 ]\n",
      "8.41606881967675\n",
      "[-1.11128478  8.53297906 -0.40934934  2.84590009  0.7709375   0.61022264\n",
      "  0.57626057 -5.34011264 -2.88773437 -9.74786325]\n",
      "14.679538239672048\n",
      "[ -5.1793161   -0.66165414  -3.1040146   -0.77639485  -0.04264214\n",
      " -10.          -7.93839662  -7.2638191   -2.52585488  -7.70933219]\n",
      "17.86330232348688\n",
      "[-6.35355487  5.42365675 -1.96046512 -6.93115519  5.71761055  5.4968652\n",
      "  4.06700429 -6.46685193 -1.23177083 -3.93704892]\n",
      "16.12305667227168\n",
      "[-6.32603406 -1.14146341 -4.05145867  2.65943878 -0.54001617 -8.5\n",
      " -8.29129373 -7.71359223 -6.24252223 -5.40381356]\n",
      "18.269251129854776\n",
      "[ 3.05798749  6.84815864 -6.486731    6.44921191  5.29312354  1.60451306\n",
      "  3.57685564  1.95963616  3.25069061 -2.22564103]\n",
      "14.236036462140259\n",
      "[-1.49491525  8.47238743 -3.95260067 -2.79626486 -0.76666667 -6.29539531\n",
      " -7.44987363 -8.4488255  -1.531875   -5.0994941 ]\n",
      "17.114695438624494\n"
     ]
    },
    {
     "name": "stderr",
     "output_type": "stream",
     "text": [
      "/tmp/ipykernel_677/1394537973.py:1: SettingWithCopyWarning:\n",
      "\n",
      "\n",
      "A value is trying to be set on a copy of a slice from a DataFrame.\n",
      "Try using .loc[row_indexer,col_indexer] = value instead\n",
      "\n",
      "See the caveats in the documentation: https://pandas.pydata.org/pandas-docs/stable/user_guide/indexing.html#returning-a-view-versus-a-copy\n",
      "\n"
     ]
    }
   ],
   "source": [
    "df_22_non_india['dist'] = df_22_non_india.apply(lambda x: calculate_euclidean_distance(x['real'], x['score']), axis=1)"
   ]
  },
  {
   "cell_type": "code",
   "execution_count": 352,
   "metadata": {},
   "outputs": [],
   "source": [
    "df_22_non_india[[\n",
    "    'model', 'language', 'with_country', 'dist'\n",
    "]].groupby(['model', 'language', 'with_country']).mean().T.to_excel(\"play2/test.xlsx\")"
   ]
  },
  {
   "cell_type": "code",
   "execution_count": 356,
   "metadata": {},
   "outputs": [
    {
     "data": {
      "text/plain": [
       "array([3.67396594, 8.85853659, 1.44854133, 8.15943878, 9.45998383,\n",
       "       1.5       , 1.70870627, 2.28640777, 3.75747777, 4.59618644])"
      ]
     },
     "execution_count": 356,
     "metadata": {},
     "output_type": "execute_result"
    }
   ],
   "source": [
    "df_22['real'][2]"
   ]
  },
  {
   "cell_type": "code",
   "execution_count": 363,
   "metadata": {},
   "outputs": [],
   "source": [
    "df_22_non_country = df_22[~df_22.with_country]"
   ]
  },
  {
   "cell_type": "code",
   "execution_count": 374,
   "metadata": {},
   "outputs": [
    {
     "name": "stderr",
     "output_type": "stream",
     "text": [
      "/tmp/ipykernel_677/2340520960.py:1: SettingWithCopyWarning:\n",
      "\n",
      "\n",
      "A value is trying to be set on a copy of a slice from a DataFrame.\n",
      "Try using .loc[row_indexer,col_indexer] = value instead\n",
      "\n",
      "See the caveats in the documentation: https://pandas.pydata.org/pandas-docs/stable/user_guide/indexing.html#returning-a-view-versus-a-copy\n",
      "\n"
     ]
    }
   ],
   "source": [
    "df_22_non_country['enscore'] = df_22_non_country.apply(lambda x: (df_22_non_country[(df_22_non_country.language == 'en') & (df_22_non_country.model == x['model'])]['score'].values[0]), axis=1)"
   ]
  },
  {
   "cell_type": "code",
   "execution_count": 376,
   "metadata": {},
   "outputs": [
    {
     "name": "stderr",
     "output_type": "stream",
     "text": [
      "/tmp/ipykernel_677/3029606173.py:1: SettingWithCopyWarning:\n",
      "\n",
      "\n",
      "A value is trying to be set on a copy of a slice from a DataFrame.\n",
      "Try using .loc[row_indexer,col_indexer] = value instead\n",
      "\n",
      "See the caveats in the documentation: https://pandas.pydata.org/pandas-docs/stable/user_guide/indexing.html#returning-a-view-versus-a-copy\n",
      "\n"
     ]
    }
   ],
   "source": [
    "df_22_non_country['euc_en'] = df_22_non_country.apply(lambda x: calculate_euclidean_distance(x['enscore'], x['score']), axis=1)"
   ]
  },
  {
   "cell_type": "code",
   "execution_count": 379,
   "metadata": {},
   "outputs": [],
   "source": [
    "df_22_non_country[['model','language', 'euc_en']].groupby(['model', 'language']).mean().to_excel(\"play2/euc_en.xlsx\")"
   ]
  },
  {
   "cell_type": "code",
   "execution_count": 388,
   "metadata": {},
   "outputs": [],
   "source": [
    "from matplotlib import pyplot as plt"
   ]
  },
  {
   "cell_type": "code",
   "execution_count": 389,
   "metadata": {},
   "outputs": [
    {
     "data": {
      "image/png": "[encoded data removed]",
      "text/plain": [
       "<Figure size 1400x1000 with 1 Axes>"
      ]
     },
     "metadata": {},
     "output_type": "display_data"
    }
   ],
   "source": [
    "# Let's correct the DataFrame creation according to the structure in the provided code snippet.\n",
    "import seaborn as sns\n",
    "\n",
    "import numpy as np\n",
    "\n",
    "data = {\n",
    "    'Target Country': ['United States', 'Ecuador', 'Egypt', 'Nigeria', 'Indonesia', 'China', 'Russia'],\n",
    "    'Languages': ['ENGLISH', 'SPANISH', 'ARABIC', 'HAUSA', 'INDONESIAN', 'MANDARIN', 'RUSSIAN'],\n",
    "    'MISTRAL Non-country prompt': [9.49, 13.12, 20.22, 18.79, 16.00, 10.77, 12.44],\n",
    "    'MISTRAL Country prompt': [8.11, 8.42, 20.22, 14.40, 14.68, 7.80, 9.05],\n",
    "    'SAILOR Non-country prompt': [15.08, 15.49, 19.70, 18.27, 18.71, 14.85, 12.77],\n",
    "    'SAILOR Country prompt': [14.52, 15.67, 17.86, 17.46, 18.71, 16.65, 12.77],\n",
    "    'QWEN Non-country prompt': [16.88, 17.11, 20.22, 17.35, 15.83, 16.35, 12.75],\n",
    "    'QWEN Country prompt': [16.34, 17.11, 20.22, 17.46, 19.99, 15.31, 10.51]\n",
    "}\n",
    "\n",
    "\n",
    "# Reformatting the DataFrame with a MultiIndex for columns to match the given structure\n",
    "df = pd.DataFrame(data, columns=['Target Country', 'Languages', 'MISTRAL Non-country prompt',\n",
    "                                 'MISTRAL Country prompt', 'SAILOR Non-country prompt',\n",
    "                                 'SAILOR Country prompt', 'QWEN Non-country prompt',\n",
    "                                 'QWEN Country prompt'])\n",
    "\n",
    "df.set_index(['Target Country', 'Languages'], inplace=True)\n",
    "df.columns = pd.MultiIndex.from_product([['MISTRAL', 'SAILOR', 'QWEN'], ['Non-country prompt', 'Country prompt']])\n",
    "\n",
    "# Reshaping the data for seaborn's barplot\n",
    "df_melted = df.melt(ignore_index=False).reset_index()\n",
    "df_melted.columns = ['Country', 'Language', 'Model', 'Prompt Type', 'Euclidean Distance']\n",
    "\n",
    "# Since the 'Language' column is not needed for the plot, we can drop it\n",
    "df_melted.drop('Language', axis=1, inplace=True)\n",
    "\n",
    "# Create a barplot\n",
    "plt.figure(figsize=(14, 10))\n",
    "barplot = sns.barplot(x='Country', y='Euclidean Distance', hue='Model', data=df_melted, palette='viridis')\n",
    "\n",
    "# Enhancements\n",
    "plt.xticks(rotation=45)\n",
    "plt.title('Euclidean Distance from Mean for Language Models by Country and Prompt Type')\n",
    "plt.ylabel('Euclidean Distance')\n",
    "plt.xlabel('Country')\n",
    "plt.legend(title='Model and Prompt Type', loc='upper right')\n",
    "\n",
    "plt.tight_layout()  # Adjust layout to fit better\n",
    "plt.show()\n"
   ]
  },
  {
   "cell_type": "code",
   "execution_count": 392,
   "metadata": {},
   "outputs": [
    {
     "data": {
      "image/png": "[encoded data removed]",
      "text/plain": [
       "<Figure size 1400x1000 with 1 Axes>"
      ]
     },
     "metadata": {},
     "output_type": "display_data"
    },
    {
     "name": "stderr",
     "output_type": "stream",
     "text": [
      "No artists with labels found to put in legend.  Note that artists whose label start with an underscore are ignored when legend() is called with no argument.\n"
     ]
    },
    {
     "data": {
      "image/png": "[encoded data removed]",
      "text/plain": [
       "<Figure size 640x480 with 1 Axes>"
      ]
     },
     "metadata": {},
     "output_type": "display_data"
    }
   ],
   "source": [
    "# Let's correct the DataFrame to separate the data according to 'Non-country prompt' and 'Country prompt'.\n",
    "\n",
    "# Adjusting the MultiIndex to separate Non-country and Country prompts\n",
    "df.columns = pd.MultiIndex.from_product([['MISTRAL', 'SAILOR', 'QWEN'], ['Non-country prompt', 'Country prompt']], names=['Model', 'Prompt Type'])\n",
    "\n",
    "# Reshaping the data for seaborn's barplot\n",
    "df_melted = df.melt(ignore_index=False).reset_index()\n",
    "df_melted.columns = ['Country', 'Language', 'Model', 'Prompt Type', 'Euclidean Distance']\n",
    "\n",
    "# Since the 'Language' column is not needed for the plot, we can drop it\n",
    "df_melted.drop('Language', axis=1, inplace=True)\n",
    "\n",
    "# Creating a combined column for Model and Prompt Type for the hue in seaborn\n",
    "df_melted['Model & Prompt'] = df_melted['Model'] + ' ' + df_melted['Prompt Type']\n",
    "\n",
    "# Create a barplot\n",
    "plt.figure(figsize=(14, 10))\n",
    "barplot = sns.barplot(x='Country', y='Euclidean Distance', hue='Model & Prompt', data=df_melted, palette='viridis')\n",
    "\n",
    "# Enhancements\n",
    "plt.xticks(rotation=45)\n",
    "plt.title('Euclidean Distance from Mean for Language Models by Country and Prompt Type')\n",
    "plt.ylabel('Euclidean Distance')\n",
    "plt.xlabel('Country')\n",
    "plt.legend(title='Model & Prompt Type', loc='upper right')\n",
    "\n",
    "plt.tight_layout()  # Adjust layout to fit better\n",
    "plt.show()\n",
    "\n",
    "\n",
    "\n",
    "# Enhancements\n",
    "\n",
    "plt.xticks(rotation=45)\n",
    "\n",
    "plt.title('Euclidean Distance from Mean for Language Models by Country and Prompt Type')\n",
    "\n",
    "plt.ylabel('Euclidean Distance')\n",
    "\n",
    "plt.xlabel('Country')\n",
    "\n",
    "plt.legend(title='Model & Prompt Type', loc='upper right')\n",
    "\n",
    "\n",
    "\n",
    "plt.tight_layout()  # Adjust layout to fit better\n",
    "\n",
    "plt.show()"
   ]
  },
  {
   "cell_type": "code",
   "execution_count": 398,
   "metadata": {},
   "outputs": [
    {
     "data": {
      "image/png": "[encoded data removed]",
      "text/plain": [
       "<Figure size 1400x1000 with 1 Axes>"
      ]
     },
     "metadata": {},
     "output_type": "display_data"
    }
   ],
   "source": [
    "# Adjusting the color palette to increase contrast between different models for clarity\n",
    "palette = [\"#FF9999\", \"#FFCCCC\", \"#66B2FF\", \"#99CCFF\", \"#99FF99\", \"#CCFFCC\"]\n",
    "df_melted['Model-Prompt'] = df_melted[['Model', 'Prompt Type']].agg('-'.join, axis=1)\n",
    "\n",
    "# Create a barplot with a more contrasting color palette\n",
    "plt.figure(figsize=(14, 10))\n",
    "barplot = sns.barplot(\n",
    "    x='Country', \n",
    "    y='Euclidean Distance', \n",
    "    hue='Model-Prompt', \n",
    "    data=df_melted, \n",
    "    palette=palette\n",
    ")\n",
    "\n",
    "# Enhancements\n",
    "plt.xticks(rotation=45)\n",
    "plt.title('Euclidean Distance from Mean for Language Models by Country and Prompt Type')\n",
    "plt.ylabel('Euclidean Distance')\n",
    "plt.xlabel('Country')\n",
    "plt.legend(title='Model & Prompt Type', loc='upper right', bbox_to_anchor=(1.05, 1))\n",
    "\n",
    "plt.tight_layout()  # Adjust layout to fit better\n",
    "plt.show()\n"
   ]
  },
  {
   "cell_type": "code",
   "execution_count": null,
   "metadata": {},
   "outputs": [],
   "source": []
  }
 ],
 "metadata": {
  "kernelspec": {
   "display_name": "sensei",
   "language": "python",
   "name": "python3"
  },
  "language_info": {
   "codemirror_mode": {
    "name": "ipython",
    "version": 3
   },
   "file_extension": ".py",
   "mimetype": "text/x-python",
   "name": "python",
   "nbconvert_exporter": "python",
   "pygments_lexer": "ipython3",
   "version": "3.11.5"
  }
 },
 "nbformat": 4,
 "nbformat_minor": 2
}
